{
  "cells": [
    {
      "cell_type": "markdown",
      "metadata": {},
      "source": [
        "# <font color='red'>IMPORTANT\n",
        "This jupyter notebook served as a development platform and was used in google colab and later locally. The results for the Occupancy Detection part in the Evaluation part of the thesis are taken from this notebook.</font>"
      ]
    },
    {
      "cell_type": "markdown",
      "metadata": {
        "id": "ym4sQdGDhWaR"
      },
      "source": [
        "## Import libraries"
      ]
    },
    {
      "cell_type": "code",
      "execution_count": 1,
      "metadata": {
        "id": "BogR2rBz4sR6"
      },
      "outputs": [],
      "source": [
        "import wandb\n",
        "from wandb.keras import WandbCallback\n",
        "\n",
        "import tensorflow as tf\n",
        "from tensorflow import keras\n",
        "from keras.preprocessing.image import apply_affine_transform\n",
        "from sklearn.metrics import ConfusionMatrixDisplay, confusion_matrix\n",
        "import matplotlib.pyplot as plt\n",
        "%matplotlib inline\n",
        "\n",
        "import os\n",
        "import cv2\n",
        "import mmap\n",
        "import math\n",
        "import random\n",
        "import numpy as np\n",
        "from tqdm.notebook import tqdm\n",
        "from collections import Counter"
      ]
    },
    {
      "cell_type": "code",
      "execution_count": 2,
      "metadata": {},
      "outputs": [
        {
          "name": "stdout",
          "output_type": "stream",
          "text": [
            "GPU is available\n"
          ]
        }
      ],
      "source": [
        "print(\"GPU is\", \"available\" if tf.config.list_physical_devices('GPU') else \"NOT AVAILABLE\")"
      ]
    },
    {
      "cell_type": "markdown",
      "metadata": {},
      "source": [
        "# Helper functions"
      ]
    },
    {
      "cell_type": "code",
      "execution_count": 4,
      "metadata": {
        "id": "wv8NTy-k4mjm"
      },
      "outputs": [],
      "source": [
        "def count_file_lines(dataset_path:str) -> int:\n",
        "  file_path = dataset_path if '.txt' in dataset_path else os.path.join(OCD_DATA_DIR, 'splits', dataset_path, 'all.txt')\n",
        "  fp = open(file_path, 'r+')\n",
        "  buf = mmap.mmap(fp.fileno(), 0)\n",
        "  lines = 0\n",
        "  while buf.readline():\n",
        "    lines += 1\n",
        "\n",
        "  return lines"
      ]
    },
    {
      "cell_type": "code",
      "execution_count": 5,
      "metadata": {
        "id": "tJW5HYkGwZTS"
      },
      "outputs": [],
      "source": [
        "def check_all_files_exist(dataset_path:str) -> list:\n",
        "  invalid_paths = list()\n",
        "  with open(os.path.join(OCD_DATA_DIR, 'splits', dataset_path, 'all.txt')) as f:\n",
        "    for line in tqdm(f, total=count_file_lines(dataset_path)):\n",
        "      image_path = os.path.join(OCD_DATA_DIR, dataset_path, line.split()[0])\n",
        "      if not os.path.exists(image_path):\n",
        "        invalid_paths.append(image_path)\n",
        "        print(image_path)\n",
        "\n",
        "  return invalid_paths"
      ]
    },
    {
      "cell_type": "code",
      "execution_count": 3,
      "metadata": {
        "id": "CnR6BsygFhi2"
      },
      "outputs": [],
      "source": [
        "def init(verify_files_exist:bool=False) -> None:\n",
        "  # initialize directory paths\n",
        "  global OCD_DATA_DIR, CNRParkAB_PATH, CNRParkEXT_PATH, PKLot_PATH, SvJur_PATH\n",
        "  DIR_PREFIX = 'C:\\\\Users\\\\krock\\\\My Drive\\\\DP'\n",
        "  OCD_DATA_DIR = os.path.join(DIR_PREFIX, 'Datasets\\\\OccupancyDetection')\n",
        "  CNRParkAB_PATH = 'CNRParkAB'\n",
        "  CNRParkEXT_PATH = 'CNRPark-EXT'\n",
        "  PKLot_PATH = 'PKLot\\\\PKLotSegmented'\n",
        "  SvJur_PATH = 'SvJur'\n",
        "  MODEL_PATH = os.path.join(DIR_PREFIX, 'Models\\\\keras_mAlexNet\\\\out_keras.h5')\n",
        "\n",
        "  # verify files exist\n",
        "  if verify_files_exist:\n",
        "    for d_path in [CNRParkAB_PATH, CNRParkEXT_PATH, PKLot_PATH, SvJur_PATH]:\n",
        "      missing_files = check_all_files_exist(d_path)\n",
        "      if missing_files: print(d_path, 'files missing:', missing_files)\n",
        "\n",
        "  # load keras model\n",
        "  global loaded_model, target_img_size\n",
        "  loaded_model = keras.models.load_model(MODEL_PATH)\n",
        "  target_img_size = loaded_model.inputs[0].shape[1:-1]\n",
        "\n",
        "  global labels_mapping\n",
        "  labels_mapping = {0: 'free', 1: 'occupied'}"
      ]
    },
    {
      "cell_type": "code",
      "execution_count": null,
      "metadata": {},
      "outputs": [],
      "source": [
        "init()"
      ]
    },
    {
      "cell_type": "markdown",
      "metadata": {
        "id": "xovjdyNz_04A"
      },
      "source": [
        "# Data"
      ]
    },
    {
      "cell_type": "code",
      "execution_count": 11,
      "metadata": {},
      "outputs": [],
      "source": [
        "def preprocess_image(filename:str, img_size:int=224, expand_dims:bool=True) -> np.array:\n",
        "    image = cv2.imread(filename, cv2.IMREAD_UNCHANGED) * 1. / 255\n",
        "    image = cv2.resize(image, (img_size, img_size))\n",
        "    image = np.expand_dims(image, axis=0) if expand_dims else image\n",
        "    return image"
      ]
    },
    {
      "cell_type": "code",
      "execution_count": 8,
      "metadata": {},
      "outputs": [],
      "source": [
        "def right_angle_rotate(input_image):\n",
        "    angle = random.choice([0, 90, 180, 270])\n",
        "    if angle != 0:\n",
        "        input_image = apply_affine_transform(input_image, theta=angle)\n",
        "    return input_image"
      ]
    },
    {
      "cell_type": "code",
      "execution_count": 9,
      "metadata": {
        "id": "eHFIegwRzyxH"
      },
      "outputs": [],
      "source": [
        "def image_generator(input_path:str, bs:int, subdir_path:str='', mode:str='train', img_size:int=224):\n",
        "\tfile_path = input_path if '.txt' in input_path else os.path.join(OCD_DATA_DIR, 'splits', input_path, subdir_path, 'all.txt')\n",
        "\tf = open(file_path, 'r')\n",
        "\n",
        "\twhile True:\n",
        "\t\timages = []\n",
        "\t\tlabels = []\n",
        "\n",
        "\t\twhile len(images) < bs:\n",
        "\t\t\tline = f.readline()\n",
        "\t\t\tif line == '':\n",
        "\t\t\t\tf.seek(0)\n",
        "\t\t\t\tline = f.readline()\n",
        "\t\t\t\tif mode == 'eval':\n",
        "\t\t\t\t\tbreak\n",
        "\n",
        "\t\t\timage_path, label = line.strip().split(' ')\n",
        "\t\t\timage_path = os.path.join(OCD_DATA_DIR, image_path) if '.txt' in input_path else os.path.join(OCD_DATA_DIR, input_path, image_path)\n",
        "\n",
        "\t\t\timage = cv2.imread(image_path, cv2.IMREAD_UNCHANGED) * 1. / 255\n",
        "\t\t\timage = cv2.resize(image, (img_size, img_size))\n",
        "\n",
        "\t\t\timages.append(image)\n",
        "\t\t\tlabels.append(label)\n",
        "\n",
        "\n",
        "\t\t# rotate randomly by 90, 180, 270 degrees\n",
        "\t\tif mode == 'train':\n",
        "\t\t\timages = [right_angle_rotate(image) for image in images]\n",
        "\n",
        "\t\t# randomly shuffle\n",
        "\t\ttemp = list(zip(images, labels))\n",
        "\t\trandom.shuffle(temp)\n",
        "\t\timages, labels = zip(*temp)\t# tuples\n",
        "\t\timages, labels = list(images), list(labels)\t# convert to lists\n",
        "\n",
        "\t\tyield (np.array(images), np.array(labels).astype('uint8'))"
      ]
    },
    {
      "cell_type": "code",
      "execution_count": 10,
      "metadata": {},
      "outputs": [],
      "source": [
        "def count_labels_occurence(dataset_path:str='', labels_list:list=None):\n",
        "    if dataset_path != '':\n",
        "        file_path = dataset_path if '.txt' in dataset_path else os.path.join(OCD_DATA_DIR, 'splits', dataset_path, 'all.txt')\n",
        "        with open(file_path, 'r') as f:\n",
        "            return Counter([line.strip().split(' ')[1] for line in f.readlines()])\n",
        "    elif labels_list:\n",
        "        return Counter([line.strip().split(' ')[1] for line in labels_list])"
      ]
    },
    {
      "cell_type": "code",
      "execution_count": null,
      "metadata": {},
      "outputs": [],
      "source": [
        "print('CNRParkAB labels', count_labels_occurence(CNRParkAB_PATH))\n",
        "print('CNRParkEXT labels',  count_labels_occurence(CNRParkEXT_PATH))\n",
        "print('PKLot labels',  count_labels_occurence(PKLot_PATH))\n",
        "print('SvJur labels',  count_labels_occurence(SvJur_PATH))\n",
        "print('Ultimate train', count_labels_occurence(os.path.join(OCD_DATA_DIR, 'splits', 'random', 'train.txt')))\n",
        "print('Ultimate validation', count_labels_occurence(os.path.join(OCD_DATA_DIR, 'splits', 'random', 'validation.txt')))\n",
        "print('Ultimate test', count_labels_occurence(os.path.join(OCD_DATA_DIR, 'splits', 'random', 'test.txt')))"
      ]
    },
    {
      "cell_type": "code",
      "execution_count": 41,
      "metadata": {},
      "outputs": [],
      "source": [
        "def create_ultimate_txt_file(d_paths:list, val_split_ratio:float=0.8):\n",
        "    train_lines_final, validation_lines_final, test_dataset = [], [], []\n",
        "\n",
        "    for d_path in d_paths:\n",
        "        filepath = os.path.join(OCD_DATA_DIR, 'splits', d_path, 'all.txt')\n",
        "\n",
        "        with open(filepath, 'r') as f:\n",
        "            lines = [os.path.join(d_path, line) for line in f.readlines()]\n",
        "\n",
        "        labels_0 = [line for line in lines if line.strip().endswith('0')]\n",
        "        labels_1 = [line for line in lines if line.strip().endswith('1')]\n",
        "\n",
        "        # heavily inbalanced dataset\n",
        "        if 'SvJur' in filepath:\n",
        "            random.shuffle(labels_0)\n",
        "            labels_0 = labels_0[:len(labels_1)]\n",
        "            assert len(labels_0) == len(labels_1)\n",
        "\n",
        "        # reduce sample size from PKLot\n",
        "        if 'PKLot' in filepath:\n",
        "            random.shuffle(labels_0)\n",
        "            random.shuffle(labels_1)\n",
        "            labels_0 = labels_0[:int(len(labels_0) / 2)]\n",
        "            labels_1 = labels_1[:int(len(labels_1) / 2)]\n",
        "\n",
        "        # split using validation ratio\n",
        "        limit_label_0 = int(len(labels_0) * val_split_ratio)\n",
        "        limit_label_1 = int(len(labels_1) * val_split_ratio)\n",
        "\n",
        "        # equal distribution - half of label 0 + half of label 1\n",
        "        train_lines = labels_0[:limit_label_0] + labels_1[:limit_label_1]\n",
        "        validation_lines = labels_0[limit_label_0:] + labels_1[limit_label_1:]\n",
        "\n",
        "        if 'SvJur' not in filepath and 'PKLot' not in filepath:\n",
        "            assert len(train_lines + validation_lines) == count_file_lines(filepath)\n",
        "        train_lines_final += train_lines\n",
        "        validation_lines_final += validation_lines\n",
        "\n",
        "    # assert lists are mutually exclusive\n",
        "    assert len(set(train_lines_final + validation_lines_final)) == len(train_lines_final + validation_lines_final)\n",
        "\n",
        "    # equalize presence of 0 / 1 labels\n",
        "    for dataset, dataset_name in zip([train_lines_final, validation_lines_final], ['train', 'validation']):\n",
        "        random.shuffle(dataset)\n",
        "        labels_0 = [line for line in dataset if line.strip().endswith('0')]\n",
        "        labels_1 = [line for line in dataset if line.strip().endswith('1')]\n",
        "\n",
        "        if len(labels_0) > len(labels_1):\n",
        "            dataset = labels_0[:len(labels_1)] + labels_1\n",
        "        else:\n",
        "            dataset = labels_1[:len(labels_0)] + labels_0\n",
        "\n",
        "        # assert equal distribution of 0 / 1 labels\n",
        "        label_counts = count_labels_occurence(labels_list=dataset)\n",
        "        assert label_counts['0'] == label_counts['1']\n",
        "\n",
        "        if dataset_name == 'train':\n",
        "            test_dataset += list(set(train_lines_final) - set(dataset))\n",
        "        else:\n",
        "            test_dataset += list(set(validation_lines_final) - set(dataset))\n",
        "\n",
        "        # final shuffle and write to file\n",
        "        random.shuffle(dataset)\n",
        "        new_filepath = os.path.join(OCD_DATA_DIR, 'splits', 'random', f'{dataset_name}.txt')\n",
        "        open(new_filepath, 'w').writelines(dataset)\n",
        "\n",
        "    # create test dataset\n",
        "    random.shuffle(test_dataset)\n",
        "    new_filepath = os.path.join(OCD_DATA_DIR, 'splits', 'random', 'test.txt')\n",
        "    open(new_filepath, 'w').writelines(test_dataset)\n",
        "\n",
        "# create_ultimate_txt_file([CNRParkAB_PATH, CNRParkEXT_PATH, PKLot_PATH, SvJur_PATH])\n",
        "# create_ultimate_txt_file([CNRParkAB_PATH, PKLot_PATH, SvJur_PATH])"
      ]
    },
    {
      "cell_type": "code",
      "execution_count": null,
      "metadata": {},
      "outputs": [],
      "source": [
        "def create_merged_all_txt_file(dataset_1_path:str, dataset_2_path:str, ratio:int=1):\n",
        "    'First dataset has to be smaller than second dataset'\n",
        "    filepath_1 = os.path.join(OCD_DATA_DIR, 'splits', dataset_1_path, 'all.txt')\n",
        "    filepath_2 = os.path.join(OCD_DATA_DIR, 'splits', dataset_2_path, 'all.txt')\n",
        "    numlines_1 = count_file_lines(os.path.join(OCD_DATA_DIR, 'splits', dataset_1_path))\n",
        "\n",
        "    with open(filepath_1, 'r') as f1, open(filepath_2, 'r') as f2:\n",
        "        lines_1 = [os.path.join(dataset_1_path, line) for line in f1.readlines()]\n",
        "        lines_2 = [os.path.join(dataset_2_path, line) for line in f2.readlines()]\n",
        "\n",
        "        # balance 1st dataset label counts\n",
        "        counts_1 = count_labels_occurence(dataset_path=dataset_1_path)\n",
        "        lines_2_label_0 = [line for line in lines_2 if line.strip().endswith('0')]\n",
        "        lines_2_label_1 = [line for line in lines_2 if line.strip().endswith('1')]\n",
        "        lines_2_to_balance = lines_2_label_0[:counts_1['1']] + lines_2_label_1[:counts_1['0']]\n",
        "        \n",
        "        # check if counts match\n",
        "        counts_check = count_labels_occurence(labels_list=lines_1 + lines_2_to_balance)\n",
        "        assert counts_check['0'] == counts_check['1']\n",
        "\n",
        "        # merge initial dataset 1 with complementary part of dataset 2\n",
        "        balanced_lines = lines_1 + lines_2_to_balance\n",
        "\n",
        "        # fill up to ratio with 2nd dataset (balanced)\n",
        "        upper_limit = int(numlines_1 * (ratio - 1) / 2)\n",
        "        balanced_lines_2 = lines_2_label_0[counts_1['1']:upper_limit + counts_1['1']] + lines_2_label_1[counts_1['0']:upper_limit + counts_1['0']]\n",
        "        final_lines = balanced_lines + balanced_lines_2\n",
        "\n",
        "        # check if counts match\n",
        "        final_counts_check = count_labels_occurence(labels_list=final_lines)\n",
        "        assert final_counts_check['0'] == final_counts_check['1']\n",
        "\n",
        "        random.shuffle(final_lines)\n",
        "\n",
        "        ratio_string = '1_to_' + str(ratio)\n",
        "        new_filepath = os.path.join(OCD_DATA_DIR, 'splits', 'random', dataset_1_path + '_' + dataset_2_path.split('\\\\')[0] + '_' + ratio_string + '.txt')\n",
        "        open(new_filepath, 'w').writelines(final_lines)\n",
        "\n",
        "# create_merged_all_txt_file(SvJur_PATH, PKLot_PATH, ratio=4)"
      ]
    },
    {
      "cell_type": "markdown",
      "metadata": {
        "id": "qond89cYLaMJ"
      },
      "source": [
        "# RUN"
      ]
    },
    {
      "cell_type": "code",
      "execution_count": 17,
      "metadata": {
        "id": "qWznyhz-ZFZi"
      },
      "outputs": [
        {
          "name": "stdout",
          "output_type": "stream",
          "text": [
            "Epochs 72\n",
            "StepsPerEpoch 20\n",
            "NumTrainImages 407262\n",
            "NumValidationImages 101818\n",
            "BatchSizeTrain 1131.2833333333333\n",
            "BatchSizeVal 565.6555555555556\n"
          ]
        },
        {
          "data": {
            "text/html": [
              "wandb version 0.12.16 is available!  To upgrade, please run:\n",
              " $ pip install wandb --upgrade"
            ],
            "text/plain": [
              "<IPython.core.display.HTML object>"
            ]
          },
          "metadata": {},
          "output_type": "display_data"
        },
        {
          "data": {
            "text/html": [
              "Tracking run with wandb version 0.12.15"
            ],
            "text/plain": [
              "<IPython.core.display.HTML object>"
            ]
          },
          "metadata": {},
          "output_type": "display_data"
        },
        {
          "data": {
            "text/html": [
              "Run data is saved locally in <code>c:\\Users\\krock\\Desktop\\FIIT\\Ing\\DP\\DP\\wandb\\run-20220508_100647-gx7oat2t</code>"
            ],
            "text/plain": [
              "<IPython.core.display.HTML object>"
            ]
          },
          "metadata": {},
          "output_type": "display_data"
        },
        {
          "data": {
            "text/html": [
              "Syncing run <strong><a href=\"https://wandb.ai/michaelkrocka/DP/runs/gx7oat2t\" target=\"_blank\">lemon-capybara-202</a></strong> to <a href=\"https://wandb.ai/michaelkrocka/DP\" target=\"_blank\">Weights & Biases</a> (<a href=\"https://wandb.me/run\" target=\"_blank\">docs</a>)<br/>"
            ],
            "text/plain": [
              "<IPython.core.display.HTML object>"
            ]
          },
          "metadata": {},
          "output_type": "display_data"
        },
        {
          "name": "stdout",
          "output_type": "stream",
          "text": [
            "WARNING:tensorflow:No training configuration found in the save file, so the model was *not* compiled. Compile it manually.\n",
            "Epoch 1/72\n",
            "20/20 [==============================] - ETA: 0s - loss: 1.6059 - accuracy: 0.5049 \n",
            "Epoch 1: val_accuracy improved from -inf to 0.49991, saving model to best_model.h5\n",
            "20/20 [==============================] - 312s 16s/step - loss: 1.6059 - accuracy: 0.5049 - val_loss: 1.1666 - val_accuracy: 0.4999 - _timestamp: 1651997552.0000 - _runtime: 345.0000\n",
            "Epoch 2/72\n",
            "20/20 [==============================] - ETA: 0s - loss: 1.0230 - accuracy: 0.4956 \n",
            "Epoch 2: val_accuracy improved from 0.49991 to 0.51095, saving model to best_model.h5\n",
            "20/20 [==============================] - 258s 14s/step - loss: 1.0230 - accuracy: 0.4956 - val_loss: 0.6646 - val_accuracy: 0.5110 - _timestamp: 1651997810.0000 - _runtime: 603.0000\n",
            "Epoch 3/72\n",
            "20/20 [==============================] - ETA: 0s - loss: 0.6149 - accuracy: 0.6188 \n",
            "Epoch 3: val_accuracy improved from 0.51095 to 0.81802, saving model to best_model.h5\n",
            "20/20 [==============================] - 253s 13s/step - loss: 0.6149 - accuracy: 0.6188 - val_loss: 0.3893 - val_accuracy: 0.8180 - _timestamp: 1651998063.0000 - _runtime: 856.0000\n",
            "Epoch 4/72\n",
            "20/20 [==============================] - ETA: 0s - loss: 0.4315 - accuracy: 0.8118\n",
            "Epoch 4: val_accuracy improved from 0.81802 to 0.92827, saving model to best_model.h5\n",
            "20/20 [==============================] - 251s 13s/step - loss: 0.4315 - accuracy: 0.8118 - val_loss: 0.2838 - val_accuracy: 0.9283 - _timestamp: 1651998315.0000 - _runtime: 1108.0000\n",
            "Epoch 5/72\n",
            "20/20 [==============================] - ETA: 0s - loss: 0.3767 - accuracy: 0.8568 \n",
            "Epoch 5: val_accuracy improved from 0.92827 to 0.93959, saving model to best_model.h5\n",
            "20/20 [==============================] - 250s 13s/step - loss: 0.3767 - accuracy: 0.8568 - val_loss: 0.2531 - val_accuracy: 0.9396 - _timestamp: 1651998564.0000 - _runtime: 1357.0000\n",
            "Epoch 6/72\n",
            "20/20 [==============================] - ETA: 0s - loss: 0.3572 - accuracy: 0.8594\n",
            "Epoch 6: val_accuracy improved from 0.93959 to 0.94443, saving model to best_model.h5\n",
            "20/20 [==============================] - 248s 13s/step - loss: 0.3572 - accuracy: 0.8594 - val_loss: 0.2358 - val_accuracy: 0.9444 - _timestamp: 1651998812.0000 - _runtime: 1605.0000\n",
            "Epoch 7/72\n",
            "20/20 [==============================] - ETA: 0s - loss: 0.3474 - accuracy: 0.8649\n",
            "Epoch 7: val_accuracy improved from 0.94443 to 0.94452, saving model to best_model.h5\n",
            "20/20 [==============================] - 264s 14s/step - loss: 0.3474 - accuracy: 0.8649 - val_loss: 0.2287 - val_accuracy: 0.9445 - _timestamp: 1651999076.0000 - _runtime: 1869.0000\n",
            "Epoch 8/72\n",
            "20/20 [==============================] - ETA: 0s - loss: 0.3363 - accuracy: 0.8686 \n",
            "Epoch 8: val_accuracy improved from 0.94452 to 0.94633, saving model to best_model.h5\n",
            "20/20 [==============================] - 281s 15s/step - loss: 0.3363 - accuracy: 0.8686 - val_loss: 0.2171 - val_accuracy: 0.9463 - _timestamp: 1651999357.0000 - _runtime: 2150.0000\n",
            "Epoch 9/72\n",
            "20/20 [==============================] - ETA: 0s - loss: 0.3274 - accuracy: 0.8731 \n",
            "Epoch 9: val_accuracy did not improve from 0.94633\n",
            "20/20 [==============================] - 285s 15s/step - loss: 0.3274 - accuracy: 0.8731 - val_loss: 0.2158 - val_accuracy: 0.9424 - _timestamp: 1651999642.0000 - _runtime: 2435.0000\n",
            "Epoch 10/72\n",
            "20/20 [==============================] - ETA: 0s - loss: 0.3199 - accuracy: 0.8757 \n",
            "Epoch 10: val_accuracy did not improve from 0.94633\n",
            "20/20 [==============================] - 283s 15s/step - loss: 0.3199 - accuracy: 0.8757 - val_loss: 0.2075 - val_accuracy: 0.9455 - _timestamp: 1651999925.0000 - _runtime: 2718.0000\n",
            "Epoch 11/72\n",
            "20/20 [==============================] - ETA: 0s - loss: 0.3151 - accuracy: 0.8769\n",
            "Epoch 11: val_accuracy did not improve from 0.94633\n",
            "20/20 [==============================] - 248s 13s/step - loss: 0.3151 - accuracy: 0.8769 - val_loss: 0.2038 - val_accuracy: 0.9461 - _timestamp: 1652000172.0000 - _runtime: 2965.0000\n",
            "Epoch 12/72\n",
            "20/20 [==============================] - ETA: 0s - loss: 0.3117 - accuracy: 0.8774\n",
            "Epoch 12: val_accuracy improved from 0.94633 to 0.94996, saving model to best_model.h5\n",
            "20/20 [==============================] - 245s 13s/step - loss: 0.3117 - accuracy: 0.8774 - val_loss: 0.1925 - val_accuracy: 0.9500 - _timestamp: 1652000418.0000 - _runtime: 3211.0000\n",
            "Epoch 13/72\n",
            "20/20 [==============================] - ETA: 0s - loss: 0.3018 - accuracy: 0.8809\n",
            "Epoch 13: val_accuracy did not improve from 0.94996\n",
            "20/20 [==============================] - 243s 13s/step - loss: 0.3018 - accuracy: 0.8809 - val_loss: 0.1978 - val_accuracy: 0.9432 - _timestamp: 1652000661.0000 - _runtime: 3454.0000\n",
            "Epoch 14/72\n",
            "20/20 [==============================] - ETA: 0s - loss: 0.2982 - accuracy: 0.8841 \n",
            "Epoch 14: val_accuracy did not improve from 0.94996\n",
            "20/20 [==============================] - 252s 13s/step - loss: 0.2982 - accuracy: 0.8841 - val_loss: 0.1894 - val_accuracy: 0.9465 - _timestamp: 1652000913.0000 - _runtime: 3706.0000\n",
            "Epoch 15/72\n",
            "20/20 [==============================] - ETA: 0s - loss: 0.2958 - accuracy: 0.8833 \n",
            "Epoch 15: val_accuracy did not improve from 0.94996\n",
            "20/20 [==============================] - 279s 15s/step - loss: 0.2958 - accuracy: 0.8833 - val_loss: 0.1874 - val_accuracy: 0.9482 - _timestamp: 1652001191.0000 - _runtime: 3984.0000\n",
            "Epoch 16/72\n",
            "20/20 [==============================] - ETA: 0s - loss: 0.2894 - accuracy: 0.8867 \n",
            "Epoch 16: val_accuracy did not improve from 0.94996\n",
            "20/20 [==============================] - 247s 13s/step - loss: 0.2894 - accuracy: 0.8867 - val_loss: 0.1822 - val_accuracy: 0.9486 - _timestamp: 1652001439.0000 - _runtime: 4232.0000\n",
            "Epoch 17/72\n",
            "20/20 [==============================] - ETA: 0s - loss: 0.2912 - accuracy: 0.8831\n",
            "Epoch 17: val_accuracy did not improve from 0.94996\n",
            "20/20 [==============================] - 250s 13s/step - loss: 0.2912 - accuracy: 0.8831 - val_loss: 0.1833 - val_accuracy: 0.9470 - _timestamp: 1652001688.0000 - _runtime: 4481.0000\n",
            "Epoch 18/72\n",
            "20/20 [==============================] - ETA: 0s - loss: 0.2773 - accuracy: 0.8915 \n",
            "Epoch 18: val_accuracy did not improve from 0.94996\n",
            "20/20 [==============================] - 278s 15s/step - loss: 0.2773 - accuracy: 0.8915 - val_loss: 0.1789 - val_accuracy: 0.9464 - _timestamp: 1652001967.0000 - _runtime: 4760.0000\n",
            "Epoch 19/72\n",
            "20/20 [==============================] - ETA: 0s - loss: 0.2773 - accuracy: 0.8911\n",
            "Epoch 19: val_accuracy did not improve from 0.94996\n",
            "20/20 [==============================] - 250s 13s/step - loss: 0.2773 - accuracy: 0.8911 - val_loss: 0.1751 - val_accuracy: 0.9491 - _timestamp: 1652002217.0000 - _runtime: 5010.0000\n",
            "Epoch 20/72\n",
            "20/20 [==============================] - ETA: 0s - loss: 0.2753 - accuracy: 0.8894 \n",
            "Epoch 20: val_accuracy did not improve from 0.94996\n",
            "20/20 [==============================] - 280s 15s/step - loss: 0.2753 - accuracy: 0.8894 - val_loss: 0.1727 - val_accuracy: 0.9499 - _timestamp: 1652002496.0000 - _runtime: 5289.0000\n",
            "Epoch 21/72\n",
            "20/20 [==============================] - ETA: 0s - loss: 0.2727 - accuracy: 0.8907\n",
            "Epoch 21: val_accuracy did not improve from 0.94996\n",
            "20/20 [==============================] - 241s 13s/step - loss: 0.2727 - accuracy: 0.8907 - val_loss: 0.1720 - val_accuracy: 0.9487 - _timestamp: 1652002737.0000 - _runtime: 5530.0000\n",
            "Epoch 22/72\n",
            "20/20 [==============================] - ETA: 0s - loss: 0.2700 - accuracy: 0.8915\n",
            "Epoch 22: val_accuracy did not improve from 0.94996\n",
            "20/20 [==============================] - 241s 13s/step - loss: 0.2700 - accuracy: 0.8915 - val_loss: 0.1695 - val_accuracy: 0.9481 - _timestamp: 1652002978.0000 - _runtime: 5771.0000\n",
            "Epoch 23/72\n",
            "20/20 [==============================] - ETA: 0s - loss: 0.2645 - accuracy: 0.8944\n",
            "Epoch 23: val_accuracy did not improve from 0.94996\n",
            "20/20 [==============================] - 245s 13s/step - loss: 0.2645 - accuracy: 0.8944 - val_loss: 0.1664 - val_accuracy: 0.9495 - _timestamp: 1652003222.0000 - _runtime: 6015.0000\n",
            "Epoch 24/72\n",
            "20/20 [==============================] - ETA: 0s - loss: 0.2609 - accuracy: 0.8950\n",
            "Epoch 24: val_accuracy did not improve from 0.94996\n",
            "20/20 [==============================] - 245s 13s/step - loss: 0.2609 - accuracy: 0.8950 - val_loss: 0.1677 - val_accuracy: 0.9484 - _timestamp: 1652003468.0000 - _runtime: 6261.0000\n",
            "Epoch 25/72\n",
            "20/20 [==============================] - ETA: 0s - loss: 0.2625 - accuracy: 0.8956\n",
            "Epoch 25: val_accuracy improved from 0.94996 to 0.95225, saving model to best_model.h5\n",
            "20/20 [==============================] - 244s 13s/step - loss: 0.2625 - accuracy: 0.8956 - val_loss: 0.1594 - val_accuracy: 0.9523 - _timestamp: 1652003712.0000 - _runtime: 6505.0000\n",
            "Epoch 26/72\n",
            "20/20 [==============================] - ETA: 0s - loss: 0.2556 - accuracy: 0.8985\n",
            "Epoch 26: val_accuracy did not improve from 0.95225\n",
            "20/20 [==============================] - 243s 13s/step - loss: 0.2556 - accuracy: 0.8985 - val_loss: 0.1670 - val_accuracy: 0.9488 - _timestamp: 1652003955.0000 - _runtime: 6748.0000\n",
            "Epoch 27/72\n",
            "20/20 [==============================] - ETA: 0s - loss: 0.2546 - accuracy: 0.8961 \n",
            "Epoch 27: val_accuracy did not improve from 0.95225\n",
            "20/20 [==============================] - 259s 14s/step - loss: 0.2546 - accuracy: 0.8961 - val_loss: 0.1592 - val_accuracy: 0.9500 - _timestamp: 1652004213.0000 - _runtime: 7006.0000\n",
            "Epoch 28/72\n",
            "20/20 [==============================] - ETA: 0s - loss: 0.2495 - accuracy: 0.9000 \n",
            "Epoch 28: val_accuracy did not improve from 0.95225\n",
            "20/20 [==============================] - 272s 14s/step - loss: 0.2495 - accuracy: 0.9000 - val_loss: 0.1650 - val_accuracy: 0.9485 - _timestamp: 1652004485.0000 - _runtime: 7278.0000\n",
            "Epoch 29/72\n",
            "20/20 [==============================] - ETA: 0s - loss: 0.2498 - accuracy: 0.8999\n",
            "Epoch 29: val_accuracy did not improve from 0.95225\n",
            "20/20 [==============================] - 245s 13s/step - loss: 0.2498 - accuracy: 0.8999 - val_loss: 0.1570 - val_accuracy: 0.9514 - _timestamp: 1652004730.0000 - _runtime: 7523.0000\n",
            "Epoch 30/72\n",
            "20/20 [==============================] - ETA: 0s - loss: 0.2493 - accuracy: 0.9015\n",
            "Epoch 30: val_accuracy did not improve from 0.95225\n",
            "20/20 [==============================] - 244s 13s/step - loss: 0.2493 - accuracy: 0.9015 - val_loss: 0.1610 - val_accuracy: 0.9487 - _timestamp: 1652004974.0000 - _runtime: 7767.0000\n",
            "Epoch 31/72\n",
            "20/20 [==============================] - ETA: 0s - loss: 0.2465 - accuracy: 0.9026\n",
            "Epoch 31: val_accuracy did not improve from 0.95225\n",
            "20/20 [==============================] - 243s 13s/step - loss: 0.2465 - accuracy: 0.9026 - val_loss: 0.1575 - val_accuracy: 0.9486 - _timestamp: 1652005217.0000 - _runtime: 8010.0000\n",
            "Epoch 32/72\n",
            "20/20 [==============================] - ETA: 0s - loss: 0.2390 - accuracy: 0.9033\n",
            "Epoch 32: val_accuracy did not improve from 0.95225\n",
            "20/20 [==============================] - 244s 13s/step - loss: 0.2390 - accuracy: 0.9033 - val_loss: 0.1574 - val_accuracy: 0.9486 - _timestamp: 1652005461.0000 - _runtime: 8254.0000\n",
            "Epoch 33/72\n",
            "20/20 [==============================] - ETA: 0s - loss: 0.2473 - accuracy: 0.8996\n",
            "Epoch 33: val_accuracy did not improve from 0.95225\n",
            "20/20 [==============================] - 244s 13s/step - loss: 0.2473 - accuracy: 0.8996 - val_loss: 0.1551 - val_accuracy: 0.9504 - _timestamp: 1652005705.0000 - _runtime: 8498.0000\n",
            "Epoch 34/72\n",
            "20/20 [==============================] - ETA: 0s - loss: 0.2387 - accuracy: 0.9019\n",
            "Epoch 34: val_accuracy did not improve from 0.95225\n",
            "20/20 [==============================] - 245s 13s/step - loss: 0.2387 - accuracy: 0.9019 - val_loss: 0.1540 - val_accuracy: 0.9496 - _timestamp: 1652005950.0000 - _runtime: 8743.0000\n",
            "Epoch 35/72\n",
            "20/20 [==============================] - ETA: 0s - loss: 0.2378 - accuracy: 0.9032\n",
            "Epoch 35: val_accuracy did not improve from 0.95225\n",
            "20/20 [==============================] - 245s 13s/step - loss: 0.2378 - accuracy: 0.9032 - val_loss: 0.1566 - val_accuracy: 0.9481 - _timestamp: 1652006196.0000 - _runtime: 8989.0000\n",
            "Epoch 36/72\n",
            "20/20 [==============================] - ETA: 0s - loss: 0.2286 - accuracy: 0.9075\n",
            "Epoch 36: val_accuracy did not improve from 0.95225\n",
            "20/20 [==============================] - 245s 13s/step - loss: 0.2286 - accuracy: 0.9075 - val_loss: 0.1516 - val_accuracy: 0.9493 - _timestamp: 1652006440.0000 - _runtime: 9233.0000\n",
            "Epoch 37/72\n",
            "20/20 [==============================] - ETA: 0s - loss: 0.2314 - accuracy: 0.9064\n",
            "Epoch 37: val_accuracy did not improve from 0.95225\n",
            "20/20 [==============================] - 245s 13s/step - loss: 0.2314 - accuracy: 0.9064 - val_loss: 0.1543 - val_accuracy: 0.9491 - _timestamp: 1652006685.0000 - _runtime: 9478.0000\n",
            "Epoch 38/72\n",
            "20/20 [==============================] - ETA: 0s - loss: 0.2287 - accuracy: 0.9088\n",
            "Epoch 38: val_accuracy did not improve from 0.95225\n",
            "20/20 [==============================] - 244s 13s/step - loss: 0.2287 - accuracy: 0.9088 - val_loss: 0.1496 - val_accuracy: 0.9511 - _timestamp: 1652006930.0000 - _runtime: 9723.0000\n",
            "Epoch 39/72\n",
            "20/20 [==============================] - ETA: 0s - loss: 0.2268 - accuracy: 0.9100\n",
            "Epoch 39: val_accuracy did not improve from 0.95225\n",
            "20/20 [==============================] - 255s 13s/step - loss: 0.2268 - accuracy: 0.9100 - val_loss: 0.1538 - val_accuracy: 0.9485 - _timestamp: 1652007184.0000 - _runtime: 9977.0000\n",
            "Epoch 40/72\n",
            "20/20 [==============================] - ETA: 0s - loss: 0.2238 - accuracy: 0.9088 \n",
            "Epoch 40: val_accuracy did not improve from 0.95225\n",
            "20/20 [==============================] - 273s 14s/step - loss: 0.2238 - accuracy: 0.9088 - val_loss: 0.1498 - val_accuracy: 0.9485 - _timestamp: 1652007457.0000 - _runtime: 10250.0000\n",
            "Epoch 41/72\n",
            "20/20 [==============================] - ETA: 0s - loss: 0.2263 - accuracy: 0.9102\n",
            "Epoch 41: val_accuracy did not improve from 0.95225\n",
            "20/20 [==============================] - 246s 13s/step - loss: 0.2263 - accuracy: 0.9102 - val_loss: 0.1515 - val_accuracy: 0.9484 - _timestamp: 1652007704.0000 - _runtime: 10497.0000\n",
            "Epoch 42/72\n",
            "20/20 [==============================] - ETA: 0s - loss: 0.2219 - accuracy: 0.9097\n",
            "Epoch 42: val_accuracy did not improve from 0.95225\n",
            "20/20 [==============================] - 244s 13s/step - loss: 0.2219 - accuracy: 0.9097 - val_loss: 0.1464 - val_accuracy: 0.9522 - _timestamp: 1652007948.0000 - _runtime: 10741.0000\n",
            "Epoch 43/72\n",
            "20/20 [==============================] - ETA: 0s - loss: 0.2228 - accuracy: 0.9095\n",
            "Epoch 43: val_accuracy did not improve from 0.95225\n",
            "20/20 [==============================] - 246s 13s/step - loss: 0.2228 - accuracy: 0.9095 - val_loss: 0.1515 - val_accuracy: 0.9484 - _timestamp: 1652008194.0000 - _runtime: 10987.0000\n",
            "Epoch 44/72\n",
            "20/20 [==============================] - ETA: 0s - loss: 0.2183 - accuracy: 0.9140\n",
            "Epoch 44: val_accuracy did not improve from 0.95225\n",
            "20/20 [==============================] - 245s 13s/step - loss: 0.2183 - accuracy: 0.9140 - val_loss: 0.1476 - val_accuracy: 0.9491 - _timestamp: 1652008439.0000 - _runtime: 11232.0000\n",
            "Epoch 45/72\n",
            "20/20 [==============================] - ETA: 0s - loss: 0.2198 - accuracy: 0.9115\n",
            "Epoch 45: val_accuracy did not improve from 0.95225\n",
            "20/20 [==============================] - 244s 13s/step - loss: 0.2198 - accuracy: 0.9115 - val_loss: 0.1487 - val_accuracy: 0.9490 - _timestamp: 1652008683.0000 - _runtime: 11476.0000\n",
            "Epoch 46/72\n",
            "20/20 [==============================] - ETA: 0s - loss: 0.2133 - accuracy: 0.9155\n",
            "Epoch 46: val_accuracy did not improve from 0.95225\n",
            "20/20 [==============================] - 244s 13s/step - loss: 0.2133 - accuracy: 0.9155 - val_loss: 0.1506 - val_accuracy: 0.9503 - _timestamp: 1652008927.0000 - _runtime: 11720.0000\n",
            "Epoch 47/72\n",
            "20/20 [==============================] - ETA: 0s - loss: 0.2158 - accuracy: 0.9125\n",
            "Epoch 47: val_accuracy did not improve from 0.95225\n",
            "20/20 [==============================] - 243s 13s/step - loss: 0.2158 - accuracy: 0.9125 - val_loss: 0.1505 - val_accuracy: 0.9483 - _timestamp: 1652009170.0000 - _runtime: 11963.0000\n",
            "Epoch 47: early stopping\n"
          ]
        },
        {
          "data": {
            "application/vnd.jupyter.widget-view+json": {
              "model_id": "ea8c2c517de844bcb84ae992d0f4409b",
              "version_major": 2,
              "version_minor": 0
            },
            "text/plain": [
              "  0%|          | 0/12 [00:00<?, ?it/s]"
            ]
          },
          "metadata": {},
          "output_type": "display_data"
        },
        {
          "name": "stdout",
          "output_type": "stream",
          "text": [
            "all_model_5 CNRParkAB {'correct': 11544, 'incorrect': 1040}\n"
          ]
        },
        {
          "data": {
            "application/vnd.jupyter.widget-view+json": {
              "model_id": "13270c8def2640e2b95c1b45566c3e01",
              "version_major": 2,
              "version_minor": 0
            },
            "text/plain": [
              "  0%|          | 0/144 [00:00<?, ?it/s]"
            ]
          },
          "metadata": {},
          "output_type": "display_data"
        },
        {
          "name": "stdout",
          "output_type": "stream",
          "text": [
            "all_model_5 CNRPark-EXT {'correct': 132880, 'incorrect': 11970}\n"
          ]
        },
        {
          "data": {
            "application/vnd.jupyter.widget-view+json": {
              "model_id": "24088780b9684aed8e6fa93fee238797",
              "version_major": 2,
              "version_minor": 0
            },
            "text/plain": [
              "  0%|          | 0/33 [00:00<?, ?it/s]"
            ]
          },
          "metadata": {},
          "output_type": "display_data"
        },
        {
          "name": "stdout",
          "output_type": "stream",
          "text": [
            "all_model_5 SvJur {'correct': 33515, 'incorrect': 141}\n"
          ]
        },
        {
          "data": {
            "application/vnd.jupyter.widget-view+json": {
              "model_id": "56c9a94d86114ea9a47f6de8b851c4f8",
              "version_major": 2,
              "version_minor": 0
            },
            "text/plain": [
              "  0%|          | 0/695 [00:00<?, ?it/s]"
            ]
          },
          "metadata": {},
          "output_type": "display_data"
        },
        {
          "name": "stdout",
          "output_type": "stream",
          "text": [
            "all_model_5 PKLot\\PKLotSegmented {'correct': 669736, 'incorrect': 26115}\n"
          ]
        },
        {
          "data": {
            "text/html": [
              "Waiting for W&B process to finish... <strong style=\"color:green\">(success).</strong>"
            ],
            "text/plain": [
              "<IPython.core.display.HTML object>"
            ]
          },
          "metadata": {},
          "output_type": "display_data"
        },
        {
          "data": {
            "application/vnd.jupyter.widget-view+json": {
              "model_id": "421fcb7d2dcc44f5b7d956e71e958379",
              "version_major": 2,
              "version_minor": 0
            },
            "text/plain": [
              "VBox(children=(Label(value='0.548 MB of 0.548 MB uploaded (0.000 MB deduped)\\r'), FloatProgress(value=1.0, max…"
            ]
          },
          "metadata": {},
          "output_type": "display_data"
        },
        {
          "data": {
            "text/html": [
              "<style>\n",
              "    table.wandb td:nth-child(1) { padding: 0 10px; text-align: right }\n",
              "    .wandb-row { display: flex; flex-direction: row; flex-wrap: wrap; width: 100% }\n",
              "    .wandb-col { display: flex; flex-direction: column; flex-basis: 100%; flex: 1; padding: 10px; }\n",
              "    </style>\n",
              "<div class=\"wandb-row\"><div class=\"wandb-col\"><h3>Run history:</h3><br/><table class=\"wandb\"><tr><td>accuracy</td><td>▁▁▃▆▇▇▇▇▇▇▇▇▇█▇█████████████████████████</td></tr><tr><td>epoch</td><td>▁▁▁▁▂▂▂▂▂▃▃▃▃▃▃▄▄▄▄▄▅▅▅▅▅▅▆▆▆▆▆▆▇▇▇▇▇███</td></tr><tr><td>loss</td><td>█▅▃▂▂▂▂▂▂▁▁▁▁▁▁▁▁▁▁▁▁▁▁▁▁▁▁▁▁▁▁▁▁▁▁▁▁▁▁▁</td></tr><tr><td>val_accuracy</td><td>▁▁▆█████████████████████████████████████</td></tr><tr><td>val_loss</td><td>█▅▃▂▂▂▁▁▁▁▁▁▁▁▁▁▁▁▁▁▁▁▁▁▁▁▁▁▁▁▁▁▁▁▁▁▁▁▁▁</td></tr></table><br/></div><div class=\"wandb-col\"><h3>Run summary:</h3><br/><table class=\"wandb\"><tr><td>accuracy</td><td>0.91246</td></tr><tr><td>best_epoch</td><td>41</td></tr><tr><td>best_val_loss</td><td>0.14643</td></tr><tr><td>epoch</td><td>46</td></tr><tr><td>loss</td><td>0.21583</td></tr><tr><td>val_accuracy</td><td>0.94832</td></tr><tr><td>val_loss</td><td>0.15054</td></tr></table><br/></div></div>"
            ],
            "text/plain": [
              "<IPython.core.display.HTML object>"
            ]
          },
          "metadata": {},
          "output_type": "display_data"
        },
        {
          "data": {
            "text/html": [
              "Synced <strong style=\"color:#cdcd00\">lemon-capybara-202</strong>: <a href=\"https://wandb.ai/michaelkrocka/DP/runs/gx7oat2t\" target=\"_blank\">https://wandb.ai/michaelkrocka/DP/runs/gx7oat2t</a><br/>Synced 5 W&B file(s), 1 media file(s), 0 artifact file(s) and 1 other file(s)"
            ],
            "text/plain": [
              "<IPython.core.display.HTML object>"
            ]
          },
          "metadata": {},
          "output_type": "display_data"
        },
        {
          "data": {
            "text/html": [
              "Find logs at: <code>.\\wandb\\run-20220508_100647-gx7oat2t\\logs</code>"
            ],
            "text/plain": [
              "<IPython.core.display.HTML object>"
            ]
          },
          "metadata": {},
          "output_type": "display_data"
        }
      ],
      "source": [
        "train_dataset = os.path.join(OCD_DATA_DIR, 'splits', 'random', 'train_d.txt')\n",
        "validation_dataset = os.path.join(OCD_DATA_DIR, 'splits', 'random', 'validation_d.txt')\n",
        "\n",
        "# constants\n",
        "STEPS_PER_EPOCH = 20\n",
        "EPOCHS = 72\n",
        "NUM_TRAIN_IMAGES = count_file_lines(train_dataset)\n",
        "NUM_VALIDATION_IMAGES = count_file_lines(validation_dataset)\n",
        "\n",
        "# wandb config\n",
        "run = wandb.init(project='DP', entity='michaelkrocka',\n",
        "            config={\n",
        "               'epochs': EPOCHS,\n",
        "               'batch_size_train': NUM_TRAIN_IMAGES / (EPOCHS * STEPS_PER_EPOCH),\n",
        "               'batch_size_validation': NUM_VALIDATION_IMAGES / (EPOCHS / 4 * STEPS_PER_EPOCH), # / 4 because validation is 1/4 size of training\n",
        "               'learning_rate': 1e-5,\n",
        "               'loss_function': 'binary_crossentropy',\n",
        "               'optimizer': 'Adam',\n",
        "               'train_dataset': train_dataset,\n",
        "               'validation_dataset': validation_dataset\n",
        "            })\n",
        "config = wandb.config\n",
        "\n",
        "# generators\n",
        "train_generator = image_generator(config.train_dataset, config.batch_size_train)\n",
        "val_generator = image_generator(config.validation_dataset, config.batch_size_validation, mode='eval')\n",
        "\n",
        "# model reconstruction\n",
        "loaded_model = keras.models.load_model('C:\\\\Users\\\\krock\\\\My Drive\\\\DP\\\\Models\\\\keras_mAlexNet\\\\out_keras.h5')\n",
        "model = keras.models.Sequential()\n",
        "for layer in loaded_model.layers[:-2]:\n",
        "   model.add(layer)\n",
        "model.add(keras.layers.Dense(1, 'sigmoid'))\n",
        "\n",
        "# optimizer\n",
        "step = tf.Variable(0, trainable=False)\n",
        "breakpoint = NUM_TRAIN_IMAGES / 3\n",
        "schedule = tf.optimizers.schedules.PiecewiseConstantDecay([breakpoint, breakpoint], [config.learning_rate, config.learning_rate / 2, config.learning_rate / 4])\n",
        "lr = schedule(step)\n",
        "opt = keras.optimizers.Adam(learning_rate=lr)\n",
        "\n",
        "model.compile(loss=config.loss_function, optimizer=opt, metrics=['accuracy'])\n",
        "\n",
        "# callbacks\n",
        "es = keras.callbacks.EarlyStopping(monitor='val_loss', mode='min', verbose=1, patience=5)\n",
        "mc = keras.callbacks.ModelCheckpoint('best_model.h5', monitor='val_accuracy', mode='max', verbose=1, save_best_only=True)\n",
        "cb_list = [es, mc, WandbCallback()]\n",
        "\n",
        "# training\n",
        "history = model.fit(\n",
        "\tx = train_generator,\n",
        "\tvalidation_data = val_generator,\n",
        "   validation_steps = STEPS_PER_EPOCH,\n",
        "\tsteps_per_epoch = STEPS_PER_EPOCH,\n",
        "\tepochs = config.epochs,\n",
        "\tcallbacks = cb_list)\n",
        "\n",
        "print(CNRParkAB_PATH, test_accuracy_on_dataset(model, CNRParkAB_PATH))\n",
        "print(CNRParkEXT_PATH, test_accuracy_on_dataset(model, CNRParkEXT_PATH))\n",
        "print(SvJur_PATH, test_accuracy_on_dataset(model, SvJur_PATH))\n",
        "print(PKLot_PATH, test_accuracy_on_dataset(model, PKLot_PATH))\n",
        "\n",
        "run.finish()"
      ]
    },
    {
      "cell_type": "markdown",
      "metadata": {
        "id": "_XT6leMryXhh"
      },
      "source": [
        "# Accuracy testing"
      ]
    },
    {
      "cell_type": "code",
      "execution_count": 12,
      "metadata": {},
      "outputs": [],
      "source": [
        "def test_accuracy_on_dataset(model, dataset_path:str, batch_size:int=1000) -> dict:\n",
        "    file_path = dataset_path if '.txt' in dataset_path else os.path.join(OCD_DATA_DIR, 'splits', dataset_path, 'all.txt')\n",
        "    pred_labels_dict = {'correct': 0, 'incorrect': 0}\n",
        "    images, labels = [], []\n",
        "\n",
        "    with open(file_path) as f:\n",
        "        for line in tqdm(f, total=math.floor(count_file_lines(file_path) / batch_size)):\n",
        "\n",
        "            while len(images) < batch_size:\n",
        "                if line == '':\n",
        "                    # predict the final incomplete batch\n",
        "                    predictions = model.predict_on_batch(np.array(images))\n",
        "                    if model.output_shape == (None, 2):\n",
        "                        correct = sum(str(np.argmax(pred)) == label for pred, label in zip(predictions, labels))\n",
        "                    else:\n",
        "                        correct = sum(str(round(pred[0])) == label for pred, label in zip(predictions, labels))\n",
        "                    pred_labels_dict['correct'] += correct\n",
        "                    pred_labels_dict['incorrect'] += len(labels) - correct\n",
        "\n",
        "                    # close file and return dict\n",
        "                    f.close()\n",
        "                    return pred_labels_dict\n",
        "                \n",
        "                # preprocess image\n",
        "                orig_filename, label = line.strip().split(' ')\n",
        "                filename = os.path.join(OCD_DATA_DIR, orig_filename) if '.txt' in dataset_path else os.path.join(OCD_DATA_DIR, dataset_path, orig_filename)\n",
        "                image = preprocess_image(filename, expand_dims=False)\n",
        "                \n",
        "                images.append(image)\n",
        "                labels.append(label)\n",
        "                if len(images) < batch_size:\n",
        "                    line = f.readline()\n",
        "\n",
        "            # store number of correct / incorrect predictions\n",
        "            predictions = model.predict_on_batch(np.array(images))\n",
        "            if model.output_shape == (None, 2):\n",
        "                correct = sum(str(np.argmax(pred)) == label for pred, label in zip(predictions, labels))\n",
        "            else:\n",
        "                correct = sum(str(round(pred[0])) == label for pred, label in zip(predictions, labels))\n",
        "            pred_labels_dict['correct'] += correct\n",
        "            pred_labels_dict['incorrect'] += batch_size - correct\n",
        "            images, labels = [], []"
      ]
    },
    {
      "cell_type": "code",
      "execution_count": 22,
      "metadata": {},
      "outputs": [
        {
          "data": {
            "application/vnd.jupyter.widget-view+json": {
              "model_id": "bd0f31f5411f409eba2e1032cf62cb15",
              "version_major": 2,
              "version_minor": 0
            },
            "text/plain": [
              "  0%|          | 0/12 [00:00<?, ?it/s]"
            ]
          },
          "metadata": {},
          "output_type": "display_data"
        },
        {
          "name": "stdout",
          "output_type": "stream",
          "text": [
            "angry-alpaca-186.h5 CNRParkAB {'correct': 11117, 'incorrect': 1467}\n"
          ]
        },
        {
          "data": {
            "application/vnd.jupyter.widget-view+json": {
              "model_id": "dc76c3be7b0a4b5b917eac209eaac6b1",
              "version_major": 2,
              "version_minor": 0
            },
            "text/plain": [
              "  0%|          | 0/144 [00:00<?, ?it/s]"
            ]
          },
          "metadata": {},
          "output_type": "display_data"
        },
        {
          "name": "stdout",
          "output_type": "stream",
          "text": [
            "angry-alpaca-186.h5 CNRPark-EXT {'correct': 129989, 'incorrect': 14861}\n"
          ]
        },
        {
          "data": {
            "application/vnd.jupyter.widget-view+json": {
              "model_id": "2e6b5bffa0b2463ba0cfb99d399fdb18",
              "version_major": 2,
              "version_minor": 0
            },
            "text/plain": [
              "  0%|          | 0/33 [00:00<?, ?it/s]"
            ]
          },
          "metadata": {},
          "output_type": "display_data"
        },
        {
          "name": "stdout",
          "output_type": "stream",
          "text": [
            "angry-alpaca-186.h5 SvJur {'correct': 33375, 'incorrect': 281}\n"
          ]
        },
        {
          "data": {
            "application/vnd.jupyter.widget-view+json": {
              "model_id": "a646cbcdd720437ca213332729731711",
              "version_major": 2,
              "version_minor": 0
            },
            "text/plain": [
              "  0%|          | 0/695 [00:00<?, ?it/s]"
            ]
          },
          "metadata": {},
          "output_type": "display_data"
        },
        {
          "name": "stdout",
          "output_type": "stream",
          "text": [
            "angry-alpaca-186.h5 PKLot\\PKLotSegmented {'correct': 680037, 'incorrect': 15814}\n"
          ]
        },
        {
          "data": {
            "application/vnd.jupyter.widget-view+json": {
              "model_id": "72865f65e9dd4e8fa2eb775255ceb81f",
              "version_major": 2,
              "version_minor": 0
            },
            "text/plain": [
              "  0%|          | 0/12 [00:00<?, ?it/s]"
            ]
          },
          "metadata": {},
          "output_type": "display_data"
        },
        {
          "name": "stdout",
          "output_type": "stream",
          "text": [
            "atomic-totem-201.h5 CNRParkAB {'correct': 11250, 'incorrect': 1334}\n"
          ]
        },
        {
          "data": {
            "application/vnd.jupyter.widget-view+json": {
              "model_id": "e31d15f268c940b49a269aab14ac8306",
              "version_major": 2,
              "version_minor": 0
            },
            "text/plain": [
              "  0%|          | 0/144 [00:00<?, ?it/s]"
            ]
          },
          "metadata": {},
          "output_type": "display_data"
        },
        {
          "name": "stdout",
          "output_type": "stream",
          "text": [
            "atomic-totem-201.h5 CNRPark-EXT {'correct': 128806, 'incorrect': 16044}\n"
          ]
        },
        {
          "data": {
            "application/vnd.jupyter.widget-view+json": {
              "model_id": "74d9b61a805c4def9c770997a0e7737a",
              "version_major": 2,
              "version_minor": 0
            },
            "text/plain": [
              "  0%|          | 0/33 [00:00<?, ?it/s]"
            ]
          },
          "metadata": {},
          "output_type": "display_data"
        },
        {
          "name": "stdout",
          "output_type": "stream",
          "text": [
            "atomic-totem-201.h5 SvJur {'correct': 33518, 'incorrect': 138}\n"
          ]
        },
        {
          "data": {
            "application/vnd.jupyter.widget-view+json": {
              "model_id": "7cd45e6850ed43c987fd412955a1d64f",
              "version_major": 2,
              "version_minor": 0
            },
            "text/plain": [
              "  0%|          | 0/695 [00:00<?, ?it/s]"
            ]
          },
          "metadata": {},
          "output_type": "display_data"
        },
        {
          "name": "stdout",
          "output_type": "stream",
          "text": [
            "atomic-totem-201.h5 PKLot\\PKLotSegmented {'correct': 669979, 'incorrect': 25872}\n"
          ]
        },
        {
          "data": {
            "application/vnd.jupyter.widget-view+json": {
              "model_id": "307b5563d46c4010a156ae4563f303fd",
              "version_major": 2,
              "version_minor": 0
            },
            "text/plain": [
              "  0%|          | 0/12 [00:00<?, ?it/s]"
            ]
          },
          "metadata": {},
          "output_type": "display_data"
        },
        {
          "name": "stdout",
          "output_type": "stream",
          "text": [
            "clone-nerf-herder-193.h5 CNRParkAB {'correct': 11561, 'incorrect': 1023}\n"
          ]
        },
        {
          "data": {
            "application/vnd.jupyter.widget-view+json": {
              "model_id": "0cc5ed7f782c4c389067ac863ab07d70",
              "version_major": 2,
              "version_minor": 0
            },
            "text/plain": [
              "  0%|          | 0/144 [00:00<?, ?it/s]"
            ]
          },
          "metadata": {},
          "output_type": "display_data"
        },
        {
          "name": "stdout",
          "output_type": "stream",
          "text": [
            "clone-nerf-herder-193.h5 CNRPark-EXT {'correct': 132420, 'incorrect': 12430}\n"
          ]
        },
        {
          "data": {
            "application/vnd.jupyter.widget-view+json": {
              "model_id": "7e1a8aa72f99465090cd01c3399c94ab",
              "version_major": 2,
              "version_minor": 0
            },
            "text/plain": [
              "  0%|          | 0/33 [00:00<?, ?it/s]"
            ]
          },
          "metadata": {},
          "output_type": "display_data"
        },
        {
          "name": "stdout",
          "output_type": "stream",
          "text": [
            "clone-nerf-herder-193.h5 SvJur {'correct': 33273, 'incorrect': 383}\n"
          ]
        },
        {
          "data": {
            "application/vnd.jupyter.widget-view+json": {
              "model_id": "614f83e4b2224d65b832be7747013c00",
              "version_major": 2,
              "version_minor": 0
            },
            "text/plain": [
              "  0%|          | 0/695 [00:00<?, ?it/s]"
            ]
          },
          "metadata": {},
          "output_type": "display_data"
        },
        {
          "name": "stdout",
          "output_type": "stream",
          "text": [
            "clone-nerf-herder-193.h5 PKLot\\PKLotSegmented {'correct': 669241, 'incorrect': 26610}\n"
          ]
        },
        {
          "data": {
            "application/vnd.jupyter.widget-view+json": {
              "model_id": "2826525a215346d39b08a4e78593df7a",
              "version_major": 2,
              "version_minor": 0
            },
            "text/plain": [
              "  0%|          | 0/12 [00:00<?, ?it/s]"
            ]
          },
          "metadata": {},
          "output_type": "display_data"
        },
        {
          "name": "stdout",
          "output_type": "stream",
          "text": [
            "crimson-plasma-199.h5 CNRParkAB {'correct': 11538, 'incorrect': 1046}\n"
          ]
        },
        {
          "data": {
            "application/vnd.jupyter.widget-view+json": {
              "model_id": "db7e895fe8094117b66ecca2f1b97ed9",
              "version_major": 2,
              "version_minor": 0
            },
            "text/plain": [
              "  0%|          | 0/144 [00:00<?, ?it/s]"
            ]
          },
          "metadata": {},
          "output_type": "display_data"
        },
        {
          "name": "stdout",
          "output_type": "stream",
          "text": [
            "crimson-plasma-199.h5 CNRPark-EXT {'correct': 130730, 'incorrect': 14120}\n"
          ]
        },
        {
          "data": {
            "application/vnd.jupyter.widget-view+json": {
              "model_id": "41585d42f02b4b92ae88baf929eed2e8",
              "version_major": 2,
              "version_minor": 0
            },
            "text/plain": [
              "  0%|          | 0/33 [00:00<?, ?it/s]"
            ]
          },
          "metadata": {},
          "output_type": "display_data"
        },
        {
          "name": "stdout",
          "output_type": "stream",
          "text": [
            "crimson-plasma-199.h5 SvJur {'correct': 33653, 'incorrect': 3}\n"
          ]
        },
        {
          "data": {
            "application/vnd.jupyter.widget-view+json": {
              "model_id": "9ff915af84b84e228343b211a950f100",
              "version_major": 2,
              "version_minor": 0
            },
            "text/plain": [
              "  0%|          | 0/695 [00:00<?, ?it/s]"
            ]
          },
          "metadata": {},
          "output_type": "display_data"
        },
        {
          "name": "stdout",
          "output_type": "stream",
          "text": [
            "crimson-plasma-199.h5 PKLot\\PKLotSegmented {'correct': 663384, 'incorrect': 32467}\n"
          ]
        },
        {
          "data": {
            "application/vnd.jupyter.widget-view+json": {
              "model_id": "20ee7b9eb0944216be494edd37ad6c64",
              "version_major": 2,
              "version_minor": 0
            },
            "text/plain": [
              "  0%|          | 0/12 [00:00<?, ?it/s]"
            ]
          },
          "metadata": {},
          "output_type": "display_data"
        },
        {
          "name": "stdout",
          "output_type": "stream",
          "text": [
            "divine-hill-183.h5 CNRParkAB {'correct': 11079, 'incorrect': 1505}\n"
          ]
        },
        {
          "data": {
            "application/vnd.jupyter.widget-view+json": {
              "model_id": "3ed6853f697e47fe924fca7dc5f7ae54",
              "version_major": 2,
              "version_minor": 0
            },
            "text/plain": [
              "  0%|          | 0/144 [00:00<?, ?it/s]"
            ]
          },
          "metadata": {},
          "output_type": "display_data"
        },
        {
          "name": "stdout",
          "output_type": "stream",
          "text": [
            "divine-hill-183.h5 CNRPark-EXT {'correct': 124498, 'incorrect': 20352}\n"
          ]
        },
        {
          "data": {
            "application/vnd.jupyter.widget-view+json": {
              "model_id": "5e87773abf8f449e8408cdffe97dbcf8",
              "version_major": 2,
              "version_minor": 0
            },
            "text/plain": [
              "  0%|          | 0/33 [00:00<?, ?it/s]"
            ]
          },
          "metadata": {},
          "output_type": "display_data"
        },
        {
          "name": "stdout",
          "output_type": "stream",
          "text": [
            "divine-hill-183.h5 SvJur {'correct': 33655, 'incorrect': 1}\n"
          ]
        },
        {
          "data": {
            "application/vnd.jupyter.widget-view+json": {
              "model_id": "4d2d9f8e315d472fa47bc708f6b9a1cc",
              "version_major": 2,
              "version_minor": 0
            },
            "text/plain": [
              "  0%|          | 0/695 [00:00<?, ?it/s]"
            ]
          },
          "metadata": {},
          "output_type": "display_data"
        },
        {
          "name": "stdout",
          "output_type": "stream",
          "text": [
            "divine-hill-183.h5 PKLot\\PKLotSegmented {'correct': 673686, 'incorrect': 22165}\n"
          ]
        },
        {
          "data": {
            "application/vnd.jupyter.widget-view+json": {
              "model_id": "64af8a14ba1b451ea6586ec882b619ce",
              "version_major": 2,
              "version_minor": 0
            },
            "text/plain": [
              "  0%|          | 0/12 [00:00<?, ?it/s]"
            ]
          },
          "metadata": {},
          "output_type": "display_data"
        },
        {
          "name": "stdout",
          "output_type": "stream",
          "text": [
            "jedi-council-188.h5 CNRParkAB {'correct': 11565, 'incorrect': 1019}\n"
          ]
        },
        {
          "data": {
            "application/vnd.jupyter.widget-view+json": {
              "model_id": "cb75ef2df2a646e395427b8842aead6b",
              "version_major": 2,
              "version_minor": 0
            },
            "text/plain": [
              "  0%|          | 0/144 [00:00<?, ?it/s]"
            ]
          },
          "metadata": {},
          "output_type": "display_data"
        },
        {
          "name": "stdout",
          "output_type": "stream",
          "text": [
            "jedi-council-188.h5 CNRPark-EXT {'correct': 132093, 'incorrect': 12757}\n"
          ]
        },
        {
          "data": {
            "application/vnd.jupyter.widget-view+json": {
              "model_id": "b96840a8db6e4fb8b806384b7931fb1a",
              "version_major": 2,
              "version_minor": 0
            },
            "text/plain": [
              "  0%|          | 0/33 [00:00<?, ?it/s]"
            ]
          },
          "metadata": {},
          "output_type": "display_data"
        },
        {
          "name": "stdout",
          "output_type": "stream",
          "text": [
            "jedi-council-188.h5 SvJur {'correct': 33655, 'incorrect': 1}\n"
          ]
        },
        {
          "data": {
            "application/vnd.jupyter.widget-view+json": {
              "model_id": "4d1a8f2c1cf146139cfb076513209f73",
              "version_major": 2,
              "version_minor": 0
            },
            "text/plain": [
              "  0%|          | 0/695 [00:00<?, ?it/s]"
            ]
          },
          "metadata": {},
          "output_type": "display_data"
        },
        {
          "name": "stdout",
          "output_type": "stream",
          "text": [
            "jedi-council-188.h5 PKLot\\PKLotSegmented {'correct': 675862, 'incorrect': 19989}\n"
          ]
        },
        {
          "data": {
            "application/vnd.jupyter.widget-view+json": {
              "model_id": "a68f62d9f2aa4f4c91b5db6e50d9c6ef",
              "version_major": 2,
              "version_minor": 0
            },
            "text/plain": [
              "  0%|          | 0/12 [00:00<?, ?it/s]"
            ]
          },
          "metadata": {},
          "output_type": "display_data"
        },
        {
          "name": "stdout",
          "output_type": "stream",
          "text": [
            "legendary-parsec-192.h5 CNRParkAB {'correct': 11389, 'incorrect': 1195}\n"
          ]
        },
        {
          "data": {
            "application/vnd.jupyter.widget-view+json": {
              "model_id": "774a0ccb073c4d5692519f42e69d6cd0",
              "version_major": 2,
              "version_minor": 0
            },
            "text/plain": [
              "  0%|          | 0/144 [00:00<?, ?it/s]"
            ]
          },
          "metadata": {},
          "output_type": "display_data"
        },
        {
          "name": "stdout",
          "output_type": "stream",
          "text": [
            "legendary-parsec-192.h5 CNRPark-EXT {'correct': 124795, 'incorrect': 20055}\n"
          ]
        },
        {
          "data": {
            "application/vnd.jupyter.widget-view+json": {
              "model_id": "b192e063ae634033b009ef1fe85c12fc",
              "version_major": 2,
              "version_minor": 0
            },
            "text/plain": [
              "  0%|          | 0/33 [00:00<?, ?it/s]"
            ]
          },
          "metadata": {},
          "output_type": "display_data"
        },
        {
          "name": "stdout",
          "output_type": "stream",
          "text": [
            "legendary-parsec-192.h5 SvJur {'correct': 33376, 'incorrect': 280}\n"
          ]
        },
        {
          "data": {
            "application/vnd.jupyter.widget-view+json": {
              "model_id": "dedd93f6e0cc4bcd9461b5ec0be8b576",
              "version_major": 2,
              "version_minor": 0
            },
            "text/plain": [
              "  0%|          | 0/695 [00:00<?, ?it/s]"
            ]
          },
          "metadata": {},
          "output_type": "display_data"
        },
        {
          "name": "stdout",
          "output_type": "stream",
          "text": [
            "legendary-parsec-192.h5 PKLot\\PKLotSegmented {'correct': 657358, 'incorrect': 38493}\n"
          ]
        },
        {
          "data": {
            "application/vnd.jupyter.widget-view+json": {
              "model_id": "916ecbc9416c4106a3ce5f6fc7e10694",
              "version_major": 2,
              "version_minor": 0
            },
            "text/plain": [
              "  0%|          | 0/12 [00:00<?, ?it/s]"
            ]
          },
          "metadata": {},
          "output_type": "display_data"
        },
        {
          "name": "stdout",
          "output_type": "stream",
          "text": [
            "legendary-sky-197.h5 CNRParkAB {'correct': 11568, 'incorrect': 1016}\n"
          ]
        },
        {
          "data": {
            "application/vnd.jupyter.widget-view+json": {
              "model_id": "999ec8d18a344868b2f77a9080fd885e",
              "version_major": 2,
              "version_minor": 0
            },
            "text/plain": [
              "  0%|          | 0/144 [00:00<?, ?it/s]"
            ]
          },
          "metadata": {},
          "output_type": "display_data"
        },
        {
          "name": "stdout",
          "output_type": "stream",
          "text": [
            "legendary-sky-197.h5 CNRPark-EXT {'correct': 131582, 'incorrect': 13268}\n"
          ]
        },
        {
          "data": {
            "application/vnd.jupyter.widget-view+json": {
              "model_id": "2b3c9ff0c0a646029328eafa3c7215e0",
              "version_major": 2,
              "version_minor": 0
            },
            "text/plain": [
              "  0%|          | 0/33 [00:00<?, ?it/s]"
            ]
          },
          "metadata": {},
          "output_type": "display_data"
        },
        {
          "name": "stdout",
          "output_type": "stream",
          "text": [
            "legendary-sky-197.h5 SvJur {'correct': 33655, 'incorrect': 1}\n"
          ]
        },
        {
          "data": {
            "application/vnd.jupyter.widget-view+json": {
              "model_id": "23f5ecc971674b60a342a8ea20ee8cb0",
              "version_major": 2,
              "version_minor": 0
            },
            "text/plain": [
              "  0%|          | 0/695 [00:00<?, ?it/s]"
            ]
          },
          "metadata": {},
          "output_type": "display_data"
        },
        {
          "name": "stdout",
          "output_type": "stream",
          "text": [
            "legendary-sky-197.h5 PKLot\\PKLotSegmented {'correct': 668748, 'incorrect': 27103}\n"
          ]
        },
        {
          "data": {
            "application/vnd.jupyter.widget-view+json": {
              "model_id": "55b7a24614d34a5f8216f4c0f898a277",
              "version_major": 2,
              "version_minor": 0
            },
            "text/plain": [
              "  0%|          | 0/12 [00:00<?, ?it/s]"
            ]
          },
          "metadata": {},
          "output_type": "display_data"
        },
        {
          "name": "stdout",
          "output_type": "stream",
          "text": [
            "lemon-capybara-202.h5 CNRParkAB {'correct': 11573, 'incorrect': 1011}\n"
          ]
        },
        {
          "data": {
            "application/vnd.jupyter.widget-view+json": {
              "model_id": "1c572ce94b7540a0b35a5968f3e4dfa2",
              "version_major": 2,
              "version_minor": 0
            },
            "text/plain": [
              "  0%|          | 0/144 [00:00<?, ?it/s]"
            ]
          },
          "metadata": {},
          "output_type": "display_data"
        },
        {
          "name": "stdout",
          "output_type": "stream",
          "text": [
            "lemon-capybara-202.h5 CNRPark-EXT {'correct': 133310, 'incorrect': 11540}\n"
          ]
        },
        {
          "data": {
            "application/vnd.jupyter.widget-view+json": {
              "model_id": "b1d01680d64d4c99aca441ed7a82794e",
              "version_major": 2,
              "version_minor": 0
            },
            "text/plain": [
              "  0%|          | 0/33 [00:00<?, ?it/s]"
            ]
          },
          "metadata": {},
          "output_type": "display_data"
        },
        {
          "name": "stdout",
          "output_type": "stream",
          "text": [
            "lemon-capybara-202.h5 SvJur {'correct': 33535, 'incorrect': 121}\n"
          ]
        },
        {
          "data": {
            "application/vnd.jupyter.widget-view+json": {
              "model_id": "53c45780e05c4f1fb6d80b39b04a856d",
              "version_major": 2,
              "version_minor": 0
            },
            "text/plain": [
              "  0%|          | 0/695 [00:00<?, ?it/s]"
            ]
          },
          "metadata": {},
          "output_type": "display_data"
        },
        {
          "name": "stdout",
          "output_type": "stream",
          "text": [
            "lemon-capybara-202.h5 PKLot\\PKLotSegmented {'correct': 669216, 'incorrect': 26635}\n",
            "WARNING:tensorflow:No training configuration found in the save file, so the model was *not* compiled. Compile it manually.\n"
          ]
        },
        {
          "data": {
            "application/vnd.jupyter.widget-view+json": {
              "model_id": "d5f35fced89b4740bdea8a2c1961eb63",
              "version_major": 2,
              "version_minor": 0
            },
            "text/plain": [
              "  0%|          | 0/12 [00:00<?, ?it/s]"
            ]
          },
          "metadata": {},
          "output_type": "display_data"
        },
        {
          "name": "stdout",
          "output_type": "stream",
          "text": [
            "mAlexNet_original_keras.h5 CNRParkAB {'correct': 11643, 'incorrect': 941}\n"
          ]
        },
        {
          "data": {
            "application/vnd.jupyter.widget-view+json": {
              "model_id": "79401ab7545147bcba880c93dd10d7e7",
              "version_major": 2,
              "version_minor": 0
            },
            "text/plain": [
              "  0%|          | 0/144 [00:00<?, ?it/s]"
            ]
          },
          "metadata": {},
          "output_type": "display_data"
        },
        {
          "name": "stdout",
          "output_type": "stream",
          "text": [
            "mAlexNet_original_keras.h5 CNRPark-EXT {'correct': 137164, 'incorrect': 7686}\n"
          ]
        },
        {
          "data": {
            "application/vnd.jupyter.widget-view+json": {
              "model_id": "d88479caea594fe1b74f40af1dfa99e9",
              "version_major": 2,
              "version_minor": 0
            },
            "text/plain": [
              "  0%|          | 0/33 [00:00<?, ?it/s]"
            ]
          },
          "metadata": {},
          "output_type": "display_data"
        },
        {
          "name": "stdout",
          "output_type": "stream",
          "text": [
            "mAlexNet_original_keras.h5 SvJur {'correct': 31666, 'incorrect': 1990}\n"
          ]
        },
        {
          "data": {
            "application/vnd.jupyter.widget-view+json": {
              "model_id": "7490ce93eaa3453dbe271ca4fb6eb4bf",
              "version_major": 2,
              "version_minor": 0
            },
            "text/plain": [
              "  0%|          | 0/695 [00:00<?, ?it/s]"
            ]
          },
          "metadata": {},
          "output_type": "display_data"
        },
        {
          "name": "stdout",
          "output_type": "stream",
          "text": [
            "mAlexNet_original_keras.h5 PKLot\\PKLotSegmented {'correct': 596004, 'incorrect': 99847}\n"
          ]
        },
        {
          "data": {
            "application/vnd.jupyter.widget-view+json": {
              "model_id": "643a437eb5314469ad82d558108b91d2",
              "version_major": 2,
              "version_minor": 0
            },
            "text/plain": [
              "  0%|          | 0/12 [00:00<?, ?it/s]"
            ]
          },
          "metadata": {},
          "output_type": "display_data"
        },
        {
          "name": "stdout",
          "output_type": "stream",
          "text": [
            "old-bothan-194.h5 CNRParkAB {'correct': 11575, 'incorrect': 1009}\n"
          ]
        },
        {
          "data": {
            "application/vnd.jupyter.widget-view+json": {
              "model_id": "cad874dd03c74eaba73ba92295549162",
              "version_major": 2,
              "version_minor": 0
            },
            "text/plain": [
              "  0%|          | 0/144 [00:00<?, ?it/s]"
            ]
          },
          "metadata": {},
          "output_type": "display_data"
        },
        {
          "name": "stdout",
          "output_type": "stream",
          "text": [
            "old-bothan-194.h5 CNRPark-EXT {'correct': 132823, 'incorrect': 12027}\n"
          ]
        },
        {
          "data": {
            "application/vnd.jupyter.widget-view+json": {
              "model_id": "ad26cf10a4ce4663b9cda5d476c041bc",
              "version_major": 2,
              "version_minor": 0
            },
            "text/plain": [
              "  0%|          | 0/33 [00:00<?, ?it/s]"
            ]
          },
          "metadata": {},
          "output_type": "display_data"
        },
        {
          "name": "stdout",
          "output_type": "stream",
          "text": [
            "old-bothan-194.h5 SvJur {'correct': 33237, 'incorrect': 419}\n"
          ]
        },
        {
          "data": {
            "application/vnd.jupyter.widget-view+json": {
              "model_id": "e8bc8e1e97a542e4aed7509a478bd416",
              "version_major": 2,
              "version_minor": 0
            },
            "text/plain": [
              "  0%|          | 0/695 [00:00<?, ?it/s]"
            ]
          },
          "metadata": {},
          "output_type": "display_data"
        },
        {
          "name": "stdout",
          "output_type": "stream",
          "text": [
            "old-bothan-194.h5 PKLot\\PKLotSegmented {'correct': 673519, 'incorrect': 22332}\n"
          ]
        },
        {
          "data": {
            "application/vnd.jupyter.widget-view+json": {
              "model_id": "5f25ab8ee801479cb2edd676f4ab210e",
              "version_major": 2,
              "version_minor": 0
            },
            "text/plain": [
              "  0%|          | 0/12 [00:00<?, ?it/s]"
            ]
          },
          "metadata": {},
          "output_type": "display_data"
        },
        {
          "name": "stdout",
          "output_type": "stream",
          "text": [
            "rural-moon-122.h5 CNRParkAB {'correct': 11629, 'incorrect': 955}\n"
          ]
        },
        {
          "data": {
            "application/vnd.jupyter.widget-view+json": {
              "model_id": "76749d50cb914ae29f75300cc461dfc4",
              "version_major": 2,
              "version_minor": 0
            },
            "text/plain": [
              "  0%|          | 0/144 [00:00<?, ?it/s]"
            ]
          },
          "metadata": {},
          "output_type": "display_data"
        },
        {
          "name": "stdout",
          "output_type": "stream",
          "text": [
            "rural-moon-122.h5 CNRPark-EXT {'correct': 133765, 'incorrect': 11085}\n"
          ]
        },
        {
          "data": {
            "application/vnd.jupyter.widget-view+json": {
              "model_id": "db45ba69ea084e91947dfcdf30cac3a8",
              "version_major": 2,
              "version_minor": 0
            },
            "text/plain": [
              "  0%|          | 0/33 [00:00<?, ?it/s]"
            ]
          },
          "metadata": {},
          "output_type": "display_data"
        },
        {
          "name": "stdout",
          "output_type": "stream",
          "text": [
            "rural-moon-122.h5 SvJur {'correct': 33656, 'incorrect': 0}\n"
          ]
        },
        {
          "data": {
            "application/vnd.jupyter.widget-view+json": {
              "model_id": "b4183a7b163d44ada6a7e4e0ee732aa3",
              "version_major": 2,
              "version_minor": 0
            },
            "text/plain": [
              "  0%|          | 0/695 [00:00<?, ?it/s]"
            ]
          },
          "metadata": {},
          "output_type": "display_data"
        },
        {
          "name": "stdout",
          "output_type": "stream",
          "text": [
            "rural-moon-122.h5 PKLot\\PKLotSegmented {'correct': 682051, 'incorrect': 13800}\n"
          ]
        },
        {
          "data": {
            "application/vnd.jupyter.widget-view+json": {
              "model_id": "134b68e9195244ffaba7b6991d588906",
              "version_major": 2,
              "version_minor": 0
            },
            "text/plain": [
              "  0%|          | 0/12 [00:00<?, ?it/s]"
            ]
          },
          "metadata": {},
          "output_type": "display_data"
        },
        {
          "name": "stdout",
          "output_type": "stream",
          "text": [
            "scruffy-looking-rancor-195.h5 CNRParkAB {'correct': 11580, 'incorrect': 1004}\n"
          ]
        },
        {
          "data": {
            "application/vnd.jupyter.widget-view+json": {
              "model_id": "4a4997b3bebc4971a1d5f926750a4437",
              "version_major": 2,
              "version_minor": 0
            },
            "text/plain": [
              "  0%|          | 0/144 [00:03<?, ?it/s]"
            ]
          },
          "metadata": {},
          "output_type": "display_data"
        },
        {
          "name": "stdout",
          "output_type": "stream",
          "text": [
            "scruffy-looking-rancor-195.h5 CNRPark-EXT {'correct': 132748, 'incorrect': 12102}\n"
          ]
        },
        {
          "data": {
            "application/vnd.jupyter.widget-view+json": {
              "model_id": "313f6e584b2c4899a4a2f51c6226e22a",
              "version_major": 2,
              "version_minor": 0
            },
            "text/plain": [
              "  0%|          | 0/33 [00:00<?, ?it/s]"
            ]
          },
          "metadata": {},
          "output_type": "display_data"
        },
        {
          "name": "stdout",
          "output_type": "stream",
          "text": [
            "scruffy-looking-rancor-195.h5 SvJur {'correct': 33514, 'incorrect': 142}\n"
          ]
        },
        {
          "data": {
            "application/vnd.jupyter.widget-view+json": {
              "model_id": "e8219505c82746608ce85e23979c2804",
              "version_major": 2,
              "version_minor": 0
            },
            "text/plain": [
              "  0%|          | 0/695 [00:00<?, ?it/s]"
            ]
          },
          "metadata": {},
          "output_type": "display_data"
        },
        {
          "name": "stdout",
          "output_type": "stream",
          "text": [
            "scruffy-looking-rancor-195.h5 PKLot\\PKLotSegmented {'correct': 671672, 'incorrect': 24179}\n"
          ]
        },
        {
          "data": {
            "application/vnd.jupyter.widget-view+json": {
              "model_id": "9af8eb3260694e07a2dcde50d0143689",
              "version_major": 2,
              "version_minor": 0
            },
            "text/plain": [
              "  0%|          | 0/12 [00:00<?, ?it/s]"
            ]
          },
          "metadata": {},
          "output_type": "display_data"
        },
        {
          "name": "stdout",
          "output_type": "stream",
          "text": [
            "stark-woe-187.h5 CNRParkAB {'correct': 10367, 'incorrect': 2217}\n"
          ]
        },
        {
          "data": {
            "application/vnd.jupyter.widget-view+json": {
              "model_id": "d51b8041ee2b4f2081c06563afe62bf3",
              "version_major": 2,
              "version_minor": 0
            },
            "text/plain": [
              "  0%|          | 0/144 [00:00<?, ?it/s]"
            ]
          },
          "metadata": {},
          "output_type": "display_data"
        },
        {
          "name": "stdout",
          "output_type": "stream",
          "text": [
            "stark-woe-187.h5 CNRPark-EXT {'correct': 118111, 'incorrect': 26739}\n"
          ]
        },
        {
          "data": {
            "application/vnd.jupyter.widget-view+json": {
              "model_id": "d64ab348a6d14c86b33e9708a5892c1d",
              "version_major": 2,
              "version_minor": 0
            },
            "text/plain": [
              "  0%|          | 0/33 [00:00<?, ?it/s]"
            ]
          },
          "metadata": {},
          "output_type": "display_data"
        },
        {
          "name": "stdout",
          "output_type": "stream",
          "text": [
            "stark-woe-187.h5 SvJur {'correct': 33607, 'incorrect': 49}\n"
          ]
        },
        {
          "data": {
            "application/vnd.jupyter.widget-view+json": {
              "model_id": "0973011007db4a1c9105ff9bd4be9b2b",
              "version_major": 2,
              "version_minor": 0
            },
            "text/plain": [
              "  0%|          | 0/695 [00:00<?, ?it/s]"
            ]
          },
          "metadata": {},
          "output_type": "display_data"
        },
        {
          "name": "stdout",
          "output_type": "stream",
          "text": [
            "stark-woe-187.h5 PKLot\\PKLotSegmented {'correct': 683532, 'incorrect': 12319}\n"
          ]
        },
        {
          "data": {
            "application/vnd.jupyter.widget-view+json": {
              "model_id": "a7ffe768c5034c428a221355c233bc29",
              "version_major": 2,
              "version_minor": 0
            },
            "text/plain": [
              "  0%|          | 0/12 [00:00<?, ?it/s]"
            ]
          },
          "metadata": {},
          "output_type": "display_data"
        },
        {
          "name": "stdout",
          "output_type": "stream",
          "text": [
            "stellar-federation-190.h5 CNRParkAB {'correct': 11331, 'incorrect': 1253}\n"
          ]
        },
        {
          "data": {
            "application/vnd.jupyter.widget-view+json": {
              "model_id": "c9b4dbd19b2443539e5960c778c14ba7",
              "version_major": 2,
              "version_minor": 0
            },
            "text/plain": [
              "  0%|          | 0/144 [00:00<?, ?it/s]"
            ]
          },
          "metadata": {},
          "output_type": "display_data"
        },
        {
          "name": "stdout",
          "output_type": "stream",
          "text": [
            "stellar-federation-190.h5 CNRPark-EXT {'correct': 124496, 'incorrect': 20354}\n"
          ]
        },
        {
          "data": {
            "application/vnd.jupyter.widget-view+json": {
              "model_id": "9e16a260f4c6408880d46198610457d6",
              "version_major": 2,
              "version_minor": 0
            },
            "text/plain": [
              "  0%|          | 0/33 [00:00<?, ?it/s]"
            ]
          },
          "metadata": {},
          "output_type": "display_data"
        },
        {
          "name": "stdout",
          "output_type": "stream",
          "text": [
            "stellar-federation-190.h5 SvJur {'correct': 33377, 'incorrect': 279}\n"
          ]
        },
        {
          "data": {
            "application/vnd.jupyter.widget-view+json": {
              "model_id": "93d5145a11174b0eb21d1429a85fdf0a",
              "version_major": 2,
              "version_minor": 0
            },
            "text/plain": [
              "  0%|          | 0/695 [00:00<?, ?it/s]"
            ]
          },
          "metadata": {},
          "output_type": "display_data"
        },
        {
          "name": "stdout",
          "output_type": "stream",
          "text": [
            "stellar-federation-190.h5 PKLot\\PKLotSegmented {'correct': 664940, 'incorrect': 30911}\n"
          ]
        },
        {
          "data": {
            "application/vnd.jupyter.widget-view+json": {
              "model_id": "5dbdc89524ba4e59825c6a7cac128353",
              "version_major": 2,
              "version_minor": 0
            },
            "text/plain": [
              "  0%|          | 0/12 [00:00<?, ?it/s]"
            ]
          },
          "metadata": {},
          "output_type": "display_data"
        },
        {
          "name": "stdout",
          "output_type": "stream",
          "text": [
            "stellar-midichlorian-189.h5 CNRParkAB {'correct': 11345, 'incorrect': 1239}\n"
          ]
        },
        {
          "data": {
            "application/vnd.jupyter.widget-view+json": {
              "model_id": "a07fbd3b117d4ac6a40bb81de100e018",
              "version_major": 2,
              "version_minor": 0
            },
            "text/plain": [
              "  0%|          | 0/144 [00:00<?, ?it/s]"
            ]
          },
          "metadata": {},
          "output_type": "display_data"
        },
        {
          "name": "stdout",
          "output_type": "stream",
          "text": [
            "stellar-midichlorian-189.h5 CNRPark-EXT {'correct': 129780, 'incorrect': 15070}\n"
          ]
        },
        {
          "data": {
            "application/vnd.jupyter.widget-view+json": {
              "model_id": "0621134ac420496ca0ebc201526eeb78",
              "version_major": 2,
              "version_minor": 0
            },
            "text/plain": [
              "  0%|          | 0/33 [00:00<?, ?it/s]"
            ]
          },
          "metadata": {},
          "output_type": "display_data"
        },
        {
          "name": "stdout",
          "output_type": "stream",
          "text": [
            "stellar-midichlorian-189.h5 SvJur {'correct': 33625, 'incorrect': 31}\n"
          ]
        },
        {
          "data": {
            "application/vnd.jupyter.widget-view+json": {
              "model_id": "bcf1800a278b47f781eee670d7df5db5",
              "version_major": 2,
              "version_minor": 0
            },
            "text/plain": [
              "  0%|          | 0/695 [00:00<?, ?it/s]"
            ]
          },
          "metadata": {},
          "output_type": "display_data"
        },
        {
          "name": "stdout",
          "output_type": "stream",
          "text": [
            "stellar-midichlorian-189.h5 PKLot\\PKLotSegmented {'correct': 671743, 'incorrect': 24108}\n"
          ]
        },
        {
          "data": {
            "application/vnd.jupyter.widget-view+json": {
              "model_id": "513ca1e61758410fa413100c0df12007",
              "version_major": 2,
              "version_minor": 0
            },
            "text/plain": [
              "  0%|          | 0/12 [00:00<?, ?it/s]"
            ]
          },
          "metadata": {},
          "output_type": "display_data"
        },
        {
          "name": "stdout",
          "output_type": "stream",
          "text": [
            "true-rain-200.h5 CNRParkAB {'correct': 11462, 'incorrect': 1122}\n"
          ]
        },
        {
          "data": {
            "application/vnd.jupyter.widget-view+json": {
              "model_id": "b7e88972204c458f8ebf846b341e880a",
              "version_major": 2,
              "version_minor": 0
            },
            "text/plain": [
              "  0%|          | 0/144 [00:00<?, ?it/s]"
            ]
          },
          "metadata": {},
          "output_type": "display_data"
        },
        {
          "name": "stdout",
          "output_type": "stream",
          "text": [
            "true-rain-200.h5 CNRPark-EXT {'correct': 132248, 'incorrect': 12602}\n"
          ]
        },
        {
          "data": {
            "application/vnd.jupyter.widget-view+json": {
              "model_id": "0747388179284cba816c8042278b83cf",
              "version_major": 2,
              "version_minor": 0
            },
            "text/plain": [
              "  0%|          | 0/33 [00:00<?, ?it/s]"
            ]
          },
          "metadata": {},
          "output_type": "display_data"
        },
        {
          "name": "stdout",
          "output_type": "stream",
          "text": [
            "true-rain-200.h5 SvJur {'correct': 33542, 'incorrect': 114}\n"
          ]
        },
        {
          "data": {
            "application/vnd.jupyter.widget-view+json": {
              "model_id": "73f58bba9fb54e759bbcb75edf63c32a",
              "version_major": 2,
              "version_minor": 0
            },
            "text/plain": [
              "  0%|          | 0/695 [00:00<?, ?it/s]"
            ]
          },
          "metadata": {},
          "output_type": "display_data"
        },
        {
          "name": "stdout",
          "output_type": "stream",
          "text": [
            "true-rain-200.h5 PKLot\\PKLotSegmented {'correct': 669154, 'incorrect': 26697}\n"
          ]
        },
        {
          "data": {
            "application/vnd.jupyter.widget-view+json": {
              "model_id": "9cc8ab35d50f480386a232f627e850f4",
              "version_major": 2,
              "version_minor": 0
            },
            "text/plain": [
              "  0%|          | 0/12 [00:00<?, ?it/s]"
            ]
          },
          "metadata": {},
          "output_type": "display_data"
        },
        {
          "name": "stdout",
          "output_type": "stream",
          "text": [
            "wandering-puddle-196.h5 CNRParkAB {'correct': 11469, 'incorrect': 1115}\n"
          ]
        },
        {
          "data": {
            "application/vnd.jupyter.widget-view+json": {
              "model_id": "bb4a43889c7b4ce3a34fb8273a044e6c",
              "version_major": 2,
              "version_minor": 0
            },
            "text/plain": [
              "  0%|          | 0/144 [00:00<?, ?it/s]"
            ]
          },
          "metadata": {},
          "output_type": "display_data"
        },
        {
          "name": "stdout",
          "output_type": "stream",
          "text": [
            "wandering-puddle-196.h5 CNRPark-EXT {'correct': 130264, 'incorrect': 14586}\n"
          ]
        },
        {
          "data": {
            "application/vnd.jupyter.widget-view+json": {
              "model_id": "0492af55975c4baf82cb32086d210a9f",
              "version_major": 2,
              "version_minor": 0
            },
            "text/plain": [
              "  0%|          | 0/33 [00:00<?, ?it/s]"
            ]
          },
          "metadata": {},
          "output_type": "display_data"
        },
        {
          "name": "stdout",
          "output_type": "stream",
          "text": [
            "wandering-puddle-196.h5 SvJur {'correct': 33517, 'incorrect': 139}\n"
          ]
        },
        {
          "data": {
            "application/vnd.jupyter.widget-view+json": {
              "model_id": "4141c8b750e840f1a4c7fb8eaaf899d2",
              "version_major": 2,
              "version_minor": 0
            },
            "text/plain": [
              "  0%|          | 0/695 [00:00<?, ?it/s]"
            ]
          },
          "metadata": {},
          "output_type": "display_data"
        },
        {
          "name": "stdout",
          "output_type": "stream",
          "text": [
            "wandering-puddle-196.h5 PKLot\\PKLotSegmented {'correct': 668651, 'incorrect': 27200}\n"
          ]
        },
        {
          "data": {
            "application/vnd.jupyter.widget-view+json": {
              "model_id": "61032c2f7b0244bbb81adf002f09d92c",
              "version_major": 2,
              "version_minor": 0
            },
            "text/plain": [
              "  0%|          | 0/12 [00:00<?, ?it/s]"
            ]
          },
          "metadata": {},
          "output_type": "display_data"
        },
        {
          "name": "stdout",
          "output_type": "stream",
          "text": [
            "wise-vortex-184.h5 CNRParkAB {'correct': 11206, 'incorrect': 1378}\n"
          ]
        },
        {
          "data": {
            "application/vnd.jupyter.widget-view+json": {
              "model_id": "e7d4b1b861434afd8e80acf49d6cadd2",
              "version_major": 2,
              "version_minor": 0
            },
            "text/plain": [
              "  0%|          | 0/144 [00:00<?, ?it/s]"
            ]
          },
          "metadata": {},
          "output_type": "display_data"
        },
        {
          "name": "stdout",
          "output_type": "stream",
          "text": [
            "wise-vortex-184.h5 CNRPark-EXT {'correct': 123367, 'incorrect': 21483}\n"
          ]
        },
        {
          "data": {
            "application/vnd.jupyter.widget-view+json": {
              "model_id": "08a85383465c43a8a13db14666251602",
              "version_major": 2,
              "version_minor": 0
            },
            "text/plain": [
              "  0%|          | 0/33 [00:00<?, ?it/s]"
            ]
          },
          "metadata": {},
          "output_type": "display_data"
        },
        {
          "name": "stdout",
          "output_type": "stream",
          "text": [
            "wise-vortex-184.h5 SvJur {'correct': 33513, 'incorrect': 143}\n"
          ]
        },
        {
          "data": {
            "application/vnd.jupyter.widget-view+json": {
              "model_id": "3564eced81ba417ca5eaaab00838fce6",
              "version_major": 2,
              "version_minor": 0
            },
            "text/plain": [
              "  0%|          | 0/695 [00:00<?, ?it/s]"
            ]
          },
          "metadata": {},
          "output_type": "display_data"
        },
        {
          "name": "stdout",
          "output_type": "stream",
          "text": [
            "wise-vortex-184.h5 PKLot\\PKLotSegmented {'correct': 668252, 'incorrect': 27599}\n"
          ]
        },
        {
          "ename": "KeyError",
          "evalue": "\"Unable to open object (object 'model_weights' doesn't exist)\"",
          "output_type": "error",
          "traceback": [
            "\u001b[1;31m---------------------------------------------------------------------------\u001b[0m",
            "\u001b[1;31mKeyError\u001b[0m                                  Traceback (most recent call last)",
            "\u001b[1;32mc:\\Users\\krock\\Desktop\\FIIT\\Ing\\DP\\DP\\DP.ipynb Cell 33'\u001b[0m in \u001b[0;36m<cell line: 1>\u001b[1;34m()\u001b[0m\n\u001b[0;32m      <a href='vscode-notebook-cell:/c%3A/Users/krock/Desktop/FIIT/Ing/DP/DP/DP.ipynb#ch0000032?line=0'>1</a>\u001b[0m \u001b[39mfor\u001b[39;00m root, dirs, files \u001b[39min\u001b[39;00m os\u001b[39m.\u001b[39mwalk(\u001b[39m'\u001b[39m\u001b[39mC:\u001b[39m\u001b[39m\\\\\u001b[39;00m\u001b[39mUsers\u001b[39m\u001b[39m\\\\\u001b[39;00m\u001b[39mkrock\u001b[39m\u001b[39m\\\\\u001b[39;00m\u001b[39mDesktop\u001b[39m\u001b[39m\\\\\u001b[39;00m\u001b[39mFIIT\u001b[39m\u001b[39m\\\\\u001b[39;00m\u001b[39mIng\u001b[39m\u001b[39m\\\\\u001b[39;00m\u001b[39mDP\u001b[39m\u001b[39m\\\\\u001b[39;00m\u001b[39mDP\u001b[39m\u001b[39m\\\\\u001b[39;00m\u001b[39mmodels\u001b[39m\u001b[39m'\u001b[39m):\n\u001b[0;32m      <a href='vscode-notebook-cell:/c%3A/Users/krock/Desktop/FIIT/Ing/DP/DP/DP.ipynb#ch0000032?line=1'>2</a>\u001b[0m     \u001b[39mfor\u001b[39;00m file \u001b[39min\u001b[39;00m files:\n\u001b[1;32m----> <a href='vscode-notebook-cell:/c%3A/Users/krock/Desktop/FIIT/Ing/DP/DP/DP.ipynb#ch0000032?line=2'>3</a>\u001b[0m         model \u001b[39m=\u001b[39m keras\u001b[39m.\u001b[39;49mmodels\u001b[39m.\u001b[39;49mload_model(os\u001b[39m.\u001b[39;49mpath\u001b[39m.\u001b[39;49mjoin(root, file))\n\u001b[0;32m      <a href='vscode-notebook-cell:/c%3A/Users/krock/Desktop/FIIT/Ing/DP/DP/DP.ipynb#ch0000032?line=3'>4</a>\u001b[0m         \u001b[39mprint\u001b[39m(file, CNRParkAB_PATH, test_accuracy_on_dataset(model, CNRParkAB_PATH))\n\u001b[0;32m      <a href='vscode-notebook-cell:/c%3A/Users/krock/Desktop/FIIT/Ing/DP/DP/DP.ipynb#ch0000032?line=4'>5</a>\u001b[0m         \u001b[39mprint\u001b[39m(file, CNRParkEXT_PATH, test_accuracy_on_dataset(model, CNRParkEXT_PATH))\n",
            "File \u001b[1;32mc:\\Users\\krock\\Desktop\\FIIT\\Ing\\DP\\DP\\venv\\lib\\site-packages\\keras\\utils\\traceback_utils.py:67\u001b[0m, in \u001b[0;36mfilter_traceback.<locals>.error_handler\u001b[1;34m(*args, **kwargs)\u001b[0m\n\u001b[0;32m     <a href='file:///c%3A/Users/krock/Desktop/FIIT/Ing/DP/DP/venv/lib/site-packages/keras/utils/traceback_utils.py?line=64'>65</a>\u001b[0m \u001b[39mexcept\u001b[39;00m \u001b[39mException\u001b[39;00m \u001b[39mas\u001b[39;00m e:  \u001b[39m# pylint: disable=broad-except\u001b[39;00m\n\u001b[0;32m     <a href='file:///c%3A/Users/krock/Desktop/FIIT/Ing/DP/DP/venv/lib/site-packages/keras/utils/traceback_utils.py?line=65'>66</a>\u001b[0m   filtered_tb \u001b[39m=\u001b[39m _process_traceback_frames(e\u001b[39m.\u001b[39m__traceback__)\n\u001b[1;32m---> <a href='file:///c%3A/Users/krock/Desktop/FIIT/Ing/DP/DP/venv/lib/site-packages/keras/utils/traceback_utils.py?line=66'>67</a>\u001b[0m   \u001b[39mraise\u001b[39;00m e\u001b[39m.\u001b[39mwith_traceback(filtered_tb) \u001b[39mfrom\u001b[39;00m \u001b[39mNone\u001b[39m\n\u001b[0;32m     <a href='file:///c%3A/Users/krock/Desktop/FIIT/Ing/DP/DP/venv/lib/site-packages/keras/utils/traceback_utils.py?line=67'>68</a>\u001b[0m \u001b[39mfinally\u001b[39;00m:\n\u001b[0;32m     <a href='file:///c%3A/Users/krock/Desktop/FIIT/Ing/DP/DP/venv/lib/site-packages/keras/utils/traceback_utils.py?line=68'>69</a>\u001b[0m   \u001b[39mdel\u001b[39;00m filtered_tb\n",
            "File \u001b[1;32mh5py\\_objects.pyx:54\u001b[0m, in \u001b[0;36mh5py._objects.with_phil.wrapper\u001b[1;34m()\u001b[0m\n",
            "File \u001b[1;32mh5py\\_objects.pyx:55\u001b[0m, in \u001b[0;36mh5py._objects.with_phil.wrapper\u001b[1;34m()\u001b[0m\n",
            "File \u001b[1;32mc:\\Users\\krock\\Desktop\\FIIT\\Ing\\DP\\DP\\venv\\lib\\site-packages\\h5py\\_hl\\group.py:305\u001b[0m, in \u001b[0;36mGroup.__getitem__\u001b[1;34m(self, name)\u001b[0m\n\u001b[0;32m    <a href='file:///c%3A/Users/krock/Desktop/FIIT/Ing/DP/DP/venv/lib/site-packages/h5py/_hl/group.py?line=302'>303</a>\u001b[0m         \u001b[39mraise\u001b[39;00m \u001b[39mValueError\u001b[39;00m(\u001b[39m\"\u001b[39m\u001b[39mInvalid HDF5 object reference\u001b[39m\u001b[39m\"\u001b[39m)\n\u001b[0;32m    <a href='file:///c%3A/Users/krock/Desktop/FIIT/Ing/DP/DP/venv/lib/site-packages/h5py/_hl/group.py?line=303'>304</a>\u001b[0m \u001b[39melif\u001b[39;00m \u001b[39misinstance\u001b[39m(name, (\u001b[39mbytes\u001b[39m, \u001b[39mstr\u001b[39m)):\n\u001b[1;32m--> <a href='file:///c%3A/Users/krock/Desktop/FIIT/Ing/DP/DP/venv/lib/site-packages/h5py/_hl/group.py?line=304'>305</a>\u001b[0m     oid \u001b[39m=\u001b[39m h5o\u001b[39m.\u001b[39;49mopen(\u001b[39mself\u001b[39;49m\u001b[39m.\u001b[39;49mid, \u001b[39mself\u001b[39;49m\u001b[39m.\u001b[39;49m_e(name), lapl\u001b[39m=\u001b[39;49m\u001b[39mself\u001b[39;49m\u001b[39m.\u001b[39;49m_lapl)\n\u001b[0;32m    <a href='file:///c%3A/Users/krock/Desktop/FIIT/Ing/DP/DP/venv/lib/site-packages/h5py/_hl/group.py?line=305'>306</a>\u001b[0m \u001b[39melse\u001b[39;00m:\n\u001b[0;32m    <a href='file:///c%3A/Users/krock/Desktop/FIIT/Ing/DP/DP/venv/lib/site-packages/h5py/_hl/group.py?line=306'>307</a>\u001b[0m     \u001b[39mraise\u001b[39;00m \u001b[39mTypeError\u001b[39;00m(\u001b[39m\"\u001b[39m\u001b[39mAccessing a group is done with bytes or str, \u001b[39m\u001b[39m\"\u001b[39m\n\u001b[0;32m    <a href='file:///c%3A/Users/krock/Desktop/FIIT/Ing/DP/DP/venv/lib/site-packages/h5py/_hl/group.py?line=307'>308</a>\u001b[0m                     \u001b[39m\"\u001b[39m\u001b[39m not \u001b[39m\u001b[39m{}\u001b[39;00m\u001b[39m\"\u001b[39m\u001b[39m.\u001b[39mformat(\u001b[39mtype\u001b[39m(name)))\n",
            "File \u001b[1;32mh5py\\_objects.pyx:54\u001b[0m, in \u001b[0;36mh5py._objects.with_phil.wrapper\u001b[1;34m()\u001b[0m\n",
            "File \u001b[1;32mh5py\\_objects.pyx:55\u001b[0m, in \u001b[0;36mh5py._objects.with_phil.wrapper\u001b[1;34m()\u001b[0m\n",
            "File \u001b[1;32mh5py\\h5o.pyx:190\u001b[0m, in \u001b[0;36mh5py.h5o.open\u001b[1;34m()\u001b[0m\n",
            "\u001b[1;31mKeyError\u001b[0m: \"Unable to open object (object 'model_weights' doesn't exist)\""
          ]
        }
      ],
      "source": [
        "for root, dirs, files in os.walk('C:\\\\Users\\\\krock\\\\Desktop\\\\FIIT\\\\Ing\\\\DP\\\\DP\\\\models'):\n",
        "    for file in files:\n",
        "        model = keras.models.load_model(os.path.join(root, file))\n",
        "        print(file, CNRParkAB_PATH, test_accuracy_on_dataset(model, CNRParkAB_PATH))\n",
        "        print(file, CNRParkEXT_PATH, test_accuracy_on_dataset(model, CNRParkEXT_PATH))\n",
        "        print(file, SvJur_PATH, test_accuracy_on_dataset(model, SvJur_PATH))\n",
        "        print(file, PKLot_PATH, test_accuracy_on_dataset(model, PKLot_PATH))"
      ]
    },
    {
      "cell_type": "code",
      "execution_count": 13,
      "metadata": {},
      "outputs": [],
      "source": [
        "def create_accuracy_percentage_plot(num_correct:list, dataset_path, dataset_name:str):\n",
        "    model_names = ('angry-alpaca-186', 'atomic-totem-201', 'clone-nerf-herder-193', 'crimson-plasma-199', 'divine-hill-183',\n",
        "                   'jedi-council-188', 'legendary-parsec-192', 'legendary-sky-197', 'lemon-capybara-202', 'mAlexNet_original_keras',\n",
        "                   'old-bothan-194', 'rural-moon-122', 'scruffy-looking-rancor-195', 'stark-woe-187', 'stellar-federation-190',\n",
        "                   'stellar-midichlorian-189', 'true-rain-200', 'wandering-puddle-196', 'wise-vortex-184')\n",
        "\n",
        "    # sort lists - order from highest accuracy to lowest\n",
        "    dataset_size = sum(count_file_lines(dataset) for dataset in dataset_path) if type(dataset_path) == list else count_file_lines(dataset_path)\n",
        "    num_incorrect = [dataset_size - v for v in num_correct]\n",
        "    sorted_list = sorted(zip(num_correct, num_incorrect, model_names), key=lambda x: x[0], reverse=True)\n",
        "    num_correct, num_incorrect, model_names = zip(*sorted_list)\n",
        "\n",
        "    # calculate % accuracy\n",
        "    percent_correct = [v * 100 / dataset_size for v in num_correct]\n",
        "    percent_incorrect = [v * 100 / dataset_size for v in num_incorrect]\n",
        "    ind = np.arange(len(model_names))\n",
        "    width = 0.85\n",
        "\n",
        "    # create bars and add percentages as bar labels\n",
        "    _, ax = plt.subplots(figsize=(10,7))\n",
        "    p1 = ax.bar(ind, percent_correct, width)\n",
        "    p2 = ax.bar(ind, percent_incorrect, width, bottom=percent_correct)\n",
        "    ax.bar_label(p1, [round(v, 1) for v in percent_correct], label_type='center')\n",
        "    ax.bar_label(p2, [round(v, 1) if round(v, 1) != 0.0 else '' for v in percent_incorrect], label_type='center')\n",
        "\n",
        "    plt.title(f'{dataset_name} accuracy percentage summary')\n",
        "    plt.ylabel('Number of images')\n",
        "    plt.xlabel('Model name')\n",
        "    plt.xticks(ind, model_names, rotation=90)\n",
        "    plt.yticks(np.arange(0, 101, 10))\n",
        "    plt.legend((p1[0], p2[0]), ('correct', 'incorrect'), loc='lower right')\n",
        "\n",
        "    plt.show()"
      ]
    },
    {
      "cell_type": "code",
      "execution_count": 126,
      "metadata": {},
      "outputs": [
        {
          "data": {
            "image/png": "[encoded data removed]",
            "text/plain": [
              "<Figure size 720x504 with 1 Axes>"
            ]
          },
          "metadata": {
            "needs_background": "light"
          },
          "output_type": "display_data"
        }
      ],
      "source": [
        "CNRParkAB_num_correct = [11117, 11250, 11561, 11538, 11079, 11565, 11389, 11568, 11573, 11643, 11575, 11629, 11580, 10367, 11331, 11345, 11462, 11469, 11206]\n",
        "create_accuracy_percentage_plot(CNRParkAB_num_correct, CNRParkAB_PATH, 'CNRParkAB')"
      ]
    },
    {
      "cell_type": "code",
      "execution_count": 132,
      "metadata": {},
      "outputs": [
        {
          "data": {
            "image/png": "[encoded data removed]",
            "text/plain": [
              "<Figure size 720x504 with 1 Axes>"
            ]
          },
          "metadata": {
            "needs_background": "light"
          },
          "output_type": "display_data"
        }
      ],
      "source": [
        "CNRParkEXT_num_correct = [129989, 128806, 132420, 130730, 124498, 132093, 124795, 131582, 133310, 137164, 132823, 133765, 132748, 118111, 124496, 129780, 132248, 130264, 123367]\n",
        "create_accuracy_percentage_plot(CNRParkEXT_num_correct, CNRParkEXT_PATH, 'CNRParkEXT')"
      ]
    },
    {
      "cell_type": "code",
      "execution_count": 131,
      "metadata": {},
      "outputs": [
        {
          "data": {
            "image/png": "[encoded data removed]",
            "text/plain": [
              "<Figure size 720x504 with 1 Axes>"
            ]
          },
          "metadata": {
            "needs_background": "light"
          },
          "output_type": "display_data"
        }
      ],
      "source": [
        "SvJur_num_correct = [33375, 33518, 33273, 33653, 33655, 33655, 33376, 33655, 33535, 31666, 33237, 33656, 33514, 33607, 33377, 33625, 33542, 33517, 33513]\n",
        "create_accuracy_percentage_plot(SvJur_num_correct, SvJur_PATH, 'SvJur')"
      ]
    },
    {
      "cell_type": "code",
      "execution_count": 122,
      "metadata": {},
      "outputs": [
        {
          "data": {
            "image/png": "[encoded data removed]",
            "text/plain": [
              "<Figure size 720x504 with 1 Axes>"
            ]
          },
          "metadata": {
            "needs_background": "light"
          },
          "output_type": "display_data"
        }
      ],
      "source": [
        "PKLot_num_correct = [680037, 669979, 669241, 663384, 673686, 675862, 657358, 668748, 669216, 596004, 673519, 682051, 671672, 683532, 664940, 671743, 669154, 668651, 668252]\n",
        "create_accuracy_percentage_plot(PKLot_num_correct, PKLot_PATH, 'PKLot')"
      ]
    },
    {
      "cell_type": "code",
      "execution_count": 130,
      "metadata": {},
      "outputs": [
        {
          "data": {
            "image/png": "[encoded data removed]",
            "text/plain": [
              "<Figure size 720x504 with 1 Axes>"
            ]
          },
          "metadata": {
            "needs_background": "light"
          },
          "output_type": "display_data"
        }
      ],
      "source": [
        "sum_num_correct = [a + b + c + d for a, b, c, d in zip(CNRParkAB_num_correct, CNRParkEXT_num_correct, SvJur_num_correct, PKLot_num_correct)]\n",
        "create_accuracy_percentage_plot(sum_num_correct, [CNRParkAB_PATH, CNRParkEXT_PATH, SvJur_PATH, PKLot_PATH], 'All datasets')"
      ]
    },
    {
      "cell_type": "code",
      "execution_count": 12,
      "metadata": {},
      "outputs": [],
      "source": [
        "def test_accuracy_on_dataset_confusion_matrix(model, dataset_path:str, batch_size:int=1000) -> dict:\n",
        "    file_path = dataset_path if '.txt' in dataset_path else os.path.join(OCD_DATA_DIR, 'splits', dataset_path, 'all.txt')\n",
        "    pred_labels, true_labels = [], []\n",
        "    images, labels = [], []\n",
        "\n",
        "    with open(file_path) as f:\n",
        "        for line in tqdm(f, total=math.floor(count_file_lines(file_path) / batch_size)):\n",
        "\n",
        "            while len(images) < batch_size:\n",
        "                if line == '':\n",
        "                    # predict the final incomplete batch\n",
        "                    predictions = model.predict_on_batch(np.array(images))\n",
        "                    if model.output_shape == (None, 2):\n",
        "                        pred_labels += [str(np.argmax(pred)) for pred in predictions]\n",
        "                    else:\n",
        "                        pred_labels += [str(round(pred[0])) for pred in predictions]\n",
        "                    true_labels += labels\n",
        "\n",
        "                    # close file and return dict\n",
        "                    f.close()\n",
        "\n",
        "                    # create confusion matrix and display it\n",
        "                    cm = confusion_matrix(true_labels, pred_labels)\n",
        "                    labels_one_hot = np.array([0, 1])\n",
        "                    disp = ConfusionMatrixDisplay(confusion_matrix=cm, display_labels=labels_one_hot)\n",
        "                    disp.plot(cmap=plt.cm.Blues)\n",
        "                    plt.show()\n",
        "\n",
        "                    return pred_labels, true_labels\n",
        "                \n",
        "                # preprocess image\n",
        "                orig_filename, label = line.strip().split(' ')\n",
        "                filename = os.path.join(OCD_DATA_DIR, orig_filename) if '.txt' in dataset_path else os.path.join(OCD_DATA_DIR, dataset_path, orig_filename)\n",
        "                image = preprocess_image(filename, expand_dims=False)\n",
        "                \n",
        "                images.append(image)\n",
        "                labels.append(label)\n",
        "                if len(images) < batch_size:\n",
        "                    line = f.readline()\n",
        "\n",
        "            # store number of correct / incorrect predictions\n",
        "            predictions = model.predict_on_batch(np.array(images))\n",
        "            if model.output_shape == (None, 2):\n",
        "                pred_labels += [str(np.argmax(pred)) for pred in predictions]\n",
        "            else:\n",
        "                pred_labels += [str(round(pred[0])) for pred in predictions]\n",
        "            true_labels += labels\n",
        "            images, labels = [], []"
      ]
    },
    {
      "cell_type": "code",
      "execution_count": 13,
      "metadata": {},
      "outputs": [
        {
          "data": {
            "application/vnd.jupyter.widget-view+json": {
              "model_id": "187cbcca5f5f4338b5311822bb9b7849",
              "version_major": 2,
              "version_minor": 0
            },
            "text/plain": [
              "  0%|          | 0/12 [00:00<?, ?it/s]"
            ]
          },
          "metadata": {},
          "output_type": "display_data"
        },
        {
          "data": {
            "image/png": "[encoded data removed]",
            "text/plain": [
              "<Figure size 432x288 with 2 Axes>"
            ]
          },
          "metadata": {
            "needs_background": "light"
          },
          "output_type": "display_data"
        },
        {
          "data": {
            "application/vnd.jupyter.widget-view+json": {
              "model_id": "55ec138971a142ca827deb9b4e79464f",
              "version_major": 2,
              "version_minor": 0
            },
            "text/plain": [
              "  0%|          | 0/144 [00:00<?, ?it/s]"
            ]
          },
          "metadata": {},
          "output_type": "display_data"
        },
        {
          "data": {
            "image/png": "[encoded data removed]",
            "text/plain": [
              "<Figure size 432x288 with 2 Axes>"
            ]
          },
          "metadata": {
            "needs_background": "light"
          },
          "output_type": "display_data"
        },
        {
          "data": {
            "application/vnd.jupyter.widget-view+json": {
              "model_id": "bb301d23e5d3427cb7106c97503158dd",
              "version_major": 2,
              "version_minor": 0
            },
            "text/plain": [
              "  0%|          | 0/33 [00:00<?, ?it/s]"
            ]
          },
          "metadata": {},
          "output_type": "display_data"
        },
        {
          "data": {
            "image/png": "[encoded data removed]",
            "text/plain": [
              "<Figure size 432x288 with 2 Axes>"
            ]
          },
          "metadata": {
            "needs_background": "light"
          },
          "output_type": "display_data"
        },
        {
          "data": {
            "application/vnd.jupyter.widget-view+json": {
              "model_id": "58abf26aff2941ab9f205f7b69ed12e6",
              "version_major": 2,
              "version_minor": 0
            },
            "text/plain": [
              "  0%|          | 0/695 [00:00<?, ?it/s]"
            ]
          },
          "metadata": {},
          "output_type": "display_data"
        },
        {
          "data": {
            "image/png": "[encoded data removed]",
            "text/plain": [
              "<Figure size 432x288 with 2 Axes>"
            ]
          },
          "metadata": {
            "needs_background": "light"
          },
          "output_type": "display_data"
        },
        {
          "data": {
            "application/vnd.jupyter.widget-view+json": {
              "model_id": "ffd7f260698e4bacaff4e775a4dc0508",
              "version_major": 2,
              "version_minor": 0
            },
            "text/plain": [
              "  0%|          | 0/12 [00:00<?, ?it/s]"
            ]
          },
          "metadata": {},
          "output_type": "display_data"
        },
        {
          "data": {
            "image/png": "[encoded data removed]",
            "text/plain": [
              "<Figure size 432x288 with 2 Axes>"
            ]
          },
          "metadata": {
            "needs_background": "light"
          },
          "output_type": "display_data"
        },
        {
          "data": {
            "application/vnd.jupyter.widget-view+json": {
              "model_id": "90f90741716d40a7ae9f67e4c061ad5a",
              "version_major": 2,
              "version_minor": 0
            },
            "text/plain": [
              "  0%|          | 0/144 [00:00<?, ?it/s]"
            ]
          },
          "metadata": {},
          "output_type": "display_data"
        },
        {
          "data": {
            "image/png": "[encoded data removed]",
            "text/plain": [
              "<Figure size 432x288 with 2 Axes>"
            ]
          },
          "metadata": {
            "needs_background": "light"
          },
          "output_type": "display_data"
        },
        {
          "data": {
            "application/vnd.jupyter.widget-view+json": {
              "model_id": "9d2012cfd9c842cda63378d61c9977c4",
              "version_major": 2,
              "version_minor": 0
            },
            "text/plain": [
              "  0%|          | 0/33 [00:00<?, ?it/s]"
            ]
          },
          "metadata": {},
          "output_type": "display_data"
        },
        {
          "data": {
            "image/png": "[encoded data removed]",
            "text/plain": [
              "<Figure size 432x288 with 2 Axes>"
            ]
          },
          "metadata": {
            "needs_background": "light"
          },
          "output_type": "display_data"
        },
        {
          "data": {
            "application/vnd.jupyter.widget-view+json": {
              "model_id": "2a92e92f8b3c4600b854135fa12c6858",
              "version_major": 2,
              "version_minor": 0
            },
            "text/plain": [
              "  0%|          | 0/695 [00:00<?, ?it/s]"
            ]
          },
          "metadata": {},
          "output_type": "display_data"
        },
        {
          "data": {
            "image/png": "[encoded data removed]",
            "text/plain": [
              "<Figure size 432x288 with 2 Axes>"
            ]
          },
          "metadata": {
            "needs_background": "light"
          },
          "output_type": "display_data"
        },
        {
          "data": {
            "application/vnd.jupyter.widget-view+json": {
              "model_id": "ddddca384f894dbc84ba6d06cc494711",
              "version_major": 2,
              "version_minor": 0
            },
            "text/plain": [
              "  0%|          | 0/12 [00:00<?, ?it/s]"
            ]
          },
          "metadata": {},
          "output_type": "display_data"
        },
        {
          "data": {
            "image/png": "[encoded data removed]",
            "text/plain": [
              "<Figure size 432x288 with 2 Axes>"
            ]
          },
          "metadata": {
            "needs_background": "light"
          },
          "output_type": "display_data"
        },
        {
          "data": {
            "application/vnd.jupyter.widget-view+json": {
              "model_id": "e371466849e94547aec0913ca8923bcb",
              "version_major": 2,
              "version_minor": 0
            },
            "text/plain": [
              "  0%|          | 0/144 [00:00<?, ?it/s]"
            ]
          },
          "metadata": {},
          "output_type": "display_data"
        },
        {
          "data": {
            "image/png": "[encoded data removed]",
            "text/plain": [
              "<Figure size 432x288 with 2 Axes>"
            ]
          },
          "metadata": {
            "needs_background": "light"
          },
          "output_type": "display_data"
        },
        {
          "data": {
            "application/vnd.jupyter.widget-view+json": {
              "model_id": "dad5679b3ffe434ba2d653303a4fea25",
              "version_major": 2,
              "version_minor": 0
            },
            "text/plain": [
              "  0%|          | 0/33 [00:00<?, ?it/s]"
            ]
          },
          "metadata": {},
          "output_type": "display_data"
        },
        {
          "data": {
            "image/png": "[encoded data removed]",
            "text/plain": [
              "<Figure size 432x288 with 2 Axes>"
            ]
          },
          "metadata": {
            "needs_background": "light"
          },
          "output_type": "display_data"
        },
        {
          "data": {
            "application/vnd.jupyter.widget-view+json": {
              "model_id": "aeef1530982d4445bab5456cf1c2f525",
              "version_major": 2,
              "version_minor": 0
            },
            "text/plain": [
              "  0%|          | 0/695 [00:00<?, ?it/s]"
            ]
          },
          "metadata": {},
          "output_type": "display_data"
        },
        {
          "data": {
            "image/png": "[encoded data removed]",
            "text/plain": [
              "<Figure size 432x288 with 2 Axes>"
            ]
          },
          "metadata": {
            "needs_background": "light"
          },
          "output_type": "display_data"
        },
        {
          "name": "stdout",
          "output_type": "stream",
          "text": [
            "WARNING:tensorflow:No training configuration found in the save file, so the model was *not* compiled. Compile it manually.\n"
          ]
        },
        {
          "data": {
            "application/vnd.jupyter.widget-view+json": {
              "model_id": "faeded5bbb7742c1afcc48e6ed2816b8",
              "version_major": 2,
              "version_minor": 0
            },
            "text/plain": [
              "  0%|          | 0/12 [00:00<?, ?it/s]"
            ]
          },
          "metadata": {},
          "output_type": "display_data"
        },
        {
          "data": {
            "image/png": "[encoded data removed]",
            "text/plain": [
              "<Figure size 432x288 with 2 Axes>"
            ]
          },
          "metadata": {
            "needs_background": "light"
          },
          "output_type": "display_data"
        },
        {
          "data": {
            "application/vnd.jupyter.widget-view+json": {
              "model_id": "138b4cc56eec495bbac9bed1e5b0b569",
              "version_major": 2,
              "version_minor": 0
            },
            "text/plain": [
              "  0%|          | 0/144 [00:00<?, ?it/s]"
            ]
          },
          "metadata": {},
          "output_type": "display_data"
        },
        {
          "data": {
            "image/png": "[encoded data removed]",
            "text/plain": [
              "<Figure size 432x288 with 2 Axes>"
            ]
          },
          "metadata": {
            "needs_background": "light"
          },
          "output_type": "display_data"
        },
        {
          "data": {
            "application/vnd.jupyter.widget-view+json": {
              "model_id": "bb999429011d45f5bc33f3528bfdb76b",
              "version_major": 2,
              "version_minor": 0
            },
            "text/plain": [
              "  0%|          | 0/33 [00:00<?, ?it/s]"
            ]
          },
          "metadata": {},
          "output_type": "display_data"
        },
        {
          "data": {
            "image/png": "[encoded data removed]",
            "text/plain": [
              "<Figure size 432x288 with 2 Axes>"
            ]
          },
          "metadata": {
            "needs_background": "light"
          },
          "output_type": "display_data"
        },
        {
          "data": {
            "application/vnd.jupyter.widget-view+json": {
              "model_id": "e7052c493154465aad30a8cb6a73392c",
              "version_major": 2,
              "version_minor": 0
            },
            "text/plain": [
              "  0%|          | 0/695 [00:00<?, ?it/s]"
            ]
          },
          "metadata": {},
          "output_type": "display_data"
        },
        {
          "data": {
            "image/png": "[encoded data removed]",
            "text/plain": [
              "<Figure size 432x288 with 2 Axes>"
            ]
          },
          "metadata": {
            "needs_background": "light"
          },
          "output_type": "display_data"
        },
        {
          "data": {
            "text/plain": [
              "(['1',\n",
              "  '0',\n",
              "  '1',\n",
              "  '0',\n",
              "  '1',\n",
              "  '1',\n",
              "  '0',\n",
              "  '1',\n",
              "  '1',\n",
              "  '0',\n",
              "  '1',\n",
              "  '1',\n",
              "  '0',\n",
              "  '0',\n",
              "  '1',\n",
              "  '1',\n",
              "  '0',\n",
              "  '1',\n",
              "  '0',\n",
              "  '1',\n",
              "  '1',\n",
              "  '0',\n",
              "  '0',\n",
              "  '1',\n",
              "  '1',\n",
              "  '1',\n",
              "  '0',\n",
              "  '1',\n",
              "  '0',\n",
              "  '1',\n",
              "  '1',\n",
              "  '0',\n",
              "  '0',\n",
              "  '0',\n",
              "  '1',\n",
              "  '0',\n",
              "  '1',\n",
              "  '1',\n",
              "  '1',\n",
              "  '0',\n",
              "  '1',\n",
              "  '1',\n",
              "  '0',\n",
              "  '1',\n",
              "  '1',\n",
              "  '1',\n",
              "  '1',\n",
              "  '1',\n",
              "  '0',\n",
              "  '1',\n",
              "  '1',\n",
              "  '1',\n",
              "  '1',\n",
              "  '0',\n",
              "  '1',\n",
              "  '1',\n",
              "  '1',\n",
              "  '1',\n",
              "  '1',\n",
              "  '1',\n",
              "  '0',\n",
              "  '0',\n",
              "  '1',\n",
              "  '1',\n",
              "  '0',\n",
              "  '1',\n",
              "  '0',\n",
              "  '0',\n",
              "  '0',\n",
              "  '1',\n",
              "  '1',\n",
              "  '1',\n",
              "  '1',\n",
              "  '1',\n",
              "  '0',\n",
              "  '1',\n",
              "  '1',\n",
              "  '1',\n",
              "  '0',\n",
              "  '1',\n",
              "  '1',\n",
              "  '0',\n",
              "  '1',\n",
              "  '1',\n",
              "  '1',\n",
              "  '1',\n",
              "  '0',\n",
              "  '0',\n",
              "  '1',\n",
              "  '1',\n",
              "  '0',\n",
              "  '0',\n",
              "  '1',\n",
              "  '0',\n",
              "  '0',\n",
              "  '0',\n",
              "  '0',\n",
              "  '0',\n",
              "  '1',\n",
              "  '1',\n",
              "  '0',\n",
              "  '1',\n",
              "  '0',\n",
              "  '1',\n",
              "  '0',\n",
              "  '1',\n",
              "  '1',\n",
              "  '1',\n",
              "  '0',\n",
              "  '1',\n",
              "  '0',\n",
              "  '1',\n",
              "  '1',\n",
              "  '1',\n",
              "  '1',\n",
              "  '1',\n",
              "  '0',\n",
              "  '0',\n",
              "  '1',\n",
              "  '1',\n",
              "  '0',\n",
              "  '0',\n",
              "  '1',\n",
              "  '1',\n",
              "  '0',\n",
              "  '1',\n",
              "  '0',\n",
              "  '1',\n",
              "  '0',\n",
              "  '1',\n",
              "  '1',\n",
              "  '0',\n",
              "  '0',\n",
              "  '0',\n",
              "  '0',\n",
              "  '1',\n",
              "  '0',\n",
              "  '1',\n",
              "  '1',\n",
              "  '1',\n",
              "  '1',\n",
              "  '0',\n",
              "  '0',\n",
              "  '0',\n",
              "  '1',\n",
              "  '1',\n",
              "  '1',\n",
              "  '1',\n",
              "  '1',\n",
              "  '0',\n",
              "  '0',\n",
              "  '1',\n",
              "  '0',\n",
              "  '0',\n",
              "  '0',\n",
              "  '1',\n",
              "  '0',\n",
              "  '0',\n",
              "  '0',\n",
              "  '0',\n",
              "  '1',\n",
              "  '1',\n",
              "  '1',\n",
              "  '0',\n",
              "  '1',\n",
              "  '0',\n",
              "  '1',\n",
              "  '1',\n",
              "  '1',\n",
              "  '1',\n",
              "  '0',\n",
              "  '0',\n",
              "  '1',\n",
              "  '0',\n",
              "  '0',\n",
              "  '1',\n",
              "  '0',\n",
              "  '1',\n",
              "  '0',\n",
              "  '1',\n",
              "  '0',\n",
              "  '0',\n",
              "  '1',\n",
              "  '0',\n",
              "  '1',\n",
              "  '0',\n",
              "  '1',\n",
              "  '1',\n",
              "  '1',\n",
              "  '1',\n",
              "  '0',\n",
              "  '0',\n",
              "  '1',\n",
              "  '0',\n",
              "  '0',\n",
              "  '0',\n",
              "  '1',\n",
              "  '1',\n",
              "  '0',\n",
              "  '0',\n",
              "  '1',\n",
              "  '0',\n",
              "  '0',\n",
              "  '1',\n",
              "  '1',\n",
              "  '1',\n",
              "  '1',\n",
              "  '1',\n",
              "  '0',\n",
              "  '1',\n",
              "  '0',\n",
              "  '0',\n",
              "  '1',\n",
              "  '0',\n",
              "  '0',\n",
              "  '0',\n",
              "  '1',\n",
              "  '0',\n",
              "  '1',\n",
              "  '0',\n",
              "  '0',\n",
              "  '1',\n",
              "  '1',\n",
              "  '0',\n",
              "  '1',\n",
              "  '1',\n",
              "  '1',\n",
              "  '0',\n",
              "  '0',\n",
              "  '0',\n",
              "  '1',\n",
              "  '0',\n",
              "  '1',\n",
              "  '1',\n",
              "  '1',\n",
              "  '1',\n",
              "  '0',\n",
              "  '1',\n",
              "  '0',\n",
              "  '1',\n",
              "  '1',\n",
              "  '1',\n",
              "  '0',\n",
              "  '0',\n",
              "  '0',\n",
              "  '1',\n",
              "  '1',\n",
              "  '1',\n",
              "  '0',\n",
              "  '0',\n",
              "  '1',\n",
              "  '0',\n",
              "  '1',\n",
              "  '1',\n",
              "  '1',\n",
              "  '1',\n",
              "  '0',\n",
              "  '1',\n",
              "  '0',\n",
              "  '1',\n",
              "  '0',\n",
              "  '0',\n",
              "  '1',\n",
              "  '1',\n",
              "  '1',\n",
              "  '1',\n",
              "  '0',\n",
              "  '1',\n",
              "  '0',\n",
              "  '0',\n",
              "  '1',\n",
              "  '1',\n",
              "  '0',\n",
              "  '1',\n",
              "  '1',\n",
              "  '1',\n",
              "  '0',\n",
              "  '0',\n",
              "  '0',\n",
              "  '1',\n",
              "  '0',\n",
              "  '1',\n",
              "  '0',\n",
              "  '1',\n",
              "  '1',\n",
              "  '1',\n",
              "  '1',\n",
              "  '1',\n",
              "  '1',\n",
              "  '1',\n",
              "  '1',\n",
              "  '1',\n",
              "  '1',\n",
              "  '1',\n",
              "  '1',\n",
              "  '0',\n",
              "  '1',\n",
              "  '0',\n",
              "  '0',\n",
              "  '0',\n",
              "  '1',\n",
              "  '0',\n",
              "  '1',\n",
              "  '1',\n",
              "  '0',\n",
              "  '0',\n",
              "  '0',\n",
              "  '0',\n",
              "  '0',\n",
              "  '1',\n",
              "  '1',\n",
              "  '1',\n",
              "  '1',\n",
              "  '1',\n",
              "  '0',\n",
              "  '1',\n",
              "  '1',\n",
              "  '0',\n",
              "  '1',\n",
              "  '1',\n",
              "  '1',\n",
              "  '0',\n",
              "  '1',\n",
              "  '0',\n",
              "  '1',\n",
              "  '1',\n",
              "  '1',\n",
              "  '0',\n",
              "  '1',\n",
              "  '1',\n",
              "  '1',\n",
              "  '1',\n",
              "  '1',\n",
              "  '0',\n",
              "  '1',\n",
              "  '1',\n",
              "  '1',\n",
              "  '1',\n",
              "  '1',\n",
              "  '0',\n",
              "  '0',\n",
              "  '1',\n",
              "  '1',\n",
              "  '1',\n",
              "  '0',\n",
              "  '1',\n",
              "  '0',\n",
              "  '1',\n",
              "  '1',\n",
              "  '0',\n",
              "  '0',\n",
              "  '1',\n",
              "  '1',\n",
              "  '1',\n",
              "  '1',\n",
              "  '1',\n",
              "  '0',\n",
              "  '1',\n",
              "  '1',\n",
              "  '1',\n",
              "  '0',\n",
              "  '1',\n",
              "  '1',\n",
              "  '0',\n",
              "  '1',\n",
              "  '1',\n",
              "  '0',\n",
              "  '1',\n",
              "  '1',\n",
              "  '1',\n",
              "  '1',\n",
              "  '1',\n",
              "  '0',\n",
              "  '1',\n",
              "  '0',\n",
              "  '1',\n",
              "  '1',\n",
              "  '0',\n",
              "  '1',\n",
              "  '0',\n",
              "  '1',\n",
              "  '0',\n",
              "  '1',\n",
              "  '0',\n",
              "  '1',\n",
              "  '1',\n",
              "  '1',\n",
              "  '1',\n",
              "  '1',\n",
              "  '0',\n",
              "  '0',\n",
              "  '0',\n",
              "  '0',\n",
              "  '0',\n",
              "  '1',\n",
              "  '1',\n",
              "  '1',\n",
              "  '1',\n",
              "  '0',\n",
              "  '1',\n",
              "  '0',\n",
              "  '1',\n",
              "  '0',\n",
              "  '1',\n",
              "  '1',\n",
              "  '1',\n",
              "  '1',\n",
              "  '1',\n",
              "  '1',\n",
              "  '1',\n",
              "  '0',\n",
              "  '1',\n",
              "  '0',\n",
              "  '1',\n",
              "  '1',\n",
              "  '1',\n",
              "  '0',\n",
              "  '1',\n",
              "  '1',\n",
              "  '1',\n",
              "  '0',\n",
              "  '1',\n",
              "  '0',\n",
              "  '0',\n",
              "  '0',\n",
              "  '1',\n",
              "  '0',\n",
              "  '0',\n",
              "  '0',\n",
              "  '1',\n",
              "  '1',\n",
              "  '1',\n",
              "  '0',\n",
              "  '1',\n",
              "  '0',\n",
              "  '0',\n",
              "  '1',\n",
              "  '0',\n",
              "  '1',\n",
              "  '1',\n",
              "  '0',\n",
              "  '1',\n",
              "  '1',\n",
              "  '1',\n",
              "  '1',\n",
              "  '1',\n",
              "  '0',\n",
              "  '1',\n",
              "  '1',\n",
              "  '1',\n",
              "  '1',\n",
              "  '0',\n",
              "  '0',\n",
              "  '1',\n",
              "  '1',\n",
              "  '0',\n",
              "  '0',\n",
              "  '1',\n",
              "  '1',\n",
              "  '0',\n",
              "  '1',\n",
              "  '1',\n",
              "  '0',\n",
              "  '0',\n",
              "  '1',\n",
              "  '0',\n",
              "  '0',\n",
              "  '1',\n",
              "  '1',\n",
              "  '1',\n",
              "  '0',\n",
              "  '0',\n",
              "  '1',\n",
              "  '0',\n",
              "  '1',\n",
              "  '0',\n",
              "  '0',\n",
              "  '0',\n",
              "  '0',\n",
              "  '0',\n",
              "  '0',\n",
              "  '0',\n",
              "  '0',\n",
              "  '1',\n",
              "  '0',\n",
              "  '0',\n",
              "  '1',\n",
              "  '0',\n",
              "  '1',\n",
              "  '0',\n",
              "  '1',\n",
              "  '0',\n",
              "  '0',\n",
              "  '0',\n",
              "  '0',\n",
              "  '0',\n",
              "  '1',\n",
              "  '0',\n",
              "  '0',\n",
              "  '0',\n",
              "  '1',\n",
              "  '1',\n",
              "  '1',\n",
              "  '1',\n",
              "  '1',\n",
              "  '0',\n",
              "  '0',\n",
              "  '1',\n",
              "  '1',\n",
              "  '0',\n",
              "  '0',\n",
              "  '1',\n",
              "  '1',\n",
              "  '1',\n",
              "  '1',\n",
              "  '1',\n",
              "  '0',\n",
              "  '1',\n",
              "  '0',\n",
              "  '1',\n",
              "  '1',\n",
              "  '0',\n",
              "  '1',\n",
              "  '1',\n",
              "  '0',\n",
              "  '1',\n",
              "  '1',\n",
              "  '1',\n",
              "  '1',\n",
              "  '1',\n",
              "  '0',\n",
              "  '1',\n",
              "  '1',\n",
              "  '0',\n",
              "  '0',\n",
              "  '0',\n",
              "  '1',\n",
              "  '1',\n",
              "  '0',\n",
              "  '1',\n",
              "  '1',\n",
              "  '1',\n",
              "  '1',\n",
              "  '1',\n",
              "  '0',\n",
              "  '0',\n",
              "  '1',\n",
              "  '1',\n",
              "  '1',\n",
              "  '0',\n",
              "  '0',\n",
              "  '0',\n",
              "  '1',\n",
              "  '1',\n",
              "  '1',\n",
              "  '1',\n",
              "  '0',\n",
              "  '1',\n",
              "  '0',\n",
              "  '0',\n",
              "  '0',\n",
              "  '1',\n",
              "  '1',\n",
              "  '0',\n",
              "  '0',\n",
              "  '0',\n",
              "  '1',\n",
              "  '1',\n",
              "  '0',\n",
              "  '1',\n",
              "  '0',\n",
              "  '1',\n",
              "  '1',\n",
              "  '0',\n",
              "  '1',\n",
              "  '1',\n",
              "  '0',\n",
              "  '0',\n",
              "  '0',\n",
              "  '1',\n",
              "  '1',\n",
              "  '1',\n",
              "  '1',\n",
              "  '1',\n",
              "  '1',\n",
              "  '1',\n",
              "  '1',\n",
              "  '1',\n",
              "  '0',\n",
              "  '1',\n",
              "  '0',\n",
              "  '0',\n",
              "  '0',\n",
              "  '1',\n",
              "  '1',\n",
              "  '0',\n",
              "  '0',\n",
              "  '1',\n",
              "  '1',\n",
              "  '0',\n",
              "  '1',\n",
              "  '1',\n",
              "  '1',\n",
              "  '1',\n",
              "  '1',\n",
              "  '1',\n",
              "  '1',\n",
              "  '0',\n",
              "  '1',\n",
              "  '1',\n",
              "  '1',\n",
              "  '1',\n",
              "  '1',\n",
              "  '0',\n",
              "  '1',\n",
              "  '1',\n",
              "  '1',\n",
              "  '1',\n",
              "  '0',\n",
              "  '0',\n",
              "  '0',\n",
              "  '1',\n",
              "  '0',\n",
              "  '0',\n",
              "  '0',\n",
              "  '1',\n",
              "  '1',\n",
              "  '0',\n",
              "  '1',\n",
              "  '1',\n",
              "  '1',\n",
              "  '1',\n",
              "  '0',\n",
              "  '0',\n",
              "  '1',\n",
              "  '1',\n",
              "  '1',\n",
              "  '0',\n",
              "  '0',\n",
              "  '0',\n",
              "  '1',\n",
              "  '1',\n",
              "  '1',\n",
              "  '0',\n",
              "  '0',\n",
              "  '1',\n",
              "  '0',\n",
              "  '0',\n",
              "  '0',\n",
              "  '1',\n",
              "  '0',\n",
              "  '1',\n",
              "  '0',\n",
              "  '0',\n",
              "  '0',\n",
              "  '1',\n",
              "  '1',\n",
              "  '1',\n",
              "  '1',\n",
              "  '1',\n",
              "  '1',\n",
              "  '1',\n",
              "  '0',\n",
              "  '0',\n",
              "  '1',\n",
              "  '1',\n",
              "  '0',\n",
              "  '1',\n",
              "  '1',\n",
              "  '1',\n",
              "  '0',\n",
              "  '1',\n",
              "  '0',\n",
              "  '1',\n",
              "  '1',\n",
              "  '0',\n",
              "  '1',\n",
              "  '0',\n",
              "  '1',\n",
              "  '1',\n",
              "  '1',\n",
              "  '1',\n",
              "  '1',\n",
              "  '1',\n",
              "  '0',\n",
              "  '1',\n",
              "  '1',\n",
              "  '0',\n",
              "  '0',\n",
              "  '0',\n",
              "  '0',\n",
              "  '1',\n",
              "  '0',\n",
              "  '1',\n",
              "  '0',\n",
              "  '1',\n",
              "  '1',\n",
              "  '1',\n",
              "  '0',\n",
              "  '1',\n",
              "  '1',\n",
              "  '0',\n",
              "  '1',\n",
              "  '1',\n",
              "  '1',\n",
              "  '1',\n",
              "  '0',\n",
              "  '1',\n",
              "  '0',\n",
              "  '1',\n",
              "  '1',\n",
              "  '1',\n",
              "  '0',\n",
              "  '1',\n",
              "  '0',\n",
              "  '0',\n",
              "  '1',\n",
              "  '0',\n",
              "  '1',\n",
              "  '1',\n",
              "  '1',\n",
              "  '0',\n",
              "  '1',\n",
              "  '1',\n",
              "  '0',\n",
              "  '1',\n",
              "  '1',\n",
              "  '0',\n",
              "  '1',\n",
              "  '1',\n",
              "  '1',\n",
              "  '0',\n",
              "  '0',\n",
              "  '0',\n",
              "  '1',\n",
              "  '1',\n",
              "  '0',\n",
              "  '1',\n",
              "  '1',\n",
              "  '0',\n",
              "  '1',\n",
              "  '1',\n",
              "  '1',\n",
              "  '0',\n",
              "  '1',\n",
              "  '0',\n",
              "  '0',\n",
              "  '1',\n",
              "  '0',\n",
              "  '0',\n",
              "  '0',\n",
              "  '0',\n",
              "  '0',\n",
              "  '0',\n",
              "  '0',\n",
              "  '0',\n",
              "  '1',\n",
              "  '1',\n",
              "  '1',\n",
              "  '0',\n",
              "  '1',\n",
              "  '1',\n",
              "  '1',\n",
              "  '1',\n",
              "  '1',\n",
              "  '1',\n",
              "  '1',\n",
              "  '0',\n",
              "  '0',\n",
              "  '1',\n",
              "  '0',\n",
              "  '0',\n",
              "  '0',\n",
              "  '0',\n",
              "  '1',\n",
              "  '1',\n",
              "  '1',\n",
              "  '1',\n",
              "  '0',\n",
              "  '0',\n",
              "  '0',\n",
              "  '0',\n",
              "  '1',\n",
              "  '1',\n",
              "  '0',\n",
              "  '1',\n",
              "  '1',\n",
              "  '1',\n",
              "  '0',\n",
              "  '1',\n",
              "  '1',\n",
              "  '1',\n",
              "  '0',\n",
              "  '1',\n",
              "  '1',\n",
              "  '0',\n",
              "  '0',\n",
              "  '1',\n",
              "  '0',\n",
              "  '1',\n",
              "  '1',\n",
              "  '1',\n",
              "  '0',\n",
              "  '0',\n",
              "  '1',\n",
              "  '1',\n",
              "  '1',\n",
              "  '1',\n",
              "  '1',\n",
              "  '0',\n",
              "  '0',\n",
              "  '1',\n",
              "  '1',\n",
              "  '1',\n",
              "  '1',\n",
              "  '1',\n",
              "  '1',\n",
              "  '1',\n",
              "  '1',\n",
              "  '0',\n",
              "  '0',\n",
              "  '1',\n",
              "  '1',\n",
              "  '0',\n",
              "  '1',\n",
              "  '1',\n",
              "  '0',\n",
              "  '0',\n",
              "  '0',\n",
              "  '1',\n",
              "  '1',\n",
              "  '1',\n",
              "  '1',\n",
              "  '0',\n",
              "  '1',\n",
              "  '1',\n",
              "  '1',\n",
              "  '1',\n",
              "  '1',\n",
              "  '1',\n",
              "  '1',\n",
              "  '1',\n",
              "  '0',\n",
              "  '1',\n",
              "  '0',\n",
              "  '1',\n",
              "  '1',\n",
              "  '1',\n",
              "  '1',\n",
              "  '1',\n",
              "  '1',\n",
              "  '1',\n",
              "  '1',\n",
              "  '1',\n",
              "  '1',\n",
              "  '0',\n",
              "  '1',\n",
              "  '0',\n",
              "  '1',\n",
              "  '0',\n",
              "  '0',\n",
              "  '0',\n",
              "  '0',\n",
              "  '1',\n",
              "  '1',\n",
              "  '1',\n",
              "  '1',\n",
              "  '0',\n",
              "  '1',\n",
              "  '1',\n",
              "  '1',\n",
              "  '0',\n",
              "  '0',\n",
              "  '0',\n",
              "  '1',\n",
              "  '1',\n",
              "  '1',\n",
              "  '1',\n",
              "  '1',\n",
              "  '1',\n",
              "  '1',\n",
              "  '0',\n",
              "  '1',\n",
              "  '1',\n",
              "  '0',\n",
              "  '1',\n",
              "  '1',\n",
              "  '1',\n",
              "  '1',\n",
              "  '1',\n",
              "  '1',\n",
              "  '0',\n",
              "  '0',\n",
              "  '1',\n",
              "  '0',\n",
              "  '1',\n",
              "  '0',\n",
              "  '0',\n",
              "  '1',\n",
              "  '1',\n",
              "  '1',\n",
              "  '0',\n",
              "  '0',\n",
              "  '1',\n",
              "  '0',\n",
              "  '0',\n",
              "  '1',\n",
              "  '1',\n",
              "  '1',\n",
              "  '1',\n",
              "  '0',\n",
              "  '1',\n",
              "  '1',\n",
              "  '0',\n",
              "  '1',\n",
              "  '0',\n",
              "  '1',\n",
              "  '1',\n",
              "  '1',\n",
              "  '1',\n",
              "  '0',\n",
              "  '0',\n",
              "  '1',\n",
              "  '1',\n",
              "  '0',\n",
              "  '1',\n",
              "  '0',\n",
              "  '0',\n",
              "  '1',\n",
              "  '1',\n",
              "  '0',\n",
              "  '0',\n",
              "  '0',\n",
              "  '1',\n",
              "  '1',\n",
              "  '1',\n",
              "  '0',\n",
              "  '1',\n",
              "  '0',\n",
              "  '0',\n",
              "  '0',\n",
              "  '1',\n",
              "  '1',\n",
              "  '1',\n",
              "  '0',\n",
              "  '1',\n",
              "  '1',\n",
              "  '0',\n",
              "  '1',\n",
              "  '1',\n",
              "  '0',\n",
              "  '0',\n",
              "  '0',\n",
              "  '0',\n",
              "  '1',\n",
              "  '0',\n",
              "  '0',\n",
              "  '0',\n",
              "  '1',\n",
              "  '1',\n",
              "  '0',\n",
              "  '1',\n",
              "  '1',\n",
              "  '0',\n",
              "  '1',\n",
              "  '0',\n",
              "  '1',\n",
              "  '0',\n",
              "  '1',\n",
              "  '0',\n",
              "  '0',\n",
              "  '1',\n",
              "  '0',\n",
              "  '1',\n",
              "  '1',\n",
              "  '0',\n",
              "  '0',\n",
              "  '0',\n",
              "  '1',\n",
              "  '1',\n",
              "  '1',\n",
              "  '1',\n",
              "  '1',\n",
              "  '1',\n",
              "  '1',\n",
              "  '1',\n",
              "  '0',\n",
              "  '0',\n",
              "  '0',\n",
              "  '0',\n",
              "  '1',\n",
              "  '1',\n",
              "  '0',\n",
              "  '1',\n",
              "  '1',\n",
              "  '1',\n",
              "  '1',\n",
              "  '0',\n",
              "  '1',\n",
              "  '1',\n",
              "  ...],\n",
              " ['0',\n",
              "  '0',\n",
              "  '1',\n",
              "  '0',\n",
              "  '0',\n",
              "  '1',\n",
              "  '0',\n",
              "  '1',\n",
              "  '1',\n",
              "  '0',\n",
              "  '0',\n",
              "  '1',\n",
              "  '0',\n",
              "  '0',\n",
              "  '1',\n",
              "  '1',\n",
              "  '0',\n",
              "  '0',\n",
              "  '0',\n",
              "  '1',\n",
              "  '0',\n",
              "  '0',\n",
              "  '0',\n",
              "  '0',\n",
              "  '1',\n",
              "  '0',\n",
              "  '0',\n",
              "  '0',\n",
              "  '0',\n",
              "  '1',\n",
              "  '1',\n",
              "  '0',\n",
              "  '0',\n",
              "  '0',\n",
              "  '1',\n",
              "  '0',\n",
              "  '0',\n",
              "  '0',\n",
              "  '1',\n",
              "  '0',\n",
              "  '1',\n",
              "  '1',\n",
              "  '0',\n",
              "  '1',\n",
              "  '0',\n",
              "  '1',\n",
              "  '1',\n",
              "  '0',\n",
              "  '0',\n",
              "  '1',\n",
              "  '1',\n",
              "  '1',\n",
              "  '1',\n",
              "  '0',\n",
              "  '1',\n",
              "  '0',\n",
              "  '1',\n",
              "  '1',\n",
              "  '1',\n",
              "  '1',\n",
              "  '0',\n",
              "  '0',\n",
              "  '1',\n",
              "  '1',\n",
              "  '0',\n",
              "  '0',\n",
              "  '0',\n",
              "  '0',\n",
              "  '0',\n",
              "  '1',\n",
              "  '1',\n",
              "  '1',\n",
              "  '1',\n",
              "  '1',\n",
              "  '0',\n",
              "  '1',\n",
              "  '1',\n",
              "  '0',\n",
              "  '0',\n",
              "  '0',\n",
              "  '0',\n",
              "  '0',\n",
              "  '1',\n",
              "  '1',\n",
              "  '1',\n",
              "  '0',\n",
              "  '0',\n",
              "  '0',\n",
              "  '1',\n",
              "  '1',\n",
              "  '0',\n",
              "  '0',\n",
              "  '1',\n",
              "  '0',\n",
              "  '1',\n",
              "  '0',\n",
              "  '0',\n",
              "  '0',\n",
              "  '1',\n",
              "  '0',\n",
              "  '0',\n",
              "  '1',\n",
              "  '0',\n",
              "  '1',\n",
              "  '0',\n",
              "  '1',\n",
              "  '0',\n",
              "  '0',\n",
              "  '1',\n",
              "  '0',\n",
              "  '0',\n",
              "  '1',\n",
              "  '1',\n",
              "  '0',\n",
              "  '0',\n",
              "  '0',\n",
              "  '0',\n",
              "  '0',\n",
              "  '1',\n",
              "  '1',\n",
              "  '0',\n",
              "  '0',\n",
              "  '1',\n",
              "  '0',\n",
              "  '0',\n",
              "  '1',\n",
              "  '0',\n",
              "  '1',\n",
              "  '0',\n",
              "  '1',\n",
              "  '1',\n",
              "  '1',\n",
              "  '1',\n",
              "  '0',\n",
              "  '0',\n",
              "  '1',\n",
              "  '0',\n",
              "  '0',\n",
              "  '1',\n",
              "  '0',\n",
              "  '1',\n",
              "  '0',\n",
              "  '0',\n",
              "  '0',\n",
              "  '1',\n",
              "  '1',\n",
              "  '1',\n",
              "  '1',\n",
              "  '1',\n",
              "  '0',\n",
              "  '0',\n",
              "  '1',\n",
              "  '0',\n",
              "  '0',\n",
              "  '0',\n",
              "  '1',\n",
              "  '0',\n",
              "  '0',\n",
              "  '0',\n",
              "  '0',\n",
              "  '0',\n",
              "  '1',\n",
              "  '1',\n",
              "  '1',\n",
              "  '1',\n",
              "  '0',\n",
              "  '0',\n",
              "  '1',\n",
              "  '1',\n",
              "  '1',\n",
              "  '0',\n",
              "  '0',\n",
              "  '1',\n",
              "  '0',\n",
              "  '0',\n",
              "  '1',\n",
              "  '0',\n",
              "  '1',\n",
              "  '0',\n",
              "  '0',\n",
              "  '0',\n",
              "  '1',\n",
              "  '1',\n",
              "  '0',\n",
              "  '1',\n",
              "  '0',\n",
              "  '1',\n",
              "  '0',\n",
              "  '1',\n",
              "  '1',\n",
              "  '0',\n",
              "  '0',\n",
              "  '1',\n",
              "  '0',\n",
              "  '0',\n",
              "  '0',\n",
              "  '1',\n",
              "  '1',\n",
              "  '0',\n",
              "  '0',\n",
              "  '0',\n",
              "  '0',\n",
              "  '0',\n",
              "  '0',\n",
              "  '1',\n",
              "  '1',\n",
              "  '1',\n",
              "  '0',\n",
              "  '0',\n",
              "  '1',\n",
              "  '0',\n",
              "  '0',\n",
              "  '1',\n",
              "  '0',\n",
              "  '0',\n",
              "  '0',\n",
              "  '0',\n",
              "  '0',\n",
              "  '1',\n",
              "  '0',\n",
              "  '0',\n",
              "  '1',\n",
              "  '1',\n",
              "  '0',\n",
              "  '1',\n",
              "  '0',\n",
              "  '0',\n",
              "  '0',\n",
              "  '0',\n",
              "  '0',\n",
              "  '1',\n",
              "  '0',\n",
              "  '0',\n",
              "  '0',\n",
              "  '0',\n",
              "  '1',\n",
              "  '0',\n",
              "  '1',\n",
              "  '0',\n",
              "  '1',\n",
              "  '1',\n",
              "  '1',\n",
              "  '0',\n",
              "  '1',\n",
              "  '0',\n",
              "  '1',\n",
              "  '1',\n",
              "  '1',\n",
              "  '0',\n",
              "  '0',\n",
              "  '1',\n",
              "  '0',\n",
              "  '0',\n",
              "  '1',\n",
              "  '1',\n",
              "  '0',\n",
              "  '0',\n",
              "  '1',\n",
              "  '0',\n",
              "  '1',\n",
              "  '0',\n",
              "  '0',\n",
              "  '1',\n",
              "  '1',\n",
              "  '1',\n",
              "  '0',\n",
              "  '0',\n",
              "  '1',\n",
              "  '0',\n",
              "  '0',\n",
              "  '1',\n",
              "  '1',\n",
              "  '0',\n",
              "  '1',\n",
              "  '1',\n",
              "  '0',\n",
              "  '0',\n",
              "  '0',\n",
              "  '0',\n",
              "  '1',\n",
              "  '0',\n",
              "  '1',\n",
              "  '0',\n",
              "  '1',\n",
              "  '1',\n",
              "  '1',\n",
              "  '0',\n",
              "  '0',\n",
              "  '1',\n",
              "  '0',\n",
              "  '1',\n",
              "  '1',\n",
              "  '0',\n",
              "  '1',\n",
              "  '1',\n",
              "  '0',\n",
              "  '1',\n",
              "  '0',\n",
              "  '0',\n",
              "  '0',\n",
              "  '1',\n",
              "  '0',\n",
              "  '0',\n",
              "  '1',\n",
              "  '0',\n",
              "  '0',\n",
              "  '0',\n",
              "  '0',\n",
              "  '0',\n",
              "  '0',\n",
              "  '1',\n",
              "  '0',\n",
              "  '1',\n",
              "  '0',\n",
              "  '0',\n",
              "  '1',\n",
              "  '1',\n",
              "  '0',\n",
              "  '1',\n",
              "  '1',\n",
              "  '1',\n",
              "  '0',\n",
              "  '1',\n",
              "  '0',\n",
              "  '1',\n",
              "  '1',\n",
              "  '0',\n",
              "  '0',\n",
              "  '0',\n",
              "  '1',\n",
              "  '1',\n",
              "  '0',\n",
              "  '1',\n",
              "  '0',\n",
              "  '1',\n",
              "  '1',\n",
              "  '1',\n",
              "  '1',\n",
              "  '1',\n",
              "  '0',\n",
              "  '0',\n",
              "  '0',\n",
              "  '1',\n",
              "  '0',\n",
              "  '0',\n",
              "  '1',\n",
              "  '0',\n",
              "  '1',\n",
              "  '1',\n",
              "  '0',\n",
              "  '0',\n",
              "  '1',\n",
              "  '0',\n",
              "  '1',\n",
              "  '0',\n",
              "  '1',\n",
              "  '0',\n",
              "  '1',\n",
              "  '1',\n",
              "  '0',\n",
              "  '0',\n",
              "  '1',\n",
              "  '1',\n",
              "  '0',\n",
              "  '1',\n",
              "  '1',\n",
              "  '0',\n",
              "  '1',\n",
              "  '1',\n",
              "  '1',\n",
              "  '1',\n",
              "  '1',\n",
              "  '0',\n",
              "  '1',\n",
              "  '0',\n",
              "  '1',\n",
              "  '1',\n",
              "  '0',\n",
              "  '1',\n",
              "  '0',\n",
              "  '0',\n",
              "  '0',\n",
              "  '1',\n",
              "  '1',\n",
              "  '1',\n",
              "  '1',\n",
              "  '0',\n",
              "  '1',\n",
              "  '1',\n",
              "  '0',\n",
              "  '0',\n",
              "  '0',\n",
              "  '0',\n",
              "  '0',\n",
              "  '1',\n",
              "  '1',\n",
              "  '0',\n",
              "  '0',\n",
              "  '0',\n",
              "  '1',\n",
              "  '0',\n",
              "  '1',\n",
              "  '0',\n",
              "  '0',\n",
              "  '1',\n",
              "  '0',\n",
              "  '0',\n",
              "  '1',\n",
              "  '1',\n",
              "  '1',\n",
              "  '0',\n",
              "  '1',\n",
              "  '0',\n",
              "  '1',\n",
              "  '1',\n",
              "  '1',\n",
              "  '0',\n",
              "  '0',\n",
              "  '1',\n",
              "  '1',\n",
              "  '0',\n",
              "  '0',\n",
              "  '0',\n",
              "  '0',\n",
              "  '0',\n",
              "  '1',\n",
              "  '0',\n",
              "  '0',\n",
              "  '0',\n",
              "  '1',\n",
              "  '1',\n",
              "  '1',\n",
              "  '0',\n",
              "  '1',\n",
              "  '0',\n",
              "  '0',\n",
              "  '0',\n",
              "  '0',\n",
              "  '1',\n",
              "  '1',\n",
              "  '0',\n",
              "  '1',\n",
              "  '0',\n",
              "  '1',\n",
              "  '1',\n",
              "  '1',\n",
              "  '0',\n",
              "  '1',\n",
              "  '0',\n",
              "  '1',\n",
              "  '1',\n",
              "  '0',\n",
              "  '0',\n",
              "  '1',\n",
              "  '0',\n",
              "  '0',\n",
              "  '0',\n",
              "  '0',\n",
              "  '1',\n",
              "  '0',\n",
              "  '0',\n",
              "  '0',\n",
              "  '0',\n",
              "  '0',\n",
              "  '1',\n",
              "  '0',\n",
              "  '0',\n",
              "  '1',\n",
              "  '1',\n",
              "  '1',\n",
              "  '0',\n",
              "  '0',\n",
              "  '1',\n",
              "  '0',\n",
              "  '1',\n",
              "  '0',\n",
              "  '0',\n",
              "  '0',\n",
              "  '0',\n",
              "  '0',\n",
              "  '0',\n",
              "  '0',\n",
              "  '0',\n",
              "  '0',\n",
              "  '0',\n",
              "  '0',\n",
              "  '1',\n",
              "  '0',\n",
              "  '1',\n",
              "  '0',\n",
              "  '1',\n",
              "  '0',\n",
              "  '0',\n",
              "  '0',\n",
              "  '0',\n",
              "  '0',\n",
              "  '1',\n",
              "  '0',\n",
              "  '0',\n",
              "  '0',\n",
              "  '0',\n",
              "  '0',\n",
              "  '1',\n",
              "  '1',\n",
              "  '1',\n",
              "  '0',\n",
              "  '0',\n",
              "  '1',\n",
              "  '0',\n",
              "  '0',\n",
              "  '0',\n",
              "  '0',\n",
              "  '1',\n",
              "  '1',\n",
              "  '1',\n",
              "  '0',\n",
              "  '0',\n",
              "  '1',\n",
              "  '0',\n",
              "  '1',\n",
              "  '1',\n",
              "  '0',\n",
              "  '0',\n",
              "  '1',\n",
              "  '0',\n",
              "  '1',\n",
              "  '1',\n",
              "  '1',\n",
              "  '1',\n",
              "  '0',\n",
              "  '0',\n",
              "  '1',\n",
              "  '0',\n",
              "  '0',\n",
              "  '0',\n",
              "  '0',\n",
              "  '0',\n",
              "  '1',\n",
              "  '0',\n",
              "  '1',\n",
              "  '1',\n",
              "  '1',\n",
              "  '1',\n",
              "  '1',\n",
              "  '0',\n",
              "  '0',\n",
              "  '1',\n",
              "  '1',\n",
              "  '1',\n",
              "  '0',\n",
              "  '0',\n",
              "  '0',\n",
              "  '1',\n",
              "  '1',\n",
              "  '1',\n",
              "  '1',\n",
              "  '0',\n",
              "  '1',\n",
              "  '0',\n",
              "  '0',\n",
              "  '0',\n",
              "  '1',\n",
              "  '1',\n",
              "  '0',\n",
              "  '0',\n",
              "  '0',\n",
              "  '1',\n",
              "  '0',\n",
              "  '0',\n",
              "  '1',\n",
              "  '0',\n",
              "  '1',\n",
              "  '1',\n",
              "  '0',\n",
              "  '0',\n",
              "  '1',\n",
              "  '0',\n",
              "  '0',\n",
              "  '0',\n",
              "  '1',\n",
              "  '1',\n",
              "  '1',\n",
              "  '0',\n",
              "  '1',\n",
              "  '1',\n",
              "  '1',\n",
              "  '1',\n",
              "  '1',\n",
              "  '0',\n",
              "  '1',\n",
              "  '0',\n",
              "  '0',\n",
              "  '1',\n",
              "  '1',\n",
              "  '1',\n",
              "  '0',\n",
              "  '0',\n",
              "  '1',\n",
              "  '1',\n",
              "  '0',\n",
              "  '0',\n",
              "  '1',\n",
              "  '0',\n",
              "  '1',\n",
              "  '1',\n",
              "  '1',\n",
              "  '1',\n",
              "  '0',\n",
              "  '1',\n",
              "  '1',\n",
              "  '1',\n",
              "  '1',\n",
              "  '1',\n",
              "  '0',\n",
              "  '0',\n",
              "  '0',\n",
              "  '1',\n",
              "  '1',\n",
              "  '0',\n",
              "  '0',\n",
              "  '0',\n",
              "  '1',\n",
              "  '0',\n",
              "  '0',\n",
              "  '0',\n",
              "  '0',\n",
              "  '1',\n",
              "  '0',\n",
              "  '1',\n",
              "  '1',\n",
              "  '1',\n",
              "  '1',\n",
              "  '0',\n",
              "  '0',\n",
              "  '1',\n",
              "  '1',\n",
              "  '1',\n",
              "  '0',\n",
              "  '0',\n",
              "  '0',\n",
              "  '1',\n",
              "  '1',\n",
              "  '1',\n",
              "  '0',\n",
              "  '0',\n",
              "  '1',\n",
              "  '0',\n",
              "  '0',\n",
              "  '0',\n",
              "  '1',\n",
              "  '0',\n",
              "  '1',\n",
              "  '0',\n",
              "  '0',\n",
              "  '0',\n",
              "  '0',\n",
              "  '1',\n",
              "  '1',\n",
              "  '1',\n",
              "  '1',\n",
              "  '1',\n",
              "  '1',\n",
              "  '0',\n",
              "  '0',\n",
              "  '1',\n",
              "  '1',\n",
              "  '0',\n",
              "  '0',\n",
              "  '1',\n",
              "  '0',\n",
              "  '0',\n",
              "  '1',\n",
              "  '0',\n",
              "  '1',\n",
              "  '1',\n",
              "  '0',\n",
              "  '0',\n",
              "  '0',\n",
              "  '1',\n",
              "  '1',\n",
              "  '1',\n",
              "  '1',\n",
              "  '1',\n",
              "  '1',\n",
              "  '0',\n",
              "  '0',\n",
              "  '1',\n",
              "  '0',\n",
              "  '0',\n",
              "  '0',\n",
              "  '0',\n",
              "  '1',\n",
              "  '0',\n",
              "  '1',\n",
              "  '0',\n",
              "  '1',\n",
              "  '1',\n",
              "  '0',\n",
              "  '0',\n",
              "  '1',\n",
              "  '1',\n",
              "  '0',\n",
              "  '0',\n",
              "  '1',\n",
              "  '1',\n",
              "  '1',\n",
              "  '0',\n",
              "  '1',\n",
              "  '0',\n",
              "  '1',\n",
              "  '1',\n",
              "  '1',\n",
              "  '0',\n",
              "  '1',\n",
              "  '0',\n",
              "  '0',\n",
              "  '1',\n",
              "  '0',\n",
              "  '0',\n",
              "  '1',\n",
              "  '0',\n",
              "  '0',\n",
              "  '1',\n",
              "  '1',\n",
              "  '0',\n",
              "  '1',\n",
              "  '0',\n",
              "  '0',\n",
              "  '1',\n",
              "  '0',\n",
              "  '0',\n",
              "  '0',\n",
              "  '0',\n",
              "  '0',\n",
              "  '1',\n",
              "  '0',\n",
              "  '0',\n",
              "  '1',\n",
              "  '1',\n",
              "  '0',\n",
              "  '1',\n",
              "  '1',\n",
              "  '1',\n",
              "  '0',\n",
              "  '1',\n",
              "  '1',\n",
              "  '0',\n",
              "  '0',\n",
              "  '0',\n",
              "  '0',\n",
              "  '0',\n",
              "  '0',\n",
              "  '0',\n",
              "  '0',\n",
              "  '0',\n",
              "  '0',\n",
              "  '1',\n",
              "  '1',\n",
              "  '1',\n",
              "  '0',\n",
              "  '1',\n",
              "  '0',\n",
              "  '1',\n",
              "  '0',\n",
              "  '0',\n",
              "  '1',\n",
              "  '1',\n",
              "  '0',\n",
              "  '0',\n",
              "  '0',\n",
              "  '0',\n",
              "  '0',\n",
              "  '0',\n",
              "  '0',\n",
              "  '1',\n",
              "  '1',\n",
              "  '0',\n",
              "  '1',\n",
              "  '0',\n",
              "  '0',\n",
              "  '0',\n",
              "  '0',\n",
              "  '1',\n",
              "  '1',\n",
              "  '0',\n",
              "  '1',\n",
              "  '1',\n",
              "  '1',\n",
              "  '0',\n",
              "  '1',\n",
              "  '1',\n",
              "  '0',\n",
              "  '0',\n",
              "  '1',\n",
              "  '0',\n",
              "  '0',\n",
              "  '0',\n",
              "  '1',\n",
              "  '0',\n",
              "  '1',\n",
              "  '1',\n",
              "  '0',\n",
              "  '0',\n",
              "  '0',\n",
              "  '0',\n",
              "  '1',\n",
              "  '1',\n",
              "  '1',\n",
              "  '1',\n",
              "  '0',\n",
              "  '0',\n",
              "  '1',\n",
              "  '1',\n",
              "  '1',\n",
              "  '1',\n",
              "  '1',\n",
              "  '0',\n",
              "  '0',\n",
              "  '1',\n",
              "  '0',\n",
              "  '0',\n",
              "  '1',\n",
              "  '1',\n",
              "  '0',\n",
              "  '1',\n",
              "  '1',\n",
              "  '0',\n",
              "  '0',\n",
              "  '0',\n",
              "  '0',\n",
              "  '1',\n",
              "  '1',\n",
              "  '1',\n",
              "  '0',\n",
              "  '1',\n",
              "  '0',\n",
              "  '1',\n",
              "  '0',\n",
              "  '1',\n",
              "  '0',\n",
              "  '1',\n",
              "  '1',\n",
              "  '0',\n",
              "  '1',\n",
              "  '0',\n",
              "  '1',\n",
              "  '1',\n",
              "  '1',\n",
              "  '0',\n",
              "  '1',\n",
              "  '1',\n",
              "  '1',\n",
              "  '1',\n",
              "  '1',\n",
              "  '1',\n",
              "  '0',\n",
              "  '1',\n",
              "  '0',\n",
              "  '1',\n",
              "  '0',\n",
              "  '0',\n",
              "  '0',\n",
              "  '0',\n",
              "  '1',\n",
              "  '1',\n",
              "  '1',\n",
              "  '0',\n",
              "  '0',\n",
              "  '1',\n",
              "  '1',\n",
              "  '1',\n",
              "  '0',\n",
              "  '0',\n",
              "  '0',\n",
              "  '1',\n",
              "  '1',\n",
              "  '1',\n",
              "  '0',\n",
              "  '1',\n",
              "  '1',\n",
              "  '0',\n",
              "  '0',\n",
              "  '1',\n",
              "  '1',\n",
              "  '0',\n",
              "  '0',\n",
              "  '1',\n",
              "  '1',\n",
              "  '1',\n",
              "  '1',\n",
              "  '0',\n",
              "  '0',\n",
              "  '0',\n",
              "  '0',\n",
              "  '0',\n",
              "  '1',\n",
              "  '0',\n",
              "  '0',\n",
              "  '1',\n",
              "  '1',\n",
              "  '1',\n",
              "  '0',\n",
              "  '0',\n",
              "  '0',\n",
              "  '0',\n",
              "  '0',\n",
              "  '0',\n",
              "  '1',\n",
              "  '1',\n",
              "  '1',\n",
              "  '0',\n",
              "  '0',\n",
              "  '1',\n",
              "  '0',\n",
              "  '1',\n",
              "  '0',\n",
              "  '1',\n",
              "  '1',\n",
              "  '1',\n",
              "  '1',\n",
              "  '0',\n",
              "  '0',\n",
              "  '1',\n",
              "  '1',\n",
              "  '0',\n",
              "  '1',\n",
              "  '0',\n",
              "  '0',\n",
              "  '1',\n",
              "  '1',\n",
              "  '0',\n",
              "  '0',\n",
              "  '0',\n",
              "  '1',\n",
              "  '1',\n",
              "  '1',\n",
              "  '0',\n",
              "  '1',\n",
              "  '0',\n",
              "  '0',\n",
              "  '0',\n",
              "  '0',\n",
              "  '1',\n",
              "  '1',\n",
              "  '0',\n",
              "  '1',\n",
              "  '0',\n",
              "  '0',\n",
              "  '1',\n",
              "  '1',\n",
              "  '0',\n",
              "  '0',\n",
              "  '0',\n",
              "  '0',\n",
              "  '1',\n",
              "  '0',\n",
              "  '0',\n",
              "  '0',\n",
              "  '1',\n",
              "  '1',\n",
              "  '0',\n",
              "  '1',\n",
              "  '1',\n",
              "  '0',\n",
              "  '1',\n",
              "  '0',\n",
              "  '0',\n",
              "  '0',\n",
              "  '0',\n",
              "  '1',\n",
              "  '0',\n",
              "  '1',\n",
              "  '0',\n",
              "  '1',\n",
              "  '1',\n",
              "  '0',\n",
              "  '1',\n",
              "  '0',\n",
              "  '1',\n",
              "  '1',\n",
              "  '1',\n",
              "  '0',\n",
              "  '1',\n",
              "  '1',\n",
              "  '1',\n",
              "  '0',\n",
              "  '0',\n",
              "  '0',\n",
              "  '0',\n",
              "  '0',\n",
              "  '1',\n",
              "  '0',\n",
              "  '0',\n",
              "  '1',\n",
              "  '1',\n",
              "  '1',\n",
              "  '0',\n",
              "  '0',\n",
              "  '1',\n",
              "  '0',\n",
              "  ...])"
            ]
          },
          "execution_count": 13,
          "metadata": {},
          "output_type": "execute_result"
        }
      ],
      "source": [
        "model = keras.models.load_model('C:\\\\Users\\\\krock\\\\Desktop\\\\FIIT\\\\Ing\\\\DP\\\\DP\\\\models\\\\rural-moon-122.h5')\n",
        "test_accuracy_on_dataset_confusion_matrix(model, CNRParkAB_PATH)\n",
        "test_accuracy_on_dataset_confusion_matrix(model, CNRParkEXT_PATH)\n",
        "test_accuracy_on_dataset_confusion_matrix(model, SvJur_PATH)\n",
        "test_accuracy_on_dataset_confusion_matrix(model, PKLot_PATH)\n",
        "\n",
        "model = keras.models.load_model('C:\\\\Users\\\\krock\\\\Desktop\\\\FIIT\\\\Ing\\\\DP\\\\DP\\\\models\\\\angry-alpaca-186.h5')\n",
        "test_accuracy_on_dataset_confusion_matrix(model, CNRParkAB_PATH)\n",
        "test_accuracy_on_dataset_confusion_matrix(model, CNRParkEXT_PATH)\n",
        "test_accuracy_on_dataset_confusion_matrix(model, SvJur_PATH)\n",
        "test_accuracy_on_dataset_confusion_matrix(model, PKLot_PATH)\n",
        "\n",
        "model = keras.models.load_model('C:\\\\Users\\\\krock\\\\Desktop\\\\FIIT\\\\Ing\\\\DP\\\\DP\\\\models\\\\jedi-council-188.h5')\n",
        "test_accuracy_on_dataset_confusion_matrix(model, CNRParkAB_PATH)\n",
        "test_accuracy_on_dataset_confusion_matrix(model, CNRParkEXT_PATH)\n",
        "test_accuracy_on_dataset_confusion_matrix(model, SvJur_PATH)\n",
        "test_accuracy_on_dataset_confusion_matrix(model, PKLot_PATH)\n",
        "\n",
        "model = keras.models.load_model('C:\\\\Users\\\\krock\\\\Desktop\\\\FIIT\\\\Ing\\\\DP\\\\DP\\\\models\\\\mAlexNet_original_keras.h5')\n",
        "test_accuracy_on_dataset_confusion_matrix(model, CNRParkAB_PATH)\n",
        "test_accuracy_on_dataset_confusion_matrix(model, CNRParkEXT_PATH)\n",
        "test_accuracy_on_dataset_confusion_matrix(model, SvJur_PATH)\n",
        "test_accuracy_on_dataset_confusion_matrix(model, PKLot_PATH)"
      ]
    }
  ],
  "metadata": {
    "colab": {
      "collapsed_sections": [
        "qond89cYLaMJ"
      ],
      "name": "DP.ipynb",
      "provenance": []
    },
    "interpreter": {
      "hash": "6f741e995438a8b27fef252ceeae1ed5042380e55b7b601e162df479a9bd0ab4"
    },
    "kernelspec": {
      "display_name": "Python 3.9.4 ('venv': venv)",
      "language": "python",
      "name": "python3"
    },
    "language_info": {
      "codemirror_mode": {
        "name": "ipython",
        "version": 3
      },
      "file_extension": ".py",
      "mimetype": "text/x-python",
      "name": "python",
      "nbconvert_exporter": "python",
      "pygments_lexer": "ipython3",
      "version": "3.9.4"
    },
    "widgets": {
      "application/vnd.jupyter.widget-state+json": {
        "00ddc3a1242d43b09f176baa15d0b53c": {
          "model_module": "@jupyter-widgets/controls",
          "model_module_version": "1.5.0",
          "model_name": "DescriptionStyleModel",
          "state": {
            "_model_module": "@jupyter-widgets/controls",
            "_model_module_version": "1.5.0",
            "_model_name": "DescriptionStyleModel",
            "_view_count": null,
            "_view_module": "@jupyter-widgets/base",
            "_view_module_version": "1.2.0",
            "_view_name": "StyleView",
            "description_width": ""
          }
        },
        "0c3940bee0494ddd95bcc63025a39178": {
          "model_module": "@jupyter-widgets/controls",
          "model_module_version": "1.5.0",
          "model_name": "HBoxModel",
          "state": {
            "_dom_classes": [],
            "_model_module": "@jupyter-widgets/controls",
            "_model_module_version": "1.5.0",
            "_model_name": "HBoxModel",
            "_view_count": null,
            "_view_module": "@jupyter-widgets/controls",
            "_view_module_version": "1.5.0",
            "_view_name": "HBoxView",
            "box_style": "",
            "children": [
              "IPY_MODEL_59f970f9ae8a493c92fc1b5955459b89",
              "IPY_MODEL_5cf1e67761b6473ab69ea2efb3fb4dfd",
              "IPY_MODEL_dcfcfd0ee5be4024ab2dbf2d7e877e64"
            ],
            "layout": "IPY_MODEL_c5bd758c3def443d962a7284a6d166fd"
          }
        },
        "1356e2a8fcbf4d20ac0ddf86284e2830": {
          "model_module": "@jupyter-widgets/controls",
          "model_module_version": "1.5.0",
          "model_name": "ProgressStyleModel",
          "state": {
            "_model_module": "@jupyter-widgets/controls",
            "_model_module_version": "1.5.0",
            "_model_name": "ProgressStyleModel",
            "_view_count": null,
            "_view_module": "@jupyter-widgets/base",
            "_view_module_version": "1.2.0",
            "_view_name": "StyleView",
            "bar_color": null,
            "description_width": ""
          }
        },
        "29168e27ec5c4eb78ffaa1fb85e89412": {
          "model_module": "@jupyter-widgets/base",
          "model_module_version": "1.2.0",
          "model_name": "LayoutModel",
          "state": {
            "_model_module": "@jupyter-widgets/base",
            "_model_module_version": "1.2.0",
            "_model_name": "LayoutModel",
            "_view_count": null,
            "_view_module": "@jupyter-widgets/base",
            "_view_module_version": "1.2.0",
            "_view_name": "LayoutView",
            "align_content": null,
            "align_items": null,
            "align_self": null,
            "border": null,
            "bottom": null,
            "display": null,
            "flex": null,
            "flex_flow": null,
            "grid_area": null,
            "grid_auto_columns": null,
            "grid_auto_flow": null,
            "grid_auto_rows": null,
            "grid_column": null,
            "grid_gap": null,
            "grid_row": null,
            "grid_template_areas": null,
            "grid_template_columns": null,
            "grid_template_rows": null,
            "height": null,
            "justify_content": null,
            "justify_items": null,
            "left": null,
            "margin": null,
            "max_height": null,
            "max_width": null,
            "min_height": null,
            "min_width": null,
            "object_fit": null,
            "object_position": null,
            "order": null,
            "overflow": null,
            "overflow_x": null,
            "overflow_y": null,
            "padding": null,
            "right": null,
            "top": null,
            "visibility": null,
            "width": null
          }
        },
        "2a8aee8d4403433badcac8318fddcdea": {
          "model_module": "@jupyter-widgets/controls",
          "model_module_version": "1.5.0",
          "model_name": "ProgressStyleModel",
          "state": {
            "_model_module": "@jupyter-widgets/controls",
            "_model_module_version": "1.5.0",
            "_model_name": "ProgressStyleModel",
            "_view_count": null,
            "_view_module": "@jupyter-widgets/base",
            "_view_module_version": "1.2.0",
            "_view_name": "StyleView",
            "bar_color": null,
            "description_width": ""
          }
        },
        "2bf559ca856f4f51bd368a9c3c4026e1": {
          "model_module": "@jupyter-widgets/base",
          "model_module_version": "1.2.0",
          "model_name": "LayoutModel",
          "state": {
            "_model_module": "@jupyter-widgets/base",
            "_model_module_version": "1.2.0",
            "_model_name": "LayoutModel",
            "_view_count": null,
            "_view_module": "@jupyter-widgets/base",
            "_view_module_version": "1.2.0",
            "_view_name": "LayoutView",
            "align_content": null,
            "align_items": null,
            "align_self": null,
            "border": null,
            "bottom": null,
            "display": null,
            "flex": null,
            "flex_flow": null,
            "grid_area": null,
            "grid_auto_columns": null,
            "grid_auto_flow": null,
            "grid_auto_rows": null,
            "grid_column": null,
            "grid_gap": null,
            "grid_row": null,
            "grid_template_areas": null,
            "grid_template_columns": null,
            "grid_template_rows": null,
            "height": null,
            "justify_content": null,
            "justify_items": null,
            "left": null,
            "margin": null,
            "max_height": null,
            "max_width": null,
            "min_height": null,
            "min_width": null,
            "object_fit": null,
            "object_position": null,
            "order": null,
            "overflow": null,
            "overflow_x": null,
            "overflow_y": null,
            "padding": null,
            "right": null,
            "top": null,
            "visibility": null,
            "width": null
          }
        },
        "2f4e25a4f66842c49c5361621b691f61": {
          "model_module": "@jupyter-widgets/controls",
          "model_module_version": "1.5.0",
          "model_name": "HTMLModel",
          "state": {
            "_dom_classes": [],
            "_model_module": "@jupyter-widgets/controls",
            "_model_module_version": "1.5.0",
            "_model_name": "HTMLModel",
            "_view_count": null,
            "_view_module": "@jupyter-widgets/controls",
            "_view_module_version": "1.5.0",
            "_view_name": "HTMLView",
            "description": "",
            "description_tooltip": null,
            "layout": "IPY_MODEL_6f88c88994f54ba1b825d505b1d346d9",
            "placeholder": "​",
            "style": "IPY_MODEL_e7c4174e97754ac18f207de1d3fbca3e",
            "value": " 695851/695851 [06:35&lt;00:00, 1829.68it/s]"
          }
        },
        "4335db990b924b19bd2fdbf6cea76e50": {
          "model_module": "@jupyter-widgets/controls",
          "model_module_version": "1.5.0",
          "model_name": "HBoxModel",
          "state": {
            "_dom_classes": [],
            "_model_module": "@jupyter-widgets/controls",
            "_model_module_version": "1.5.0",
            "_model_name": "HBoxModel",
            "_view_count": null,
            "_view_module": "@jupyter-widgets/controls",
            "_view_module_version": "1.5.0",
            "_view_name": "HBoxView",
            "box_style": "",
            "children": [
              "IPY_MODEL_759c759ecba041a88d3fa31101fa2b6e",
              "IPY_MODEL_7e3fb49a44e04264b7046b222bd9500f",
              "IPY_MODEL_2f4e25a4f66842c49c5361621b691f61"
            ],
            "layout": "IPY_MODEL_29168e27ec5c4eb78ffaa1fb85e89412"
          }
        },
        "46088d6c5d204b308ce23c62d33b3c6a": {
          "model_module": "@jupyter-widgets/base",
          "model_module_version": "1.2.0",
          "model_name": "LayoutModel",
          "state": {
            "_model_module": "@jupyter-widgets/base",
            "_model_module_version": "1.2.0",
            "_model_name": "LayoutModel",
            "_view_count": null,
            "_view_module": "@jupyter-widgets/base",
            "_view_module_version": "1.2.0",
            "_view_name": "LayoutView",
            "align_content": null,
            "align_items": null,
            "align_self": null,
            "border": null,
            "bottom": null,
            "display": null,
            "flex": null,
            "flex_flow": null,
            "grid_area": null,
            "grid_auto_columns": null,
            "grid_auto_flow": null,
            "grid_auto_rows": null,
            "grid_column": null,
            "grid_gap": null,
            "grid_row": null,
            "grid_template_areas": null,
            "grid_template_columns": null,
            "grid_template_rows": null,
            "height": null,
            "justify_content": null,
            "justify_items": null,
            "left": null,
            "margin": null,
            "max_height": null,
            "max_width": null,
            "min_height": null,
            "min_width": null,
            "object_fit": null,
            "object_position": null,
            "order": null,
            "overflow": null,
            "overflow_x": null,
            "overflow_y": null,
            "padding": null,
            "right": null,
            "top": null,
            "visibility": null,
            "width": null
          }
        },
        "473833edb15046939db245091d5c3134": {
          "model_module": "@jupyter-widgets/base",
          "model_module_version": "1.2.0",
          "model_name": "LayoutModel",
          "state": {
            "_model_module": "@jupyter-widgets/base",
            "_model_module_version": "1.2.0",
            "_model_name": "LayoutModel",
            "_view_count": null,
            "_view_module": "@jupyter-widgets/base",
            "_view_module_version": "1.2.0",
            "_view_name": "LayoutView",
            "align_content": null,
            "align_items": null,
            "align_self": null,
            "border": null,
            "bottom": null,
            "display": null,
            "flex": null,
            "flex_flow": null,
            "grid_area": null,
            "grid_auto_columns": null,
            "grid_auto_flow": null,
            "grid_auto_rows": null,
            "grid_column": null,
            "grid_gap": null,
            "grid_row": null,
            "grid_template_areas": null,
            "grid_template_columns": null,
            "grid_template_rows": null,
            "height": null,
            "justify_content": null,
            "justify_items": null,
            "left": null,
            "margin": null,
            "max_height": null,
            "max_width": null,
            "min_height": null,
            "min_width": null,
            "object_fit": null,
            "object_position": null,
            "order": null,
            "overflow": null,
            "overflow_x": null,
            "overflow_y": null,
            "padding": null,
            "right": null,
            "top": null,
            "visibility": null,
            "width": null
          }
        },
        "480e6cf38d0041e68eaa29267ac8e580": {
          "model_module": "@jupyter-widgets/base",
          "model_module_version": "1.2.0",
          "model_name": "LayoutModel",
          "state": {
            "_model_module": "@jupyter-widgets/base",
            "_model_module_version": "1.2.0",
            "_model_name": "LayoutModel",
            "_view_count": null,
            "_view_module": "@jupyter-widgets/base",
            "_view_module_version": "1.2.0",
            "_view_name": "LayoutView",
            "align_content": null,
            "align_items": null,
            "align_self": null,
            "border": null,
            "bottom": null,
            "display": null,
            "flex": null,
            "flex_flow": null,
            "grid_area": null,
            "grid_auto_columns": null,
            "grid_auto_flow": null,
            "grid_auto_rows": null,
            "grid_column": null,
            "grid_gap": null,
            "grid_row": null,
            "grid_template_areas": null,
            "grid_template_columns": null,
            "grid_template_rows": null,
            "height": null,
            "justify_content": null,
            "justify_items": null,
            "left": null,
            "margin": null,
            "max_height": null,
            "max_width": null,
            "min_height": null,
            "min_width": null,
            "object_fit": null,
            "object_position": null,
            "order": null,
            "overflow": null,
            "overflow_x": null,
            "overflow_y": null,
            "padding": null,
            "right": null,
            "top": null,
            "visibility": null,
            "width": null
          }
        },
        "59f970f9ae8a493c92fc1b5955459b89": {
          "model_module": "@jupyter-widgets/controls",
          "model_module_version": "1.5.0",
          "model_name": "HTMLModel",
          "state": {
            "_dom_classes": [],
            "_model_module": "@jupyter-widgets/controls",
            "_model_module_version": "1.5.0",
            "_model_name": "HTMLModel",
            "_view_count": null,
            "_view_module": "@jupyter-widgets/controls",
            "_view_module_version": "1.5.0",
            "_view_name": "HTMLView",
            "description": "",
            "description_tooltip": null,
            "layout": "IPY_MODEL_f26b475293c84e66aec00592f0aaf66e",
            "placeholder": "​",
            "style": "IPY_MODEL_00ddc3a1242d43b09f176baa15d0b53c",
            "value": "100%"
          }
        },
        "5cf1e67761b6473ab69ea2efb3fb4dfd": {
          "model_module": "@jupyter-widgets/controls",
          "model_module_version": "1.5.0",
          "model_name": "FloatProgressModel",
          "state": {
            "_dom_classes": [],
            "_model_module": "@jupyter-widgets/controls",
            "_model_module_version": "1.5.0",
            "_model_name": "FloatProgressModel",
            "_view_count": null,
            "_view_module": "@jupyter-widgets/controls",
            "_view_module_version": "1.5.0",
            "_view_name": "ProgressView",
            "bar_style": "success",
            "description": "",
            "description_tooltip": null,
            "layout": "IPY_MODEL_f73b77054c2e433fb86c78768d1bd038",
            "max": 12584,
            "min": 0,
            "orientation": "horizontal",
            "style": "IPY_MODEL_1356e2a8fcbf4d20ac0ddf86284e2830",
            "value": 12584
          }
        },
        "6f88c88994f54ba1b825d505b1d346d9": {
          "model_module": "@jupyter-widgets/base",
          "model_module_version": "1.2.0",
          "model_name": "LayoutModel",
          "state": {
            "_model_module": "@jupyter-widgets/base",
            "_model_module_version": "1.2.0",
            "_model_name": "LayoutModel",
            "_view_count": null,
            "_view_module": "@jupyter-widgets/base",
            "_view_module_version": "1.2.0",
            "_view_name": "LayoutView",
            "align_content": null,
            "align_items": null,
            "align_self": null,
            "border": null,
            "bottom": null,
            "display": null,
            "flex": null,
            "flex_flow": null,
            "grid_area": null,
            "grid_auto_columns": null,
            "grid_auto_flow": null,
            "grid_auto_rows": null,
            "grid_column": null,
            "grid_gap": null,
            "grid_row": null,
            "grid_template_areas": null,
            "grid_template_columns": null,
            "grid_template_rows": null,
            "height": null,
            "justify_content": null,
            "justify_items": null,
            "left": null,
            "margin": null,
            "max_height": null,
            "max_width": null,
            "min_height": null,
            "min_width": null,
            "object_fit": null,
            "object_position": null,
            "order": null,
            "overflow": null,
            "overflow_x": null,
            "overflow_y": null,
            "padding": null,
            "right": null,
            "top": null,
            "visibility": null,
            "width": null
          }
        },
        "759c759ecba041a88d3fa31101fa2b6e": {
          "model_module": "@jupyter-widgets/controls",
          "model_module_version": "1.5.0",
          "model_name": "HTMLModel",
          "state": {
            "_dom_classes": [],
            "_model_module": "@jupyter-widgets/controls",
            "_model_module_version": "1.5.0",
            "_model_name": "HTMLModel",
            "_view_count": null,
            "_view_module": "@jupyter-widgets/controls",
            "_view_module_version": "1.5.0",
            "_view_name": "HTMLView",
            "description": "",
            "description_tooltip": null,
            "layout": "IPY_MODEL_9bbc0c2785624b288d66f7ebf769c727",
            "placeholder": "​",
            "style": "IPY_MODEL_de1a795b609c4dacb79fc0676bbcd6ae",
            "value": "100%"
          }
        },
        "77c59b2af8d1417cb95174d7a4e9c199": {
          "model_module": "@jupyter-widgets/controls",
          "model_module_version": "1.5.0",
          "model_name": "DescriptionStyleModel",
          "state": {
            "_model_module": "@jupyter-widgets/controls",
            "_model_module_version": "1.5.0",
            "_model_name": "DescriptionStyleModel",
            "_view_count": null,
            "_view_module": "@jupyter-widgets/base",
            "_view_module_version": "1.2.0",
            "_view_name": "StyleView",
            "description_width": ""
          }
        },
        "7e3fb49a44e04264b7046b222bd9500f": {
          "model_module": "@jupyter-widgets/controls",
          "model_module_version": "1.5.0",
          "model_name": "FloatProgressModel",
          "state": {
            "_dom_classes": [],
            "_model_module": "@jupyter-widgets/controls",
            "_model_module_version": "1.5.0",
            "_model_name": "FloatProgressModel",
            "_view_count": null,
            "_view_module": "@jupyter-widgets/controls",
            "_view_module_version": "1.5.0",
            "_view_name": "ProgressView",
            "bar_style": "success",
            "description": "",
            "description_tooltip": null,
            "layout": "IPY_MODEL_e4a3fab7a76f48fe8d67a790020c2d0a",
            "max": 695851,
            "min": 0,
            "orientation": "horizontal",
            "style": "IPY_MODEL_b60ebce55adc4f97ada027351e9f11d2",
            "value": 695851
          }
        },
        "891c27dfd01543bfb10432a9dd9b32a1": {
          "model_module": "@jupyter-widgets/controls",
          "model_module_version": "1.5.0",
          "model_name": "DescriptionStyleModel",
          "state": {
            "_model_module": "@jupyter-widgets/controls",
            "_model_module_version": "1.5.0",
            "_model_name": "DescriptionStyleModel",
            "_view_count": null,
            "_view_module": "@jupyter-widgets/base",
            "_view_module_version": "1.2.0",
            "_view_name": "StyleView",
            "description_width": ""
          }
        },
        "9bbc0c2785624b288d66f7ebf769c727": {
          "model_module": "@jupyter-widgets/base",
          "model_module_version": "1.2.0",
          "model_name": "LayoutModel",
          "state": {
            "_model_module": "@jupyter-widgets/base",
            "_model_module_version": "1.2.0",
            "_model_name": "LayoutModel",
            "_view_count": null,
            "_view_module": "@jupyter-widgets/base",
            "_view_module_version": "1.2.0",
            "_view_name": "LayoutView",
            "align_content": null,
            "align_items": null,
            "align_self": null,
            "border": null,
            "bottom": null,
            "display": null,
            "flex": null,
            "flex_flow": null,
            "grid_area": null,
            "grid_auto_columns": null,
            "grid_auto_flow": null,
            "grid_auto_rows": null,
            "grid_column": null,
            "grid_gap": null,
            "grid_row": null,
            "grid_template_areas": null,
            "grid_template_columns": null,
            "grid_template_rows": null,
            "height": null,
            "justify_content": null,
            "justify_items": null,
            "left": null,
            "margin": null,
            "max_height": null,
            "max_width": null,
            "min_height": null,
            "min_width": null,
            "object_fit": null,
            "object_position": null,
            "order": null,
            "overflow": null,
            "overflow_x": null,
            "overflow_y": null,
            "padding": null,
            "right": null,
            "top": null,
            "visibility": null,
            "width": null
          }
        },
        "9dae2427a64e4464b52e123ff27d170e": {
          "model_module": "@jupyter-widgets/base",
          "model_module_version": "1.2.0",
          "model_name": "LayoutModel",
          "state": {
            "_model_module": "@jupyter-widgets/base",
            "_model_module_version": "1.2.0",
            "_model_name": "LayoutModel",
            "_view_count": null,
            "_view_module": "@jupyter-widgets/base",
            "_view_module_version": "1.2.0",
            "_view_name": "LayoutView",
            "align_content": null,
            "align_items": null,
            "align_self": null,
            "border": null,
            "bottom": null,
            "display": null,
            "flex": null,
            "flex_flow": null,
            "grid_area": null,
            "grid_auto_columns": null,
            "grid_auto_flow": null,
            "grid_auto_rows": null,
            "grid_column": null,
            "grid_gap": null,
            "grid_row": null,
            "grid_template_areas": null,
            "grid_template_columns": null,
            "grid_template_rows": null,
            "height": null,
            "justify_content": null,
            "justify_items": null,
            "left": null,
            "margin": null,
            "max_height": null,
            "max_width": null,
            "min_height": null,
            "min_width": null,
            "object_fit": null,
            "object_position": null,
            "order": null,
            "overflow": null,
            "overflow_x": null,
            "overflow_y": null,
            "padding": null,
            "right": null,
            "top": null,
            "visibility": null,
            "width": null
          }
        },
        "b0f199c359b04b3e81074812ac4d06eb": {
          "model_module": "@jupyter-widgets/controls",
          "model_module_version": "1.5.0",
          "model_name": "DescriptionStyleModel",
          "state": {
            "_model_module": "@jupyter-widgets/controls",
            "_model_module_version": "1.5.0",
            "_model_name": "DescriptionStyleModel",
            "_view_count": null,
            "_view_module": "@jupyter-widgets/base",
            "_view_module_version": "1.2.0",
            "_view_name": "StyleView",
            "description_width": ""
          }
        },
        "b60ebce55adc4f97ada027351e9f11d2": {
          "model_module": "@jupyter-widgets/controls",
          "model_module_version": "1.5.0",
          "model_name": "ProgressStyleModel",
          "state": {
            "_model_module": "@jupyter-widgets/controls",
            "_model_module_version": "1.5.0",
            "_model_name": "ProgressStyleModel",
            "_view_count": null,
            "_view_module": "@jupyter-widgets/base",
            "_view_module_version": "1.2.0",
            "_view_name": "StyleView",
            "bar_color": null,
            "description_width": ""
          }
        },
        "c3ce77871a744dc6ae83317c657435e5": {
          "model_module": "@jupyter-widgets/controls",
          "model_module_version": "1.5.0",
          "model_name": "HBoxModel",
          "state": {
            "_dom_classes": [],
            "_model_module": "@jupyter-widgets/controls",
            "_model_module_version": "1.5.0",
            "_model_name": "HBoxModel",
            "_view_count": null,
            "_view_module": "@jupyter-widgets/controls",
            "_view_module_version": "1.5.0",
            "_view_name": "HBoxView",
            "box_style": "",
            "children": [
              "IPY_MODEL_c6527dd086294615b8f310144120d4eb",
              "IPY_MODEL_f48af459932e4ff28baf187af90d96f9",
              "IPY_MODEL_f0d159a234e540d3bfed91751376a4e7"
            ],
            "layout": "IPY_MODEL_9dae2427a64e4464b52e123ff27d170e"
          }
        },
        "c5bd758c3def443d962a7284a6d166fd": {
          "model_module": "@jupyter-widgets/base",
          "model_module_version": "1.2.0",
          "model_name": "LayoutModel",
          "state": {
            "_model_module": "@jupyter-widgets/base",
            "_model_module_version": "1.2.0",
            "_model_name": "LayoutModel",
            "_view_count": null,
            "_view_module": "@jupyter-widgets/base",
            "_view_module_version": "1.2.0",
            "_view_name": "LayoutView",
            "align_content": null,
            "align_items": null,
            "align_self": null,
            "border": null,
            "bottom": null,
            "display": null,
            "flex": null,
            "flex_flow": null,
            "grid_area": null,
            "grid_auto_columns": null,
            "grid_auto_flow": null,
            "grid_auto_rows": null,
            "grid_column": null,
            "grid_gap": null,
            "grid_row": null,
            "grid_template_areas": null,
            "grid_template_columns": null,
            "grid_template_rows": null,
            "height": null,
            "justify_content": null,
            "justify_items": null,
            "left": null,
            "margin": null,
            "max_height": null,
            "max_width": null,
            "min_height": null,
            "min_width": null,
            "object_fit": null,
            "object_position": null,
            "order": null,
            "overflow": null,
            "overflow_x": null,
            "overflow_y": null,
            "padding": null,
            "right": null,
            "top": null,
            "visibility": null,
            "width": null
          }
        },
        "c6527dd086294615b8f310144120d4eb": {
          "model_module": "@jupyter-widgets/controls",
          "model_module_version": "1.5.0",
          "model_name": "HTMLModel",
          "state": {
            "_dom_classes": [],
            "_model_module": "@jupyter-widgets/controls",
            "_model_module_version": "1.5.0",
            "_model_name": "HTMLModel",
            "_view_count": null,
            "_view_module": "@jupyter-widgets/controls",
            "_view_module_version": "1.5.0",
            "_view_name": "HTMLView",
            "description": "",
            "description_tooltip": null,
            "layout": "IPY_MODEL_473833edb15046939db245091d5c3134",
            "placeholder": "​",
            "style": "IPY_MODEL_77c59b2af8d1417cb95174d7a4e9c199",
            "value": "100%"
          }
        },
        "dcfcfd0ee5be4024ab2dbf2d7e877e64": {
          "model_module": "@jupyter-widgets/controls",
          "model_module_version": "1.5.0",
          "model_name": "HTMLModel",
          "state": {
            "_dom_classes": [],
            "_model_module": "@jupyter-widgets/controls",
            "_model_module_version": "1.5.0",
            "_model_name": "HTMLModel",
            "_view_count": null,
            "_view_module": "@jupyter-widgets/controls",
            "_view_module_version": "1.5.0",
            "_view_name": "HTMLView",
            "description": "",
            "description_tooltip": null,
            "layout": "IPY_MODEL_480e6cf38d0041e68eaa29267ac8e580",
            "placeholder": "​",
            "style": "IPY_MODEL_891c27dfd01543bfb10432a9dd9b32a1",
            "value": " 12584/12584 [00:04&lt;00:00, 2770.51it/s]"
          }
        },
        "de1a795b609c4dacb79fc0676bbcd6ae": {
          "model_module": "@jupyter-widgets/controls",
          "model_module_version": "1.5.0",
          "model_name": "DescriptionStyleModel",
          "state": {
            "_model_module": "@jupyter-widgets/controls",
            "_model_module_version": "1.5.0",
            "_model_name": "DescriptionStyleModel",
            "_view_count": null,
            "_view_module": "@jupyter-widgets/base",
            "_view_module_version": "1.2.0",
            "_view_name": "StyleView",
            "description_width": ""
          }
        },
        "e4a3fab7a76f48fe8d67a790020c2d0a": {
          "model_module": "@jupyter-widgets/base",
          "model_module_version": "1.2.0",
          "model_name": "LayoutModel",
          "state": {
            "_model_module": "@jupyter-widgets/base",
            "_model_module_version": "1.2.0",
            "_model_name": "LayoutModel",
            "_view_count": null,
            "_view_module": "@jupyter-widgets/base",
            "_view_module_version": "1.2.0",
            "_view_name": "LayoutView",
            "align_content": null,
            "align_items": null,
            "align_self": null,
            "border": null,
            "bottom": null,
            "display": null,
            "flex": null,
            "flex_flow": null,
            "grid_area": null,
            "grid_auto_columns": null,
            "grid_auto_flow": null,
            "grid_auto_rows": null,
            "grid_column": null,
            "grid_gap": null,
            "grid_row": null,
            "grid_template_areas": null,
            "grid_template_columns": null,
            "grid_template_rows": null,
            "height": null,
            "justify_content": null,
            "justify_items": null,
            "left": null,
            "margin": null,
            "max_height": null,
            "max_width": null,
            "min_height": null,
            "min_width": null,
            "object_fit": null,
            "object_position": null,
            "order": null,
            "overflow": null,
            "overflow_x": null,
            "overflow_y": null,
            "padding": null,
            "right": null,
            "top": null,
            "visibility": null,
            "width": null
          }
        },
        "e7c4174e97754ac18f207de1d3fbca3e": {
          "model_module": "@jupyter-widgets/controls",
          "model_module_version": "1.5.0",
          "model_name": "DescriptionStyleModel",
          "state": {
            "_model_module": "@jupyter-widgets/controls",
            "_model_module_version": "1.5.0",
            "_model_name": "DescriptionStyleModel",
            "_view_count": null,
            "_view_module": "@jupyter-widgets/base",
            "_view_module_version": "1.2.0",
            "_view_name": "StyleView",
            "description_width": ""
          }
        },
        "f0d159a234e540d3bfed91751376a4e7": {
          "model_module": "@jupyter-widgets/controls",
          "model_module_version": "1.5.0",
          "model_name": "HTMLModel",
          "state": {
            "_dom_classes": [],
            "_model_module": "@jupyter-widgets/controls",
            "_model_module_version": "1.5.0",
            "_model_name": "HTMLModel",
            "_view_count": null,
            "_view_module": "@jupyter-widgets/controls",
            "_view_module_version": "1.5.0",
            "_view_name": "HTMLView",
            "description": "",
            "description_tooltip": null,
            "layout": "IPY_MODEL_46088d6c5d204b308ce23c62d33b3c6a",
            "placeholder": "​",
            "style": "IPY_MODEL_b0f199c359b04b3e81074812ac4d06eb",
            "value": " 144965/144965 [01:06&lt;00:00, 2062.54it/s]"
          }
        },
        "f26b475293c84e66aec00592f0aaf66e": {
          "model_module": "@jupyter-widgets/base",
          "model_module_version": "1.2.0",
          "model_name": "LayoutModel",
          "state": {
            "_model_module": "@jupyter-widgets/base",
            "_model_module_version": "1.2.0",
            "_model_name": "LayoutModel",
            "_view_count": null,
            "_view_module": "@jupyter-widgets/base",
            "_view_module_version": "1.2.0",
            "_view_name": "LayoutView",
            "align_content": null,
            "align_items": null,
            "align_self": null,
            "border": null,
            "bottom": null,
            "display": null,
            "flex": null,
            "flex_flow": null,
            "grid_area": null,
            "grid_auto_columns": null,
            "grid_auto_flow": null,
            "grid_auto_rows": null,
            "grid_column": null,
            "grid_gap": null,
            "grid_row": null,
            "grid_template_areas": null,
            "grid_template_columns": null,
            "grid_template_rows": null,
            "height": null,
            "justify_content": null,
            "justify_items": null,
            "left": null,
            "margin": null,
            "max_height": null,
            "max_width": null,
            "min_height": null,
            "min_width": null,
            "object_fit": null,
            "object_position": null,
            "order": null,
            "overflow": null,
            "overflow_x": null,
            "overflow_y": null,
            "padding": null,
            "right": null,
            "top": null,
            "visibility": null,
            "width": null
          }
        },
        "f48af459932e4ff28baf187af90d96f9": {
          "model_module": "@jupyter-widgets/controls",
          "model_module_version": "1.5.0",
          "model_name": "FloatProgressModel",
          "state": {
            "_dom_classes": [],
            "_model_module": "@jupyter-widgets/controls",
            "_model_module_version": "1.5.0",
            "_model_name": "FloatProgressModel",
            "_view_count": null,
            "_view_module": "@jupyter-widgets/controls",
            "_view_module_version": "1.5.0",
            "_view_name": "ProgressView",
            "bar_style": "success",
            "description": "",
            "description_tooltip": null,
            "layout": "IPY_MODEL_2bf559ca856f4f51bd368a9c3c4026e1",
            "max": 144965,
            "min": 0,
            "orientation": "horizontal",
            "style": "IPY_MODEL_2a8aee8d4403433badcac8318fddcdea",
            "value": 144965
          }
        },
        "f73b77054c2e433fb86c78768d1bd038": {
          "model_module": "@jupyter-widgets/base",
          "model_module_version": "1.2.0",
          "model_name": "LayoutModel",
          "state": {
            "_model_module": "@jupyter-widgets/base",
            "_model_module_version": "1.2.0",
            "_model_name": "LayoutModel",
            "_view_count": null,
            "_view_module": "@jupyter-widgets/base",
            "_view_module_version": "1.2.0",
            "_view_name": "LayoutView",
            "align_content": null,
            "align_items": null,
            "align_self": null,
            "border": null,
            "bottom": null,
            "display": null,
            "flex": null,
            "flex_flow": null,
            "grid_area": null,
            "grid_auto_columns": null,
            "grid_auto_flow": null,
            "grid_auto_rows": null,
            "grid_column": null,
            "grid_gap": null,
            "grid_row": null,
            "grid_template_areas": null,
            "grid_template_columns": null,
            "grid_template_rows": null,
            "height": null,
            "justify_content": null,
            "justify_items": null,
            "left": null,
            "margin": null,
            "max_height": null,
            "max_width": null,
            "min_height": null,
            "min_width": null,
            "object_fit": null,
            "object_position": null,
            "order": null,
            "overflow": null,
            "overflow_x": null,
            "overflow_y": null,
            "padding": null,
            "right": null,
            "top": null,
            "visibility": null,
            "width": null
          }
        }
      }
    }
  },
  "nbformat": 4,
  "nbformat_minor": 0
}

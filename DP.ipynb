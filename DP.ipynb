{
  "cells": [
    {
      "cell_type": "markdown",
      "metadata": {
        "id": "ym4sQdGDhWaR"
      },
      "source": [
        "## Import libraries"
      ]
    },
    {
      "cell_type": "code",
      "execution_count": null,
      "metadata": {
        "id": "BogR2rBz4sR6"
      },
      "outputs": [],
      "source": [
        "%%capture\n",
        "!pip install --quiet wandb\n",
        "import wandb\n",
        "from wandb.keras import WandbCallback\n",
        "\n",
        "import tensorflow as tf\n",
        "from tensorflow import keras\n",
        "from keras.utils.vis_utils import plot_model\n",
        "from keras.preprocessing import image\n",
        "from sklearn.metrics import ConfusionMatrixDisplay, confusion_matrix\n",
        "from sklearn.preprocessing import LabelBinarizer\n",
        "import matplotlib.pyplot as plt\n",
        "%matplotlib inline\n",
        "\n",
        "import os\n",
        "import cv2\n",
        "import mmap\n",
        "import pandas\n",
        "import numpy as np\n",
        "import subprocess\n",
        "from tqdm.notebook import tqdm\n",
        "\n",
        "from google.colab.patches import cv2_imshow\n",
        "from google.colab import drive\n",
        "drive.mount('/content/drive', force_remount=True)"
      ]
    },
    {
      "cell_type": "markdown",
      "metadata": {
        "id": "xovjdyNz_04A"
      },
      "source": [
        "## Data"
      ]
    },
    {
      "cell_type": "code",
      "execution_count": null,
      "metadata": {
        "id": "uTNFlpVD5-m4"
      },
      "outputs": [],
      "source": [
        "def wc_count(dataset_path: str) -> int:\n",
        "\tfile_path = os.path.join(OCD_DATA_DIR, 'splits', dataset_path, \"all.txt\")\n",
        "\tout = subprocess.Popen(['wc', '-l', file_path],\n",
        "\t\t\t\t\t\t\t\t\t\t\t\tstdout=subprocess.PIPE,\n",
        "\t\t\t\t\t\t\t\t\t\t\t\tstderr=subprocess.STDOUT\n",
        "\t\t\t\t\t\t\t\t\t\t\t\t).communicate()[0]\n",
        "\treturn int(out.partition(b' ')[0])"
      ]
    },
    {
      "cell_type": "code",
      "execution_count": null,
      "metadata": {
        "id": "eHFIegwRzyxH"
      },
      "outputs": [],
      "source": [
        "# TODO shuffle data\n",
        "\n",
        "def image_generator(input_path: str, bs: int, mode=\"train\", img_size=150, aug=None):\n",
        "\tfile_path = os.path.join(OCD_DATA_DIR, 'splits', input_path, \"all.txt\")\n",
        "\tf = open(file_path, \"r\")\n",
        "\n",
        "\twhile True:\n",
        "\t\timages = []\n",
        "\t\tlabels = []\n",
        "\n",
        "\t\twhile len(images) < bs:\n",
        "\t\t\tline = f.readline()\n",
        "\t\t\t# check to see if the line is empty, indicating we have reached the end of the file\n",
        "\t\t\tif line == \"\":\n",
        "\t\t\t\t# reset the file pointer to the beginning of the file and re-read the line\n",
        "\t\t\t\tf.seek(0)\n",
        "\t\t\t\tline = f.readline()\n",
        "\t\t\t\t# if eval break from loop so we don't fill up the batch from samples at the beginning of file\n",
        "\t\t\t\tif mode == \"eval\":\n",
        "\t\t\t\t\tbreak\n",
        "\n",
        "\t\t\t# extract the image path and label\n",
        "\t\t\timage_path, label = line.strip().split(\" \")\n",
        "\t \t\tprint(image_path)\n",
        "\t\t\timage_path = os.path.join(OCD_DATA_DIR, input_path, image_path)\n",
        "\t \t\t# read image data\n",
        "\t\t\timage = cv2.imread(image_path, cv2.IMREAD_UNCHANGED) / 255\n",
        "\t\t\t# reshape images to preferred size\n",
        "\t\t\timage = cv2.resize(image, (img_size, img_size))\n",
        "\n",
        "\t\t\timages.append(image)\n",
        "\t\t\tlabels.append(label)\n",
        "\n",
        "\t\t# if the data augmentation object is not None, apply it\n",
        "\t\tif aug is not None:\n",
        "\t\t\t(images, labels) = next(aug.flow(np.array(images), labels, batch_size=bs))\n",
        "\n",
        "\t\tlabels = np.array(labels).astype('float32')\n",
        "\n",
        "\t\t# yield the batch to the calling function\n",
        "\t\tyield (np.array(images), labels)"
      ]
    },
    {
      "cell_type": "code",
      "execution_count": null,
      "metadata": {
        "id": "7w3LY3xl0ACK"
      },
      "outputs": [],
      "source": [
        "# NUM_TRAIN_IMAGES = 0\n",
        "\n",
        "# file_path = os.path.join(root_dir, splits_dir, CNRParkAB, \"all.txt\")\n",
        "\n",
        "# # initialize the unique set of class labels in the dataset\n",
        "# f = open(file_path, \"r\")\n",
        "# labels = set()\n",
        "\n",
        "# for line in f:\n",
        "#   label = line.strip().split(' ')[1]\n",
        "#   labels.add(label)\n",
        "#   NUM_TRAIN_IMAGES += 1\n",
        "\n",
        "# f.close()\n",
        "\n",
        "# lb = LabelBinarizer()\n",
        "# lb.fit(list(labels))"
      ]
    },
    {
      "cell_type": "markdown",
      "metadata": {
        "id": "qond89cYLaMJ"
      },
      "source": [
        "## RUN"
      ]
    },
    {
      "cell_type": "code",
      "execution_count": null,
      "metadata": {
        "id": "557tsqaAfiUO"
      },
      "outputs": [],
      "source": [
        "def get_test_data(input_path, img_size=150):\n",
        "  file_path = os.path.join(OCD_DATA_DIR, 'splits', input_path, \"all.txt\")\n",
        "  f = open(file_path, \"r\")\n",
        "  images = []\n",
        "  labels = []\n",
        "\n",
        "  while len(images) < 100:\n",
        "    line = f.readline()\n",
        "    # extract the image path and label\n",
        "    image_path, label = line.strip().split(\" \")\t\n",
        "    image_path = os.path.join(OCD_DATA_DIR, input_path, image_path)\n",
        "    # read image data\n",
        "    image = cv2.imread(image_path, cv2.IMREAD_UNCHANGED) / 255\n",
        "    # reshape images to preferred size\n",
        "    image = cv2.resize(image, (img_size, img_size))\n",
        "\n",
        "    images.append(image)\n",
        "    labels.append(label)\n",
        "\n",
        "  # labels = lb.transform(np.array(labels))\n",
        "  return np.array(images), np.array(labels).astype('float32')"
      ]
    },
    {
      "cell_type": "code",
      "execution_count": null,
      "metadata": {
        "colab": {
          "base_uri": "https://localhost:8080/",
          "height": 68
        },
        "id": "eTMKq7GY7-Un",
        "outputId": "fd978329-5165-4f6d-947e-67da41ade175"
      },
      "outputs": [
        {
          "data": {
            "application/javascript": [
              "\n",
              "        window._wandbApiKey = new Promise((resolve, reject) => {\n",
              "            function loadScript(url) {\n",
              "            return new Promise(function(resolve, reject) {\n",
              "                let newScript = document.createElement(\"script\");\n",
              "                newScript.onerror = reject;\n",
              "                newScript.onload = resolve;\n",
              "                document.body.appendChild(newScript);\n",
              "                newScript.src = url;\n",
              "            });\n",
              "            }\n",
              "            loadScript(\"https://cdn.jsdelivr.net/npm/postmate/build/postmate.min.js\").then(() => {\n",
              "            const iframe = document.createElement('iframe')\n",
              "            iframe.style.cssText = \"width:0;height:0;border:none\"\n",
              "            document.body.appendChild(iframe)\n",
              "            const handshake = new Postmate({\n",
              "                container: iframe,\n",
              "                url: 'https://wandb.ai/authorize'\n",
              "            });\n",
              "            const timeout = setTimeout(() => reject(\"Couldn't auto authenticate\"), 5000)\n",
              "            handshake.then(function(child) {\n",
              "                child.on('authorize', data => {\n",
              "                    clearTimeout(timeout)\n",
              "                    resolve(data)\n",
              "                });\n",
              "            });\n",
              "            })\n",
              "        });\n",
              "    "
            ],
            "text/plain": [
              "<IPython.core.display.Javascript object>"
            ]
          },
          "metadata": {},
          "output_type": "display_data"
        },
        {
          "name": "stderr",
          "output_type": "stream",
          "text": [
            "\u001b[34m\u001b[1mwandb\u001b[0m: Appending key for api.wandb.ai to your netrc file: /root/.netrc\n"
          ]
        },
        {
          "data": {
            "text/html": [
              "\n",
              "                    Syncing run <strong><a href=\"https://wandb.ai/michaelkrocka/DP/runs/24xrg9dm\" target=\"_blank\">laced-cherry-36</a></strong> to <a href=\"https://wandb.ai/michaelkrocka/DP\" target=\"_blank\">Weights & Biases</a> (<a href=\"https://docs.wandb.com/integrations/jupyter.html\" target=\"_blank\">docs</a>).<br/>\n",
              "\n",
              "                "
            ],
            "text/plain": [
              "<IPython.core.display.HTML object>"
            ]
          },
          "metadata": {},
          "output_type": "display_data"
        }
      ],
      "source": [
        "run = wandb.init(project='DP', entity='michaelkrocka',\n",
        "           config={\n",
        "              \"learning_rate\": 0.001,\n",
        "              \"epochs\": 1,\n",
        "              \"batch_size\": 32,\n",
        "              \"loss_function\": \"binary_crossentropy\",\n",
        "              \"optimizer\": \"Adam\",\n",
        "              \"architecture\": \"CNN\",\n",
        "              \"dataset\": \"PKLot\"\n",
        "           })\n",
        "config = wandb.config"
      ]
    },
    {
      "cell_type": "markdown",
      "metadata": {
        "id": "mosqG236cZLJ"
      },
      "source": [
        "242 * 10 +- 10 somewhere there is a NoneType"
      ]
    },
    {
      "cell_type": "code",
      "execution_count": null,
      "metadata": {
        "id": "qWznyhz-ZFZi"
      },
      "outputs": [],
      "source": [
        "generator = image_generator(PKLot_PATH, config.batch_size)\n",
        "NUM_TRAIN_IMAGES = wc_count(PKLot_PATH)\n",
        "\n",
        "history = loaded_model.fit(\n",
        "\tx = generator,\n",
        "\tsteps_per_epoch = NUM_TRAIN_IMAGES // 10,\n",
        "\tepochs = config.epochs,\n",
        "\tcallbacks = [WandbCallback()])\n",
        "\n",
        "wandb.save('occupancy_model.h5')\n",
        "run.finish()"
      ]
    },
    {
      "cell_type": "code",
      "execution_count": null,
      "metadata": {
        "id": "GsG2DKaPgK0C"
      },
      "outputs": [],
      "source": [
        "X_test, y_test = get_test_data(PKLot_PATH)\n",
        "y_pred = loaded_model.predict(X_test)\n",
        "y_pred = np.where(y_pred > 0.5, 1, 0)\n",
        "\n",
        "y_test\n",
        "cm = confusion_matrix(y_test, y_pred)\n",
        "\n",
        "labels = np.array([0, 1])\n",
        "disp = ConfusionMatrixDisplay(confusion_matrix=cm, display_labels=labels)\n",
        "\n",
        "disp.plot(cmap=plt.cm.Blues)\n",
        "plt.show()"
      ]
    },
    {
      "cell_type": "markdown",
      "metadata": {
        "id": "ikCtWfxYCS84"
      },
      "source": [
        "# Pilot app\n",
        "\n",
        "1.   Init\n",
        "  1.   Init paths (keras model weights, image + mask, output?)\n",
        "  2.   <font color=green>Load occupancy detection model</font>\n",
        "  3.   Segment parking lot into parking spaces using Mask\n",
        "2.   Main\n",
        "  1.   Create main\n",
        "      1.   Model detects occupied / empty\n",
        "      2.   If occupied start LP detection pipeline\n",
        "           1.   Described in ALPR\n",
        "  2.   Loop while images in input\n",
        "\n"
      ]
    },
    {
      "cell_type": "code",
      "execution_count": null,
      "metadata": {
        "id": "CnR6BsygFhi2"
      },
      "outputs": [],
      "source": [
        "def init() -> None:\n",
        "  # initialize directory paths\n",
        "  global OCD_DATA_DIR, CNRParkAB_PATH, CNRParkEXT_PATH, PKLot_PATH\n",
        "  DIR_PREFIX = 'drive/MyDrive/DP'\n",
        "  OCD_DATA_DIR = os.path.join(DIR_PREFIX, 'Datasets/OccupancyDetection')\n",
        "  CNRParkAB_PATH = 'CNRParkAB'\n",
        "  CNRParkEXT_PATH = 'CNRPark-EXT'\n",
        "  PKLot_PATH = 'PKLot/PKLotSegmented'\n",
        "  MODEL_PATH = os.path.join(DIR_PREFIX, 'Models/keras_mAlexNet/out_keras.h5')\n",
        "\n",
        "  # verify files exist\n",
        "  for d_path in [CNRParkAB_PATH, CNRParkEXT_PATH, PKLot_PATH]:\n",
        "    missing_files = check_all_files_exist(d_path)\n",
        "    if missing_files: print(d_path, 'files missing:', missing_files)\n",
        "\n",
        "  # load keras model\n",
        "  global loaded_model, target_img_size\n",
        "  loaded_model = keras.models.load_model(MODEL_PATH)\n",
        "  target_img_size = loaded_model.inputs[0].shape[1:-1]\n",
        "\n",
        "  global labels_mapping\n",
        "  labels_mapping = {0: 'free', 1: 'occupied'}"
      ]
    },
    {
      "cell_type": "code",
      "source": [
        "def get_num_lines(dataset_path: str) -> int:\n",
        "  file_path = os.path.join(OCD_DATA_DIR, 'splits', dataset_path, 'all.txt')\n",
        "  fp = open(file_path, \"r+\")\n",
        "  buf = mmap.mmap(fp.fileno(), 0)\n",
        "  lines = 0\n",
        "  while buf.readline():\n",
        "    lines += 1\n",
        "\n",
        "  return lines"
      ],
      "metadata": {
        "id": "wv8NTy-k4mjm"
      },
      "execution_count": null,
      "outputs": []
    },
    {
      "cell_type": "code",
      "source": [
        "def check_all_files_exist(dataset_path: str) -> list:\n",
        "  invalid_paths = list()\n",
        "  with open(os.path.join(OCD_DATA_DIR, 'splits', dataset_path, 'all.txt')) as f:\n",
        "    for line in tqdm(f, total=get_num_lines(dataset_path)):\n",
        "      image_path = os.path.join(OCD_DATA_DIR, dataset_path, line.split()[0])\n",
        "      if not os.path.exists(image_path):\n",
        "        invalid_paths.append(image_path)\n",
        "        print(image_path)\n",
        "\n",
        "  return invalid_paths"
      ],
      "metadata": {
        "id": "tJW5HYkGwZTS"
      },
      "execution_count": null,
      "outputs": []
    },
    {
      "cell_type": "code",
      "execution_count": null,
      "metadata": {
        "id": "hYKtBnDfJBfQ"
      },
      "outputs": [],
      "source": [
        "def preprocess_parking_space(directory: str, filename: str, show_img=False) -> np.ndarray:\n",
        "  f = os.path.join(directory, filename) if directory is not None else filename\n",
        "  img = image.load_img(f, target_size=target_img_size)\n",
        "  if show_img:\n",
        "    plt.imshow(img)\n",
        "    plt.axis('off')\n",
        "    plt.show()\n",
        "  img_array = image.img_to_array(img)\n",
        "  img_array = img_array * 1. / 256 # convert to float and normalize\n",
        "  img_batch = np.expand_dims(img_array, axis=0)\n",
        "\n",
        "  return img_batch"
      ]
    },
    {
      "cell_type": "code",
      "execution_count": null,
      "metadata": {
        "id": "sx8_42VUKPvh"
      },
      "outputs": [],
      "source": [
        "def print_formatted_model_output(filename: str, prediction: dict) -> None:\n",
        "  print(filename.replace('.jpg', ''), '\\t', labels_mapping[np.argmax(prediction)])"
      ]
    },
    {
      "cell_type": "code",
      "execution_count": null,
      "metadata": {
        "id": "YSdUrXMA93DH"
      },
      "outputs": [],
      "source": [
        "# OCD_DATA_DIR in the future -> too large\n",
        "\n",
        "# def main() -> None:\n",
        "#   for filename in os.listdir(OCD_DATA_DIR):\n",
        "#     img = preprocess_parking_space(OCD_DATA_DIR, filename) # show_img=True\n",
        "#     prediction = loaded_model.predict(img)\n",
        "#     print_formatted_model_output(filename, prediction)\n",
        "#     # TODO license plate detection\n",
        "#     # if labels_mapping[np.argmax(prediction)] == 'occupied':\n",
        "#     #   print('TODO :)')"
      ]
    },
    {
      "cell_type": "code",
      "execution_count": null,
      "metadata": {
        "colab": {
          "base_uri": "https://localhost:8080/",
          "height": 113,
          "referenced_widgets": [
            "0c3940bee0494ddd95bcc63025a39178",
            "c5bd758c3def443d962a7284a6d166fd",
            "59f970f9ae8a493c92fc1b5955459b89",
            "5cf1e67761b6473ab69ea2efb3fb4dfd",
            "dcfcfd0ee5be4024ab2dbf2d7e877e64",
            "00ddc3a1242d43b09f176baa15d0b53c",
            "f26b475293c84e66aec00592f0aaf66e",
            "1356e2a8fcbf4d20ac0ddf86284e2830",
            "f73b77054c2e433fb86c78768d1bd038",
            "891c27dfd01543bfb10432a9dd9b32a1",
            "480e6cf38d0041e68eaa29267ac8e580",
            "c3ce77871a744dc6ae83317c657435e5",
            "9dae2427a64e4464b52e123ff27d170e",
            "c6527dd086294615b8f310144120d4eb",
            "f48af459932e4ff28baf187af90d96f9",
            "f0d159a234e540d3bfed91751376a4e7",
            "77c59b2af8d1417cb95174d7a4e9c199",
            "473833edb15046939db245091d5c3134",
            "2a8aee8d4403433badcac8318fddcdea",
            "2bf559ca856f4f51bd368a9c3c4026e1",
            "b0f199c359b04b3e81074812ac4d06eb",
            "46088d6c5d204b308ce23c62d33b3c6a",
            "4335db990b924b19bd2fdbf6cea76e50",
            "29168e27ec5c4eb78ffaa1fb85e89412",
            "759c759ecba041a88d3fa31101fa2b6e",
            "7e3fb49a44e04264b7046b222bd9500f",
            "2f4e25a4f66842c49c5361621b691f61",
            "de1a795b609c4dacb79fc0676bbcd6ae",
            "9bbc0c2785624b288d66f7ebf769c727",
            "b60ebce55adc4f97ada027351e9f11d2",
            "e4a3fab7a76f48fe8d67a790020c2d0a",
            "e7c4174e97754ac18f207de1d3fbca3e",
            "6f88c88994f54ba1b825d505b1d346d9"
          ]
        },
        "id": "iWTCD5fGOj-I",
        "outputId": "4dcc9c2d-7615-4d25-a193-d3b2941d3c9d"
      },
      "outputs": [
        {
          "output_type": "display_data",
          "data": {
            "application/vnd.jupyter.widget-view+json": {
              "model_id": "0c3940bee0494ddd95bcc63025a39178",
              "version_minor": 0,
              "version_major": 2
            },
            "text/plain": [
              "  0%|          | 0/12584 [00:00<?, ?it/s]"
            ]
          },
          "metadata": {}
        },
        {
          "output_type": "display_data",
          "data": {
            "application/vnd.jupyter.widget-view+json": {
              "model_id": "c3ce77871a744dc6ae83317c657435e5",
              "version_minor": 0,
              "version_major": 2
            },
            "text/plain": [
              "  0%|          | 0/144965 [00:00<?, ?it/s]"
            ]
          },
          "metadata": {}
        },
        {
          "output_type": "display_data",
          "data": {
            "application/vnd.jupyter.widget-view+json": {
              "model_id": "4335db990b924b19bd2fdbf6cea76e50",
              "version_minor": 0,
              "version_major": 2
            },
            "text/plain": [
              "  0%|          | 0/695851 [00:00<?, ?it/s]"
            ]
          },
          "metadata": {}
        }
      ],
      "source": [
        "init()\n",
        "# main()"
      ]
    },
    {
      "cell_type": "markdown",
      "metadata": {
        "id": "_XT6leMryXhh"
      },
      "source": [
        "# Accuracy testing"
      ]
    },
    {
      "cell_type": "markdown",
      "source": [
        "*   CNRParkAB {'correct': 11193, 'incorrect': 1391} -> 88.9% accuracy\n",
        "*   CNRParkEXT {'correct': 135149, 'incorrect': 9816} -> 93.2% accuracy\n",
        "*   PKLot_SUM -> {'correct': 543178, 'incorrect': 152583} -> 78.1% accuracy\n",
        "   *   PUC -> {'correct': 348010, 'incorrect': 76213} -> 82.0% accuracy\n",
        "   *   UFPR04 -> {'correct': 60142, 'incorrect': 45701} -> 56.8% accuracy\n",
        "   *   UFPR05 -> {'correct': 135026, 'incorrect': 30759} -> 81.5% accuracy"
      ],
      "metadata": {
        "id": "psstikgSoXe_"
      }
    },
    {
      "cell_type": "code",
      "execution_count": null,
      "metadata": {
        "id": "Ff64YLW3zquQ"
      },
      "outputs": [],
      "source": [
        "def test_accuracy_on_dataset(dataset_path:str, subdir_path:str=\"\") -> dict:\n",
        "  with open(os.path.join(OCD_DATA_DIR, 'splits', dataset_path, 'all.txt')) as f:\n",
        "    true_labels_dict = dict([line.split() for line in f])\n",
        "\n",
        "  pred_labels_dict = {'correct': 0, 'incorrect': 0}\n",
        "  dir_path = os.path.join(OCD_DATA_DIR, dataset_path)\n",
        "\n",
        "  for filename in tqdm([os.path.join(dp, f) for dp, dn, fn in os.walk(os.path.expanduser(os.path.join(dir_path, subdir_path))) for f in fn]):\n",
        "    img = preprocess_parking_space(None, filename) # show_img=True\n",
        "    prediction = loaded_model.predict(img)\n",
        "    if str(np.argmax(prediction)) == true_labels_dict[filename.replace(dir_path + '/', '')]:\n",
        "      pred_labels_dict['correct'] += 1\n",
        "    else:\n",
        "      pred_labels_dict['incorrect'] += 1\n",
        "\n",
        "  return pred_labels_dict"
      ]
    },
    {
      "cell_type": "code",
      "source": [
        "# print(CNRParkAB_PATH, test_accuracy_on_dataset(CNRParkAB_PATH))\n",
        "# print(CNRParkEXT_PATH, test_accuracy_on_dataset(CNRParkEXT_PATH))\n",
        "# print(PKLot_PATH + 'PUC', test_accuracy_on_dataset(PKLot_PATH, 'PUC'))\n",
        "# print(PKLot_PATH + 'UFPR04', test_accuracy_on_dataset(PKLot_PATH, 'UFPR04'))\n",
        "# print(PKLot_PATH + 'UFPR05', test_accuracy_on_dataset(PKLot_PATH, 'UFPR05'))"
      ],
      "metadata": {
        "id": "ZanGwfyppCC-"
      },
      "execution_count": null,
      "outputs": []
    },
    {
      "cell_type": "markdown",
      "source": [
        "# Segmentation mask\n",
        "In Ubuntu as .py files."
      ],
      "metadata": {
        "id": "MrMFt8XbmXfo"
      }
    }
  ],
  "metadata": {
    "colab": {
      "collapsed_sections": [
        "qond89cYLaMJ"
      ],
      "name": "DP.ipynb",
      "provenance": []
    },
    "kernelspec": {
      "display_name": "Python 3",
      "name": "python3"
    },
    "widgets": {
      "application/vnd.jupyter.widget-state+json": {
        "0c3940bee0494ddd95bcc63025a39178": {
          "model_module": "@jupyter-widgets/controls",
          "model_name": "HBoxModel",
          "model_module_version": "1.5.0",
          "state": {
            "_view_name": "HBoxView",
            "_dom_classes": [],
            "_model_name": "HBoxModel",
            "_view_module": "@jupyter-widgets/controls",
            "_model_module_version": "1.5.0",
            "_view_count": null,
            "_view_module_version": "1.5.0",
            "box_style": "",
            "layout": "IPY_MODEL_c5bd758c3def443d962a7284a6d166fd",
            "_model_module": "@jupyter-widgets/controls",
            "children": [
              "IPY_MODEL_59f970f9ae8a493c92fc1b5955459b89",
              "IPY_MODEL_5cf1e67761b6473ab69ea2efb3fb4dfd",
              "IPY_MODEL_dcfcfd0ee5be4024ab2dbf2d7e877e64"
            ]
          }
        },
        "c5bd758c3def443d962a7284a6d166fd": {
          "model_module": "@jupyter-widgets/base",
          "model_name": "LayoutModel",
          "model_module_version": "1.2.0",
          "state": {
            "_view_name": "LayoutView",
            "grid_template_rows": null,
            "right": null,
            "justify_content": null,
            "_view_module": "@jupyter-widgets/base",
            "overflow": null,
            "_model_module_version": "1.2.0",
            "_view_count": null,
            "flex_flow": null,
            "width": null,
            "min_width": null,
            "border": null,
            "align_items": null,
            "bottom": null,
            "_model_module": "@jupyter-widgets/base",
            "top": null,
            "grid_column": null,
            "overflow_y": null,
            "overflow_x": null,
            "grid_auto_flow": null,
            "grid_area": null,
            "grid_template_columns": null,
            "flex": null,
            "_model_name": "LayoutModel",
            "justify_items": null,
            "grid_row": null,
            "max_height": null,
            "align_content": null,
            "visibility": null,
            "align_self": null,
            "height": null,
            "min_height": null,
            "padding": null,
            "grid_auto_rows": null,
            "grid_gap": null,
            "max_width": null,
            "order": null,
            "_view_module_version": "1.2.0",
            "grid_template_areas": null,
            "object_position": null,
            "object_fit": null,
            "grid_auto_columns": null,
            "margin": null,
            "display": null,
            "left": null
          }
        },
        "59f970f9ae8a493c92fc1b5955459b89": {
          "model_module": "@jupyter-widgets/controls",
          "model_name": "HTMLModel",
          "model_module_version": "1.5.0",
          "state": {
            "_view_name": "HTMLView",
            "style": "IPY_MODEL_00ddc3a1242d43b09f176baa15d0b53c",
            "_dom_classes": [],
            "description": "",
            "_model_name": "HTMLModel",
            "placeholder": "​",
            "_view_module": "@jupyter-widgets/controls",
            "_model_module_version": "1.5.0",
            "value": "100%",
            "_view_count": null,
            "_view_module_version": "1.5.0",
            "description_tooltip": null,
            "_model_module": "@jupyter-widgets/controls",
            "layout": "IPY_MODEL_f26b475293c84e66aec00592f0aaf66e"
          }
        },
        "5cf1e67761b6473ab69ea2efb3fb4dfd": {
          "model_module": "@jupyter-widgets/controls",
          "model_name": "FloatProgressModel",
          "model_module_version": "1.5.0",
          "state": {
            "_view_name": "ProgressView",
            "style": "IPY_MODEL_1356e2a8fcbf4d20ac0ddf86284e2830",
            "_dom_classes": [],
            "description": "",
            "_model_name": "FloatProgressModel",
            "bar_style": "success",
            "max": 12584,
            "_view_module": "@jupyter-widgets/controls",
            "_model_module_version": "1.5.0",
            "value": 12584,
            "_view_count": null,
            "_view_module_version": "1.5.0",
            "orientation": "horizontal",
            "min": 0,
            "description_tooltip": null,
            "_model_module": "@jupyter-widgets/controls",
            "layout": "IPY_MODEL_f73b77054c2e433fb86c78768d1bd038"
          }
        },
        "dcfcfd0ee5be4024ab2dbf2d7e877e64": {
          "model_module": "@jupyter-widgets/controls",
          "model_name": "HTMLModel",
          "model_module_version": "1.5.0",
          "state": {
            "_view_name": "HTMLView",
            "style": "IPY_MODEL_891c27dfd01543bfb10432a9dd9b32a1",
            "_dom_classes": [],
            "description": "",
            "_model_name": "HTMLModel",
            "placeholder": "​",
            "_view_module": "@jupyter-widgets/controls",
            "_model_module_version": "1.5.0",
            "value": " 12584/12584 [00:04&lt;00:00, 2770.51it/s]",
            "_view_count": null,
            "_view_module_version": "1.5.0",
            "description_tooltip": null,
            "_model_module": "@jupyter-widgets/controls",
            "layout": "IPY_MODEL_480e6cf38d0041e68eaa29267ac8e580"
          }
        },
        "00ddc3a1242d43b09f176baa15d0b53c": {
          "model_module": "@jupyter-widgets/controls",
          "model_name": "DescriptionStyleModel",
          "model_module_version": "1.5.0",
          "state": {
            "_view_name": "StyleView",
            "_model_name": "DescriptionStyleModel",
            "description_width": "",
            "_view_module": "@jupyter-widgets/base",
            "_model_module_version": "1.5.0",
            "_view_count": null,
            "_view_module_version": "1.2.0",
            "_model_module": "@jupyter-widgets/controls"
          }
        },
        "f26b475293c84e66aec00592f0aaf66e": {
          "model_module": "@jupyter-widgets/base",
          "model_name": "LayoutModel",
          "model_module_version": "1.2.0",
          "state": {
            "_view_name": "LayoutView",
            "grid_template_rows": null,
            "right": null,
            "justify_content": null,
            "_view_module": "@jupyter-widgets/base",
            "overflow": null,
            "_model_module_version": "1.2.0",
            "_view_count": null,
            "flex_flow": null,
            "width": null,
            "min_width": null,
            "border": null,
            "align_items": null,
            "bottom": null,
            "_model_module": "@jupyter-widgets/base",
            "top": null,
            "grid_column": null,
            "overflow_y": null,
            "overflow_x": null,
            "grid_auto_flow": null,
            "grid_area": null,
            "grid_template_columns": null,
            "flex": null,
            "_model_name": "LayoutModel",
            "justify_items": null,
            "grid_row": null,
            "max_height": null,
            "align_content": null,
            "visibility": null,
            "align_self": null,
            "height": null,
            "min_height": null,
            "padding": null,
            "grid_auto_rows": null,
            "grid_gap": null,
            "max_width": null,
            "order": null,
            "_view_module_version": "1.2.0",
            "grid_template_areas": null,
            "object_position": null,
            "object_fit": null,
            "grid_auto_columns": null,
            "margin": null,
            "display": null,
            "left": null
          }
        },
        "1356e2a8fcbf4d20ac0ddf86284e2830": {
          "model_module": "@jupyter-widgets/controls",
          "model_name": "ProgressStyleModel",
          "model_module_version": "1.5.0",
          "state": {
            "_view_name": "StyleView",
            "_model_name": "ProgressStyleModel",
            "description_width": "",
            "_view_module": "@jupyter-widgets/base",
            "_model_module_version": "1.5.0",
            "_view_count": null,
            "_view_module_version": "1.2.0",
            "bar_color": null,
            "_model_module": "@jupyter-widgets/controls"
          }
        },
        "f73b77054c2e433fb86c78768d1bd038": {
          "model_module": "@jupyter-widgets/base",
          "model_name": "LayoutModel",
          "model_module_version": "1.2.0",
          "state": {
            "_view_name": "LayoutView",
            "grid_template_rows": null,
            "right": null,
            "justify_content": null,
            "_view_module": "@jupyter-widgets/base",
            "overflow": null,
            "_model_module_version": "1.2.0",
            "_view_count": null,
            "flex_flow": null,
            "width": null,
            "min_width": null,
            "border": null,
            "align_items": null,
            "bottom": null,
            "_model_module": "@jupyter-widgets/base",
            "top": null,
            "grid_column": null,
            "overflow_y": null,
            "overflow_x": null,
            "grid_auto_flow": null,
            "grid_area": null,
            "grid_template_columns": null,
            "flex": null,
            "_model_name": "LayoutModel",
            "justify_items": null,
            "grid_row": null,
            "max_height": null,
            "align_content": null,
            "visibility": null,
            "align_self": null,
            "height": null,
            "min_height": null,
            "padding": null,
            "grid_auto_rows": null,
            "grid_gap": null,
            "max_width": null,
            "order": null,
            "_view_module_version": "1.2.0",
            "grid_template_areas": null,
            "object_position": null,
            "object_fit": null,
            "grid_auto_columns": null,
            "margin": null,
            "display": null,
            "left": null
          }
        },
        "891c27dfd01543bfb10432a9dd9b32a1": {
          "model_module": "@jupyter-widgets/controls",
          "model_name": "DescriptionStyleModel",
          "model_module_version": "1.5.0",
          "state": {
            "_view_name": "StyleView",
            "_model_name": "DescriptionStyleModel",
            "description_width": "",
            "_view_module": "@jupyter-widgets/base",
            "_model_module_version": "1.5.0",
            "_view_count": null,
            "_view_module_version": "1.2.0",
            "_model_module": "@jupyter-widgets/controls"
          }
        },
        "480e6cf38d0041e68eaa29267ac8e580": {
          "model_module": "@jupyter-widgets/base",
          "model_name": "LayoutModel",
          "model_module_version": "1.2.0",
          "state": {
            "_view_name": "LayoutView",
            "grid_template_rows": null,
            "right": null,
            "justify_content": null,
            "_view_module": "@jupyter-widgets/base",
            "overflow": null,
            "_model_module_version": "1.2.0",
            "_view_count": null,
            "flex_flow": null,
            "width": null,
            "min_width": null,
            "border": null,
            "align_items": null,
            "bottom": null,
            "_model_module": "@jupyter-widgets/base",
            "top": null,
            "grid_column": null,
            "overflow_y": null,
            "overflow_x": null,
            "grid_auto_flow": null,
            "grid_area": null,
            "grid_template_columns": null,
            "flex": null,
            "_model_name": "LayoutModel",
            "justify_items": null,
            "grid_row": null,
            "max_height": null,
            "align_content": null,
            "visibility": null,
            "align_self": null,
            "height": null,
            "min_height": null,
            "padding": null,
            "grid_auto_rows": null,
            "grid_gap": null,
            "max_width": null,
            "order": null,
            "_view_module_version": "1.2.0",
            "grid_template_areas": null,
            "object_position": null,
            "object_fit": null,
            "grid_auto_columns": null,
            "margin": null,
            "display": null,
            "left": null
          }
        },
        "c3ce77871a744dc6ae83317c657435e5": {
          "model_module": "@jupyter-widgets/controls",
          "model_name": "HBoxModel",
          "model_module_version": "1.5.0",
          "state": {
            "_view_name": "HBoxView",
            "_dom_classes": [],
            "_model_name": "HBoxModel",
            "_view_module": "@jupyter-widgets/controls",
            "_model_module_version": "1.5.0",
            "_view_count": null,
            "_view_module_version": "1.5.0",
            "box_style": "",
            "layout": "IPY_MODEL_9dae2427a64e4464b52e123ff27d170e",
            "_model_module": "@jupyter-widgets/controls",
            "children": [
              "IPY_MODEL_c6527dd086294615b8f310144120d4eb",
              "IPY_MODEL_f48af459932e4ff28baf187af90d96f9",
              "IPY_MODEL_f0d159a234e540d3bfed91751376a4e7"
            ]
          }
        },
        "9dae2427a64e4464b52e123ff27d170e": {
          "model_module": "@jupyter-widgets/base",
          "model_name": "LayoutModel",
          "model_module_version": "1.2.0",
          "state": {
            "_view_name": "LayoutView",
            "grid_template_rows": null,
            "right": null,
            "justify_content": null,
            "_view_module": "@jupyter-widgets/base",
            "overflow": null,
            "_model_module_version": "1.2.0",
            "_view_count": null,
            "flex_flow": null,
            "width": null,
            "min_width": null,
            "border": null,
            "align_items": null,
            "bottom": null,
            "_model_module": "@jupyter-widgets/base",
            "top": null,
            "grid_column": null,
            "overflow_y": null,
            "overflow_x": null,
            "grid_auto_flow": null,
            "grid_area": null,
            "grid_template_columns": null,
            "flex": null,
            "_model_name": "LayoutModel",
            "justify_items": null,
            "grid_row": null,
            "max_height": null,
            "align_content": null,
            "visibility": null,
            "align_self": null,
            "height": null,
            "min_height": null,
            "padding": null,
            "grid_auto_rows": null,
            "grid_gap": null,
            "max_width": null,
            "order": null,
            "_view_module_version": "1.2.0",
            "grid_template_areas": null,
            "object_position": null,
            "object_fit": null,
            "grid_auto_columns": null,
            "margin": null,
            "display": null,
            "left": null
          }
        },
        "c6527dd086294615b8f310144120d4eb": {
          "model_module": "@jupyter-widgets/controls",
          "model_name": "HTMLModel",
          "model_module_version": "1.5.0",
          "state": {
            "_view_name": "HTMLView",
            "style": "IPY_MODEL_77c59b2af8d1417cb95174d7a4e9c199",
            "_dom_classes": [],
            "description": "",
            "_model_name": "HTMLModel",
            "placeholder": "​",
            "_view_module": "@jupyter-widgets/controls",
            "_model_module_version": "1.5.0",
            "value": "100%",
            "_view_count": null,
            "_view_module_version": "1.5.0",
            "description_tooltip": null,
            "_model_module": "@jupyter-widgets/controls",
            "layout": "IPY_MODEL_473833edb15046939db245091d5c3134"
          }
        },
        "f48af459932e4ff28baf187af90d96f9": {
          "model_module": "@jupyter-widgets/controls",
          "model_name": "FloatProgressModel",
          "model_module_version": "1.5.0",
          "state": {
            "_view_name": "ProgressView",
            "style": "IPY_MODEL_2a8aee8d4403433badcac8318fddcdea",
            "_dom_classes": [],
            "description": "",
            "_model_name": "FloatProgressModel",
            "bar_style": "success",
            "max": 144965,
            "_view_module": "@jupyter-widgets/controls",
            "_model_module_version": "1.5.0",
            "value": 144965,
            "_view_count": null,
            "_view_module_version": "1.5.0",
            "orientation": "horizontal",
            "min": 0,
            "description_tooltip": null,
            "_model_module": "@jupyter-widgets/controls",
            "layout": "IPY_MODEL_2bf559ca856f4f51bd368a9c3c4026e1"
          }
        },
        "f0d159a234e540d3bfed91751376a4e7": {
          "model_module": "@jupyter-widgets/controls",
          "model_name": "HTMLModel",
          "model_module_version": "1.5.0",
          "state": {
            "_view_name": "HTMLView",
            "style": "IPY_MODEL_b0f199c359b04b3e81074812ac4d06eb",
            "_dom_classes": [],
            "description": "",
            "_model_name": "HTMLModel",
            "placeholder": "​",
            "_view_module": "@jupyter-widgets/controls",
            "_model_module_version": "1.5.0",
            "value": " 144965/144965 [01:06&lt;00:00, 2062.54it/s]",
            "_view_count": null,
            "_view_module_version": "1.5.0",
            "description_tooltip": null,
            "_model_module": "@jupyter-widgets/controls",
            "layout": "IPY_MODEL_46088d6c5d204b308ce23c62d33b3c6a"
          }
        },
        "77c59b2af8d1417cb95174d7a4e9c199": {
          "model_module": "@jupyter-widgets/controls",
          "model_name": "DescriptionStyleModel",
          "model_module_version": "1.5.0",
          "state": {
            "_view_name": "StyleView",
            "_model_name": "DescriptionStyleModel",
            "description_width": "",
            "_view_module": "@jupyter-widgets/base",
            "_model_module_version": "1.5.0",
            "_view_count": null,
            "_view_module_version": "1.2.0",
            "_model_module": "@jupyter-widgets/controls"
          }
        },
        "473833edb15046939db245091d5c3134": {
          "model_module": "@jupyter-widgets/base",
          "model_name": "LayoutModel",
          "model_module_version": "1.2.0",
          "state": {
            "_view_name": "LayoutView",
            "grid_template_rows": null,
            "right": null,
            "justify_content": null,
            "_view_module": "@jupyter-widgets/base",
            "overflow": null,
            "_model_module_version": "1.2.0",
            "_view_count": null,
            "flex_flow": null,
            "width": null,
            "min_width": null,
            "border": null,
            "align_items": null,
            "bottom": null,
            "_model_module": "@jupyter-widgets/base",
            "top": null,
            "grid_column": null,
            "overflow_y": null,
            "overflow_x": null,
            "grid_auto_flow": null,
            "grid_area": null,
            "grid_template_columns": null,
            "flex": null,
            "_model_name": "LayoutModel",
            "justify_items": null,
            "grid_row": null,
            "max_height": null,
            "align_content": null,
            "visibility": null,
            "align_self": null,
            "height": null,
            "min_height": null,
            "padding": null,
            "grid_auto_rows": null,
            "grid_gap": null,
            "max_width": null,
            "order": null,
            "_view_module_version": "1.2.0",
            "grid_template_areas": null,
            "object_position": null,
            "object_fit": null,
            "grid_auto_columns": null,
            "margin": null,
            "display": null,
            "left": null
          }
        },
        "2a8aee8d4403433badcac8318fddcdea": {
          "model_module": "@jupyter-widgets/controls",
          "model_name": "ProgressStyleModel",
          "model_module_version": "1.5.0",
          "state": {
            "_view_name": "StyleView",
            "_model_name": "ProgressStyleModel",
            "description_width": "",
            "_view_module": "@jupyter-widgets/base",
            "_model_module_version": "1.5.0",
            "_view_count": null,
            "_view_module_version": "1.2.0",
            "bar_color": null,
            "_model_module": "@jupyter-widgets/controls"
          }
        },
        "2bf559ca856f4f51bd368a9c3c4026e1": {
          "model_module": "@jupyter-widgets/base",
          "model_name": "LayoutModel",
          "model_module_version": "1.2.0",
          "state": {
            "_view_name": "LayoutView",
            "grid_template_rows": null,
            "right": null,
            "justify_content": null,
            "_view_module": "@jupyter-widgets/base",
            "overflow": null,
            "_model_module_version": "1.2.0",
            "_view_count": null,
            "flex_flow": null,
            "width": null,
            "min_width": null,
            "border": null,
            "align_items": null,
            "bottom": null,
            "_model_module": "@jupyter-widgets/base",
            "top": null,
            "grid_column": null,
            "overflow_y": null,
            "overflow_x": null,
            "grid_auto_flow": null,
            "grid_area": null,
            "grid_template_columns": null,
            "flex": null,
            "_model_name": "LayoutModel",
            "justify_items": null,
            "grid_row": null,
            "max_height": null,
            "align_content": null,
            "visibility": null,
            "align_self": null,
            "height": null,
            "min_height": null,
            "padding": null,
            "grid_auto_rows": null,
            "grid_gap": null,
            "max_width": null,
            "order": null,
            "_view_module_version": "1.2.0",
            "grid_template_areas": null,
            "object_position": null,
            "object_fit": null,
            "grid_auto_columns": null,
            "margin": null,
            "display": null,
            "left": null
          }
        },
        "b0f199c359b04b3e81074812ac4d06eb": {
          "model_module": "@jupyter-widgets/controls",
          "model_name": "DescriptionStyleModel",
          "model_module_version": "1.5.0",
          "state": {
            "_view_name": "StyleView",
            "_model_name": "DescriptionStyleModel",
            "description_width": "",
            "_view_module": "@jupyter-widgets/base",
            "_model_module_version": "1.5.0",
            "_view_count": null,
            "_view_module_version": "1.2.0",
            "_model_module": "@jupyter-widgets/controls"
          }
        },
        "46088d6c5d204b308ce23c62d33b3c6a": {
          "model_module": "@jupyter-widgets/base",
          "model_name": "LayoutModel",
          "model_module_version": "1.2.0",
          "state": {
            "_view_name": "LayoutView",
            "grid_template_rows": null,
            "right": null,
            "justify_content": null,
            "_view_module": "@jupyter-widgets/base",
            "overflow": null,
            "_model_module_version": "1.2.0",
            "_view_count": null,
            "flex_flow": null,
            "width": null,
            "min_width": null,
            "border": null,
            "align_items": null,
            "bottom": null,
            "_model_module": "@jupyter-widgets/base",
            "top": null,
            "grid_column": null,
            "overflow_y": null,
            "overflow_x": null,
            "grid_auto_flow": null,
            "grid_area": null,
            "grid_template_columns": null,
            "flex": null,
            "_model_name": "LayoutModel",
            "justify_items": null,
            "grid_row": null,
            "max_height": null,
            "align_content": null,
            "visibility": null,
            "align_self": null,
            "height": null,
            "min_height": null,
            "padding": null,
            "grid_auto_rows": null,
            "grid_gap": null,
            "max_width": null,
            "order": null,
            "_view_module_version": "1.2.0",
            "grid_template_areas": null,
            "object_position": null,
            "object_fit": null,
            "grid_auto_columns": null,
            "margin": null,
            "display": null,
            "left": null
          }
        },
        "4335db990b924b19bd2fdbf6cea76e50": {
          "model_module": "@jupyter-widgets/controls",
          "model_name": "HBoxModel",
          "model_module_version": "1.5.0",
          "state": {
            "_view_name": "HBoxView",
            "_dom_classes": [],
            "_model_name": "HBoxModel",
            "_view_module": "@jupyter-widgets/controls",
            "_model_module_version": "1.5.0",
            "_view_count": null,
            "_view_module_version": "1.5.0",
            "box_style": "",
            "layout": "IPY_MODEL_29168e27ec5c4eb78ffaa1fb85e89412",
            "_model_module": "@jupyter-widgets/controls",
            "children": [
              "IPY_MODEL_759c759ecba041a88d3fa31101fa2b6e",
              "IPY_MODEL_7e3fb49a44e04264b7046b222bd9500f",
              "IPY_MODEL_2f4e25a4f66842c49c5361621b691f61"
            ]
          }
        },
        "29168e27ec5c4eb78ffaa1fb85e89412": {
          "model_module": "@jupyter-widgets/base",
          "model_name": "LayoutModel",
          "model_module_version": "1.2.0",
          "state": {
            "_view_name": "LayoutView",
            "grid_template_rows": null,
            "right": null,
            "justify_content": null,
            "_view_module": "@jupyter-widgets/base",
            "overflow": null,
            "_model_module_version": "1.2.0",
            "_view_count": null,
            "flex_flow": null,
            "width": null,
            "min_width": null,
            "border": null,
            "align_items": null,
            "bottom": null,
            "_model_module": "@jupyter-widgets/base",
            "top": null,
            "grid_column": null,
            "overflow_y": null,
            "overflow_x": null,
            "grid_auto_flow": null,
            "grid_area": null,
            "grid_template_columns": null,
            "flex": null,
            "_model_name": "LayoutModel",
            "justify_items": null,
            "grid_row": null,
            "max_height": null,
            "align_content": null,
            "visibility": null,
            "align_self": null,
            "height": null,
            "min_height": null,
            "padding": null,
            "grid_auto_rows": null,
            "grid_gap": null,
            "max_width": null,
            "order": null,
            "_view_module_version": "1.2.0",
            "grid_template_areas": null,
            "object_position": null,
            "object_fit": null,
            "grid_auto_columns": null,
            "margin": null,
            "display": null,
            "left": null
          }
        },
        "759c759ecba041a88d3fa31101fa2b6e": {
          "model_module": "@jupyter-widgets/controls",
          "model_name": "HTMLModel",
          "model_module_version": "1.5.0",
          "state": {
            "_view_name": "HTMLView",
            "style": "IPY_MODEL_de1a795b609c4dacb79fc0676bbcd6ae",
            "_dom_classes": [],
            "description": "",
            "_model_name": "HTMLModel",
            "placeholder": "​",
            "_view_module": "@jupyter-widgets/controls",
            "_model_module_version": "1.5.0",
            "value": "100%",
            "_view_count": null,
            "_view_module_version": "1.5.0",
            "description_tooltip": null,
            "_model_module": "@jupyter-widgets/controls",
            "layout": "IPY_MODEL_9bbc0c2785624b288d66f7ebf769c727"
          }
        },
        "7e3fb49a44e04264b7046b222bd9500f": {
          "model_module": "@jupyter-widgets/controls",
          "model_name": "FloatProgressModel",
          "model_module_version": "1.5.0",
          "state": {
            "_view_name": "ProgressView",
            "style": "IPY_MODEL_b60ebce55adc4f97ada027351e9f11d2",
            "_dom_classes": [],
            "description": "",
            "_model_name": "FloatProgressModel",
            "bar_style": "success",
            "max": 695851,
            "_view_module": "@jupyter-widgets/controls",
            "_model_module_version": "1.5.0",
            "value": 695851,
            "_view_count": null,
            "_view_module_version": "1.5.0",
            "orientation": "horizontal",
            "min": 0,
            "description_tooltip": null,
            "_model_module": "@jupyter-widgets/controls",
            "layout": "IPY_MODEL_e4a3fab7a76f48fe8d67a790020c2d0a"
          }
        },
        "2f4e25a4f66842c49c5361621b691f61": {
          "model_module": "@jupyter-widgets/controls",
          "model_name": "HTMLModel",
          "model_module_version": "1.5.0",
          "state": {
            "_view_name": "HTMLView",
            "style": "IPY_MODEL_e7c4174e97754ac18f207de1d3fbca3e",
            "_dom_classes": [],
            "description": "",
            "_model_name": "HTMLModel",
            "placeholder": "​",
            "_view_module": "@jupyter-widgets/controls",
            "_model_module_version": "1.5.0",
            "value": " 695851/695851 [06:35&lt;00:00, 1829.68it/s]",
            "_view_count": null,
            "_view_module_version": "1.5.0",
            "description_tooltip": null,
            "_model_module": "@jupyter-widgets/controls",
            "layout": "IPY_MODEL_6f88c88994f54ba1b825d505b1d346d9"
          }
        },
        "de1a795b609c4dacb79fc0676bbcd6ae": {
          "model_module": "@jupyter-widgets/controls",
          "model_name": "DescriptionStyleModel",
          "model_module_version": "1.5.0",
          "state": {
            "_view_name": "StyleView",
            "_model_name": "DescriptionStyleModel",
            "description_width": "",
            "_view_module": "@jupyter-widgets/base",
            "_model_module_version": "1.5.0",
            "_view_count": null,
            "_view_module_version": "1.2.0",
            "_model_module": "@jupyter-widgets/controls"
          }
        },
        "9bbc0c2785624b288d66f7ebf769c727": {
          "model_module": "@jupyter-widgets/base",
          "model_name": "LayoutModel",
          "model_module_version": "1.2.0",
          "state": {
            "_view_name": "LayoutView",
            "grid_template_rows": null,
            "right": null,
            "justify_content": null,
            "_view_module": "@jupyter-widgets/base",
            "overflow": null,
            "_model_module_version": "1.2.0",
            "_view_count": null,
            "flex_flow": null,
            "width": null,
            "min_width": null,
            "border": null,
            "align_items": null,
            "bottom": null,
            "_model_module": "@jupyter-widgets/base",
            "top": null,
            "grid_column": null,
            "overflow_y": null,
            "overflow_x": null,
            "grid_auto_flow": null,
            "grid_area": null,
            "grid_template_columns": null,
            "flex": null,
            "_model_name": "LayoutModel",
            "justify_items": null,
            "grid_row": null,
            "max_height": null,
            "align_content": null,
            "visibility": null,
            "align_self": null,
            "height": null,
            "min_height": null,
            "padding": null,
            "grid_auto_rows": null,
            "grid_gap": null,
            "max_width": null,
            "order": null,
            "_view_module_version": "1.2.0",
            "grid_template_areas": null,
            "object_position": null,
            "object_fit": null,
            "grid_auto_columns": null,
            "margin": null,
            "display": null,
            "left": null
          }
        },
        "b60ebce55adc4f97ada027351e9f11d2": {
          "model_module": "@jupyter-widgets/controls",
          "model_name": "ProgressStyleModel",
          "model_module_version": "1.5.0",
          "state": {
            "_view_name": "StyleView",
            "_model_name": "ProgressStyleModel",
            "description_width": "",
            "_view_module": "@jupyter-widgets/base",
            "_model_module_version": "1.5.0",
            "_view_count": null,
            "_view_module_version": "1.2.0",
            "bar_color": null,
            "_model_module": "@jupyter-widgets/controls"
          }
        },
        "e4a3fab7a76f48fe8d67a790020c2d0a": {
          "model_module": "@jupyter-widgets/base",
          "model_name": "LayoutModel",
          "model_module_version": "1.2.0",
          "state": {
            "_view_name": "LayoutView",
            "grid_template_rows": null,
            "right": null,
            "justify_content": null,
            "_view_module": "@jupyter-widgets/base",
            "overflow": null,
            "_model_module_version": "1.2.0",
            "_view_count": null,
            "flex_flow": null,
            "width": null,
            "min_width": null,
            "border": null,
            "align_items": null,
            "bottom": null,
            "_model_module": "@jupyter-widgets/base",
            "top": null,
            "grid_column": null,
            "overflow_y": null,
            "overflow_x": null,
            "grid_auto_flow": null,
            "grid_area": null,
            "grid_template_columns": null,
            "flex": null,
            "_model_name": "LayoutModel",
            "justify_items": null,
            "grid_row": null,
            "max_height": null,
            "align_content": null,
            "visibility": null,
            "align_self": null,
            "height": null,
            "min_height": null,
            "padding": null,
            "grid_auto_rows": null,
            "grid_gap": null,
            "max_width": null,
            "order": null,
            "_view_module_version": "1.2.0",
            "grid_template_areas": null,
            "object_position": null,
            "object_fit": null,
            "grid_auto_columns": null,
            "margin": null,
            "display": null,
            "left": null
          }
        },
        "e7c4174e97754ac18f207de1d3fbca3e": {
          "model_module": "@jupyter-widgets/controls",
          "model_name": "DescriptionStyleModel",
          "model_module_version": "1.5.0",
          "state": {
            "_view_name": "StyleView",
            "_model_name": "DescriptionStyleModel",
            "description_width": "",
            "_view_module": "@jupyter-widgets/base",
            "_model_module_version": "1.5.0",
            "_view_count": null,
            "_view_module_version": "1.2.0",
            "_model_module": "@jupyter-widgets/controls"
          }
        },
        "6f88c88994f54ba1b825d505b1d346d9": {
          "model_module": "@jupyter-widgets/base",
          "model_name": "LayoutModel",
          "model_module_version": "1.2.0",
          "state": {
            "_view_name": "LayoutView",
            "grid_template_rows": null,
            "right": null,
            "justify_content": null,
            "_view_module": "@jupyter-widgets/base",
            "overflow": null,
            "_model_module_version": "1.2.0",
            "_view_count": null,
            "flex_flow": null,
            "width": null,
            "min_width": null,
            "border": null,
            "align_items": null,
            "bottom": null,
            "_model_module": "@jupyter-widgets/base",
            "top": null,
            "grid_column": null,
            "overflow_y": null,
            "overflow_x": null,
            "grid_auto_flow": null,
            "grid_area": null,
            "grid_template_columns": null,
            "flex": null,
            "_model_name": "LayoutModel",
            "justify_items": null,
            "grid_row": null,
            "max_height": null,
            "align_content": null,
            "visibility": null,
            "align_self": null,
            "height": null,
            "min_height": null,
            "padding": null,
            "grid_auto_rows": null,
            "grid_gap": null,
            "max_width": null,
            "order": null,
            "_view_module_version": "1.2.0",
            "grid_template_areas": null,
            "object_position": null,
            "object_fit": null,
            "grid_auto_columns": null,
            "margin": null,
            "display": null,
            "left": null
          }
        }
      }
    }
  },
  "nbformat": 4,
  "nbformat_minor": 0
}